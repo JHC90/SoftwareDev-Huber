{
 "cells": [
  {
   "cell_type": "code",
   "execution_count": 6,
   "metadata": {},
   "outputs": [],
   "source": [
    "# KN LInear Classifier, SVM & Softmax\n",
    "# Two layer NN\n",
    "# Image Feature"
   ]
  },
  {
   "cell_type": "code",
   "execution_count": 7,
   "metadata": {},
   "outputs": [],
   "source": [
    "import numpy as np"
   ]
  },
  {
   "cell_type": "code",
   "execution_count": 8,
   "metadata": {},
   "outputs": [],
   "source": [
    "# Laden der Daten\n",
    "train_X = np.load('./DATA/train_X.npy')\n",
    "train_y = np.load('./DATA/train_y.npy')\n",
    "test_X = np.load('./DATA/test_X.npy')\n",
    "test_y = np.load('./DATA/test_y.npy')"
   ]
  },
  {
   "cell_type": "code",
   "execution_count": 9,
   "metadata": {},
   "outputs": [
    {
     "name": "stdout",
     "output_type": "stream",
     "text": [
      "(50000, 3072)\n",
      "(50000, 10)\n",
      "(10000, 3072)\n",
      "(10000, 10)\n"
     ]
    }
   ],
   "source": [
    "print((train_X.shape))\n",
    "print((train_y.shape))\n",
    "print((test_X.shape))\n",
    "print((test_y.shape))"
   ]
  },
  {
   "cell_type": "markdown",
   "metadata": {},
   "source": [
    "# Nearest Neigbour / KNN = 1\n",
    "hier wird lediglich jedes Bild miteinander verglichen, hier werden lediglich die pixel von zwei bildern von einander abgezogen. Anschließend werden die übrigen "
   ]
  },
  {
   "cell_type": "markdown",
   "metadata": {},
   "source": [
    "Neares Neighbour = K-Nearest-Neighbour mit einer Variabel\n",
    "der KNN erwartet die X-Werte als 2 dimnesionale-Array => index \n"
   ]
  },
  {
   "cell_type": "markdown",
   "metadata": {},
   "source": [
    "## Verwendung der KNN-Methode von SK-Learn\n",
    "Diese Methode erwartet als Input einen 2-Dimensionalen Vector, daher muss zunächst ein Reshaping stattfinden"
   ]
  },
  {
   "cell_type": "raw",
   "metadata": {},
   "source": [
    "train_X_reshaped = train_X.reshape(50000,32*32*3)\n",
    "test_X_reshaped = test_X.reshape(10000,32*32*3)\n",
    "print(train_X_reshaped.shape)\n",
    "print(test_X_reshaped.shape)"
   ]
  },
  {
   "cell_type": "code",
   "execution_count": null,
   "metadata": {},
   "outputs": [],
   "source": [
    "from sklearn.neighbors import KNeighborsClassifier\n",
    "from sklearn import metrics\n",
    "k_range = [1]\n",
    "scores = {}\n",
    "scores_list = []\n",
    "for k in k_range:\n",
    "    knn = KNeighborsClassifier(n_neighbors=k)\n",
    "    knn.fit(train_X_reshaped, train_y)\n",
    "    pred_y = knn.predict(test_X_reshaped)\n",
    "    scores[k] = metrics.accuracy_score(y_test,pred_y)\n",
    "    scores_list.append(metrics.accuracy_score(test_y, pred_y))\n",
    "print(scores_list)"
   ]
  },
  {
   "cell_type": "markdown",
   "metadata": {},
   "source": [
    "## Eigene Erstellung des NN-Algorithmus"
   ]
  },
  {
   "cell_type": "code",
   "execution_count": 10,
   "metadata": {},
   "outputs": [],
   "source": [
    "class NearestNeighbor(object):\n",
    "    def __init__(self):\n",
    "        pass\n",
    "\n",
    "    def train(self, X, y):\n",
    "        self.X = X\n",
    "        self.y = y\n",
    "\n",
    "    def predictSinglePicture(self, test_X_single):\n",
    "        distances = []\n",
    "        for i in range(0, len(self.X), 1):\n",
    "            currentDiff = self.X[i] - test_X_single\n",
    "            distances.append(np.argmin(currentDiff))\n",
    "        indexOfPictureWithMindDif = np.argmin(distances)\n",
    "        print(train_y[indexOfPictureWithMindDif])\n",
    "        \n",
    "\n",
    "    def predictTestSet(self, test_X, test_y, train_y):\n",
    "        correctClassified = 0\n",
    "        falesClassified = 0\n",
    "        for i in range(0, len(test_X), 1): #wdh 1000x\n",
    "            realPicture = test_y[i]\n",
    "            distances = []\n",
    "            for j in range(0, len(self.X),1): # wdh 50000x\n",
    "                currentDiff = self.X[j] - test_X[i]\n",
    "                distances.append(np.argmin(currentDiff))\n",
    "            indexOfPictureWithMindDif = np.argmin(distances)\n",
    "\n",
    "            if(str(train_y[indexOfPictureWithMindDif]) == str(realPicture)):\n",
    "                correctClassified = correctClassified + 1\n",
    "            else:\n",
    "                falesClassified = falesClassified + 1    \n",
    "            if(i % 100 == 0):\n",
    "                print(i)\n",
    "            \n",
    "        print(correctClassified)\n",
    "        print(falesClassified)\n",
    "        "
   ]
  },
  {
   "cell_type": "code",
   "execution_count": null,
   "metadata": {},
   "outputs": [
    {
     "name": "stdout",
     "output_type": "stream",
     "text": [
      "0\n",
      "100\n"
     ]
    }
   ],
   "source": [
    "NN = NearestNeighbor()\n",
    "NN.train(train_X, train_y)\n",
    "NN.predictTestSet(test_X, test_y, train_y) # correct13 / false87"
   ]
  },
  {
   "cell_type": "code",
   "execution_count": null,
   "metadata": {},
   "outputs": [],
   "source": [
    "#BSP-Predicitio für bild \"num\"\n",
    "num = 12\n",
    "NN.predictSinglePicture(test_X[num])\n",
    "print(test_y[num])"
   ]
  },
  {
   "cell_type": "markdown",
   "metadata": {},
   "source": [
    "# KNN"
   ]
  },
  {
   "cell_type": "markdown",
   "metadata": {},
   "source": [
    "## Sk-Learn"
   ]
  },
  {
   "cell_type": "code",
   "execution_count": null,
   "metadata": {},
   "outputs": [],
   "source": [
    "k_range = [2,3,4]\n",
    "scores = {}\n",
    "scores_list = []\n",
    "for k in k_range:\n",
    "    knn = KNeighborsClassifier(n_neighbors=k)\n",
    "    knn.fit(train_X_reshaped, train_y)\n",
    "    pred_y = knn.predict(test_X_reshaped)\n",
    "    scores[k] = metrics.accuracy_score(y_test,pred_y)\n",
    "    scores_list.append(metrics.accuracy_score(test_y, pred_y))\n",
    "print(scores_list)"
   ]
  },
  {
   "cell_type": "markdown",
   "metadata": {},
   "source": [
    "## Eigene Erstellung des kNN-Algorithmus"
   ]
  }
 ],
 "metadata": {
  "kernelspec": {
   "display_name": "Python 3",
   "language": "python",
   "name": "python3"
  },
  "language_info": {
   "codemirror_mode": {
    "name": "ipython",
    "version": 3
   },
   "file_extension": ".py",
   "mimetype": "text/x-python",
   "name": "python",
   "nbconvert_exporter": "python",
   "pygments_lexer": "ipython3",
   "version": "3.5.6"
  }
 },
 "nbformat": 4,
 "nbformat_minor": 2
}
