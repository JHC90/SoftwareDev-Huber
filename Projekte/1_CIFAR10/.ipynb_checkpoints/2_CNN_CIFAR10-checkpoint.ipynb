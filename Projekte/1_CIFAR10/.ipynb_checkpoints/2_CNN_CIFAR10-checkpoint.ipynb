{
 "cells": [
  {
   "cell_type": "markdown",
   "metadata": {},
   "source": [
    "# CNN Cifar 10\n",
    "Das nachfolgende Notebook stammt von der KERAS-Dokumentaiton: https://keras.io/examples/cifar10_cnn/"
   ]
  },
  {
   "cell_type": "code",
   "execution_count": 5,
   "metadata": {},
   "outputs": [],
   "source": [
    "from __future__ import print_function\n",
    "import keras\n",
    "from keras.datasets import cifar10\n",
    "from keras.preprocessing.image import ImageDataGenerator\n",
    "from keras.models import Sequential\n",
    "from keras.layers import Dense, Dropout, Activation, Flatten\n",
    "from keras.layers import Conv2D, MaxPooling2D\n",
    "import os"
   ]
  },
  {
   "cell_type": "code",
   "execution_count": 6,
   "metadata": {},
   "outputs": [],
   "source": [
    "batch_size = 32 # 50000/32 = 1563 => können später in dem Model fit beobachtet werden\n",
    "num_classes = 10\n",
    "epochs = 20\n",
    "data_augmentation = False # Schalter für die Image Änderung // dient dem Entgegenwirken von Overfitting\n",
    "num_predictions = 20"
   ]
  },
  {
   "cell_type": "code",
   "execution_count": 7,
   "metadata": {},
   "outputs": [
    {
     "name": "stdout",
     "output_type": "stream",
     "text": [
      "x_train shape: (50000, 32, 32, 3)\n",
      "50000 train samples\n",
      "10000 test samples\n"
     ]
    }
   ],
   "source": [
    "# The data, split between train and test sets:\n",
    "(x_train, y_train), (x_test, y_test) = cifar10.load_data()\n",
    "print('x_train shape:', x_train.shape)\n",
    "print(x_train.shape[0], 'train samples')\n",
    "print(x_test.shape[0], 'test samples')\n",
    "\n",
    "x_train = x_train.astype('float32')\n",
    "x_test = x_test.astype('float32')\n",
    "x_train /= 255\n",
    "x_test /= 255\n",
    "\n",
    "# convert class vectors to binary class matrices\n",
    "y_train = keras.utils.to_categorical(y_train, num_classes)\n",
    "y_test = keras.utils.to_categorical(y_test, num_classes)\n"
   ]
  },
  {
   "cell_type": "code",
   "execution_count": 9,
   "metadata": {},
   "outputs": [],
   "source": [
    "modelcnn = Sequential()\n",
    "modelcnn.add(Conv2D(32, (3, 3), padding='same',\n",
    "                 input_shape=x_train.shape[1:]))\n",
    "modelcnn.add(Activation('relu'))\n",
    "modelcnn.add(Conv2D(32, (3, 3)))\n",
    "modelcnn.add(Activation('relu'))\n",
    "modelcnn.add(MaxPooling2D(pool_size=(2, 2)))\n",
    "modelcnn.add(Dropout(0.25))\n",
    "\n",
    "modelcnn.add(Conv2D(64, (3, 3), padding='same'))\n",
    "modelcnn.add(Activation('relu'))\n",
    "modelcnn.add(Conv2D(64, (3, 3)))\n",
    "modelcnn.add(Activation('relu'))\n",
    "modelcnn.add(MaxPooling2D(pool_size=(2, 2)))\n",
    "modelcnn.add(Dropout(0.25))"
   ]
  },
  {
   "cell_type": "code",
   "execution_count": 10,
   "metadata": {},
   "outputs": [],
   "source": [
    "modelcnn.add(Flatten())\n",
    "modelcnn.add(Dense(512))\n",
    "modelcnn.add(Activation('relu'))\n",
    "modelcnn.add(Dropout(0.5))\n",
    "modelcnn.add(Dense(num_classes))\n",
    "modelcnn.add(Activation('softmax'))"
   ]
  },
  {
   "cell_type": "code",
   "execution_count": 11,
   "metadata": {},
   "outputs": [],
   "source": [
    "# initiate RMSprop optimizer\n",
    "opt = keras.optimizers.RMSprop(learning_rate=0.0001, decay=1e-6)\n",
    "\n",
    "# Let's train the model using RMSprop\n",
    "modelcnn.compile(loss='categorical_crossentropy',\n",
    "              optimizer=opt,\n",
    "              metrics=['accuracy'])"
   ]
  },
  {
   "cell_type": "code",
   "execution_count": 12,
   "metadata": {},
   "outputs": [
    {
     "name": "stdout",
     "output_type": "stream",
     "text": [
      "Not using data augmentation.\n",
      "WARNING:tensorflow:From c:\\users\\1810837475\\.conda\\envs\\testtensorflow\\lib\\site-packages\\keras\\backend\\tensorflow_backend.py:422: The name tf.global_variables is deprecated. Please use tf.compat.v1.global_variables instead.\n",
      "\n",
      "Train on 50000 samples, validate on 10000 samples\n",
      "Epoch 1/20\n",
      "50000/50000 [==============================] - 403s 8ms/step - loss: 1.8339 - accuracy: 0.3297 - val_loss: 1.6482 - val_accuracy: 0.4100\n",
      "Epoch 2/20\n",
      "50000/50000 [==============================] - 617s 12ms/step - loss: 1.5060 - accuracy: 0.4535 - val_loss: 1.4098 - val_accuracy: 0.4922\n",
      "Epoch 3/20\n",
      "50000/50000 [==============================] - 627s 13ms/step - loss: 1.3622 - accuracy: 0.5122 - val_loss: 1.2278 - val_accuracy: 0.5679\n",
      "Epoch 4/20\n",
      "50000/50000 [==============================] - 592s 12ms/step - loss: 1.2588 - accuracy: 0.5530 - val_loss: 1.2175 - val_accuracy: 0.5744\n",
      "Epoch 5/20\n",
      "50000/50000 [==============================] - 435s 9ms/step - loss: 1.1792 - accuracy: 0.5847 - val_loss: 1.0845 - val_accuracy: 0.6225\n",
      "Epoch 6/20\n",
      "50000/50000 [==============================] - 289s 6ms/step - loss: 1.1177 - accuracy: 0.6079 - val_loss: 1.0489 - val_accuracy: 0.6299\n",
      "Epoch 7/20\n",
      "50000/50000 [==============================] - 282s 6ms/step - loss: 1.0599 - accuracy: 0.6297 - val_loss: 0.9736 - val_accuracy: 0.6615\n",
      "Epoch 8/20\n",
      "50000/50000 [==============================] - 282s 6ms/step - loss: 1.0111 - accuracy: 0.6453 - val_loss: 0.9821 - val_accuracy: 0.6572\n",
      "Epoch 9/20\n",
      "50000/50000 [==============================] - 281s 6ms/step - loss: 0.9703 - accuracy: 0.6592 - val_loss: 0.9124 - val_accuracy: 0.6811\n",
      "Epoch 10/20\n",
      "50000/50000 [==============================] - 281s 6ms/step - loss: 0.9372 - accuracy: 0.6707 - val_loss: 0.8867 - val_accuracy: 0.6938\n",
      "Epoch 11/20\n",
      "50000/50000 [==============================] - 282s 6ms/step - loss: 0.9061 - accuracy: 0.6823 - val_loss: 0.8553 - val_accuracy: 0.7010\n",
      "Epoch 12/20\n",
      "50000/50000 [==============================] - 282s 6ms/step - loss: 0.8791 - accuracy: 0.6909 - val_loss: 0.8349 - val_accuracy: 0.7087\n",
      "Epoch 13/20\n",
      "50000/50000 [==============================] - 282s 6ms/step - loss: 0.8606 - accuracy: 0.6986 - val_loss: 0.8062 - val_accuracy: 0.7188\n",
      "Epoch 14/20\n",
      "50000/50000 [==============================] - 283s 6ms/step - loss: 0.8354 - accuracy: 0.7093 - val_loss: 0.8645 - val_accuracy: 0.7058\n",
      "Epoch 15/20\n",
      "50000/50000 [==============================] - 281s 6ms/step - loss: 0.8209 - accuracy: 0.7135 - val_loss: 0.7787 - val_accuracy: 0.7305\n",
      "Epoch 16/20\n",
      "50000/50000 [==============================] - 282s 6ms/step - loss: 0.8047 - accuracy: 0.7195 - val_loss: 0.7936 - val_accuracy: 0.7294\n",
      "Epoch 17/20\n",
      "50000/50000 [==============================] - 284s 6ms/step - loss: 0.7911 - accuracy: 0.7275 - val_loss: 0.7760 - val_accuracy: 0.7297\n",
      "Epoch 18/20\n",
      "50000/50000 [==============================] - 284s 6ms/step - loss: 0.7767 - accuracy: 0.7296 - val_loss: 0.7531 - val_accuracy: 0.7400\n",
      "Epoch 19/20\n",
      "50000/50000 [==============================] - 282s 6ms/step - loss: 0.7638 - accuracy: 0.7341 - val_loss: 0.7454 - val_accuracy: 0.7448\n",
      "Epoch 20/20\n",
      "50000/50000 [==============================] - 286s 6ms/step - loss: 0.7578 - accuracy: 0.7383 - val_loss: 0.7392 - val_accuracy: 0.7498\n"
     ]
    }
   ],
   "source": [
    "if not data_augmentation:\n",
    "    print('Not using data augmentation.')\n",
    "    history = modelcnn.fit(x_train, y_train,\n",
    "              batch_size=batch_size,\n",
    "              epochs=epochs,\n",
    "              validation_data=(x_test, y_test),\n",
    "              shuffle=True)\n",
    "else:\n",
    "    print('Using real-time data augmentation.')\n",
    "    # This will do preprocessing and realtime data augmentation:\n",
    "    datagen = ImageDataGenerator(\n",
    "        featurewise_center=False,  # set input mean to 0 over the dataset\n",
    "        samplewise_center=False,  # set each sample mean to 0\n",
    "        featurewise_std_normalization=False,  # divide inputs by std of the dataset\n",
    "        samplewise_std_normalization=False,  # divide each input by its std\n",
    "        zca_whitening=False,  # apply ZCA whitening\n",
    "        zca_epsilon=1e-06,  # epsilon for ZCA whitening\n",
    "        rotation_range=0,  # randomly rotate images in the range (degrees, 0 to 180)\n",
    "        # randomly shift images horizontally (fraction of total width)\n",
    "        width_shift_range=0.1,\n",
    "        # randomly shift images vertically (fraction of total height)\n",
    "        height_shift_range=0.1,\n",
    "        shear_range=0.,  # set range for random shear\n",
    "        zoom_range=0.,  # set range for random zoom\n",
    "        channel_shift_range=0.,  # set range for random channel shifts\n",
    "        # set mode for filling points outside the input boundaries\n",
    "        fill_mode='nearest',\n",
    "        cval=0.,  # value used for fill_mode = \"constant\"\n",
    "        horizontal_flip=True,  # randomly flip images\n",
    "        vertical_flip=False,  # randomly flip images\n",
    "        # set rescaling factor (applied before any other transformation)\n",
    "        rescale=None,\n",
    "        # set function that will be applied on each input\n",
    "        preprocessing_function=None,\n",
    "        # image data format, either \"channels_first\" or \"channels_last\"\n",
    "        data_format=None,\n",
    "        # fraction of images reserved for validation (strictly between 0 and 1)\n",
    "        validation_split=0.0)\n",
    "\n",
    "    # Compute quantities required for feature-wise normalization\n",
    "    # (std, mean, and principal components if ZCA whitening is applied).\n",
    "    datagen.fit(x_train)\n",
    "\n",
    "    # Fit the model on the batches generated by datagen.flow().\n",
    "    history = modelcnn.fit_generator(datagen.flow(x_train, y_train,\n",
    "                                     batch_size=batch_size),\n",
    "                        epochs=epochs,\n",
    "                        validation_data=(x_test, y_test),\n",
    "                        workers=4)\n"
   ]
  },
  {
   "cell_type": "code",
   "execution_count": 16,
   "metadata": {},
   "outputs": [
    {
     "name": "stdout",
     "output_type": "stream",
     "text": [
      "Saved modelCNN to disk\n"
     ]
    }
   ],
   "source": [
    "# Save model and weights\n",
    "model_json = modelcnn.to_json()\n",
    "with open(\"./MODEL/modelCNN.json\", \"w\") as json_file:\n",
    "    json_file.write(model_json)\n",
    "# serialize weights to HDF5\n",
    "modelcnn.save_weights(\"./MODEL/modelCNN.h5\")\n",
    "print(\"Saved modelCNN to disk\")\n"
   ]
  },
  {
   "cell_type": "code",
   "execution_count": 18,
   "metadata": {},
   "outputs": [
    {
     "name": "stdout",
     "output_type": "stream",
     "text": [
      "10000/10000 [==============================] - 13s 1ms/step\n",
      "Test loss: 0.7392314152717591\n",
      "Test accuracy: 0.7498000264167786\n"
     ]
    }
   ],
   "source": [
    "# Score trained model.\n",
    "scores = modelcnn.evaluate(x_test, y_test, verbose=1)\n",
    "print('Test loss:', scores[0])\n",
    "print('Test accuracy:', scores[1])"
   ]
  },
  {
   "cell_type": "code",
   "execution_count": 20,
   "metadata": {},
   "outputs": [
    {
     "data": {
      "image/png": "[encoded data removed]",
      "text/plain": [
       "<Figure size 432x288 with 1 Axes>"
      ]
     },
     "metadata": {
      "needs_background": "light"
     },
     "output_type": "display_data"
    }
   ],
   "source": [
    "# Plot training & validation accuracy values\n",
    "import matplotlib.pyplot as plt\n",
    "plt.plot(history.history['accuracy'])\n",
    "plt.plot(history.history['val_accuracy'])\n",
    "plt.title('Model accuracy')\n",
    "plt.ylabel('Accuracy')\n",
    "plt.xlabel('Epoch')\n",
    "plt.legend(['Train', 'Test'], loc='upper left')\n",
    "plt.show()"
   ]
  },
  {
   "cell_type": "code",
   "execution_count": 21,
   "metadata": {},
   "outputs": [
    {
     "data": {
      "text/plain": [
       "<matplotlib.legend.Legend at 0x1a16d1a0780>"
      ]
     },
     "execution_count": 21,
     "metadata": {},
     "output_type": "execute_result"
    },
    {
     "data": {
      "image/png": "[encoded data removed]",
      "text/plain": [
       "<Figure size 432x288 with 1 Axes>"
      ]
     },
     "metadata": {
      "needs_background": "light"
     },
     "output_type": "display_data"
    }
   ],
   "source": [
    "# Plot training & validation loss values\n",
    "plt.plot(history.history['loss'])\n",
    "plt.plot(history.history['val_loss'])\n",
    "plt.title('Model loss')\n",
    "plt.ylabel('Loss')\n",
    "plt.xlabel('Epoch')\n",
    "plt.legend(['Train', 'Test'], loc='upper left')\n"
   ]
  }
 ],
 "metadata": {
  "kernelspec": {
   "display_name": "Python 3",
   "language": "python",
   "name": "python3"
  },
  "language_info": {
   "codemirror_mode": {
    "name": "ipython",
    "version": 3
   },
   "file_extension": ".py",
   "mimetype": "text/x-python",
   "name": "python",
   "nbconvert_exporter": "python",
   "pygments_lexer": "ipython3",
   "version": "3.5.6"
  }
 },
 "nbformat": 4,
 "nbformat_minor": 2
}
