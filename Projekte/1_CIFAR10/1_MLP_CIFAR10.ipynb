{
 "cells": [
  {
   "cell_type": "markdown",
   "metadata": {},
   "source": [
    "# MLP Cifar 10\n",
    "\n",
    "Hier werden das erste Mal im CIFAR10 nun Algorithmen aus dem Multilayer Perceptron (MLP) für multi-class Klassifikation verwendet:\n"
   ]
  },
  {
   "cell_type": "code",
   "execution_count": 2,
   "metadata": {},
   "outputs": [],
   "source": [
    "from __future__ import print_function\n",
    "\n",
    "import keras\n",
    "from keras.models import Sequential\n",
    "from keras.layers import Dense, Dropout\n",
    "from keras.optimizers import RMSprop\n",
    "from keras.models import model_from_json\n",
    "from tensorflow.python.keras.datasets import cifar10\n",
    "from pathlib import Path\n",
    "import matplotlib.pyplot as plt"
   ]
  },
  {
   "cell_type": "code",
   "execution_count": 3,
   "metadata": {},
   "outputs": [],
   "source": [
    "batch_size = 128\n",
    "num_classes = 10\n",
    "epochs = 50"
   ]
  },
  {
   "cell_type": "code",
   "execution_count": 4,
   "metadata": {},
   "outputs": [
    {
     "name": "stdout",
     "output_type": "stream",
     "text": [
      "(50000, 32, 32, 3)\n",
      "(50000, 1)\n",
      "(10000, 32, 32, 3)\n",
      "(10000, 1)\n",
      "\n",
      "(50000, 3072)\n",
      "(50000, 1)\n",
      "(10000, 3072)\n",
      "(10000, 1)\n"
     ]
    }
   ],
   "source": [
    "(train_X, train_y), (test_X, test_y) = cifar10.load_data()\n",
    "# the data, split between train and test sets\n",
    "print((train_X.shape))\n",
    "print((train_y.shape))\n",
    "print((test_X.shape))\n",
    "print((test_y.shape))\n",
    "print()\n",
    "train_X = train_X.reshape(50000,32*32*3)\n",
    "test_X = test_X.reshape(10000,32*32*3)\n",
    "print((train_X.shape))\n",
    "print((train_y.shape))\n",
    "print((test_X.shape))\n",
    "print((test_y.shape))"
   ]
  },
  {
   "cell_type": "code",
   "execution_count": 5,
   "metadata": {},
   "outputs": [
    {
     "name": "stdout",
     "output_type": "stream",
     "text": [
      "50000 train samples\n",
      "10000 test samples\n"
     ]
    }
   ],
   "source": [
    "train_X = train_X.astype('float32')\n",
    "test_X = test_X.astype('float32')\n",
    "train_X /= 255 # skalieren\n",
    "test_X /= 255 # Skalieren\n",
    "print(train_X.shape[0], 'train samples')\n",
    "print(test_X.shape[0], 'test samples')\n",
    "\n",
    "\n",
    "train_y = keras.utils.to_categorical(train_y, num_classes)\n",
    "test_y = keras.utils.to_categorical(test_y, num_classes)"
   ]
  },
  {
   "cell_type": "code",
   "execution_count": 7,
   "metadata": {},
   "outputs": [
    {
     "name": "stdout",
     "output_type": "stream",
     "text": [
      "Model: \"sequential_1\"\n",
      "_________________________________________________________________\n",
      "Layer (type)                 Output Shape              Param #   \n",
      "=================================================================\n",
      "dense_1 (Dense)              (None, 512)               1573376   \n",
      "_________________________________________________________________\n",
      "dropout_1 (Dropout)          (None, 512)               0         \n",
      "_________________________________________________________________\n",
      "dense_2 (Dense)              (None, 512)               262656    \n",
      "_________________________________________________________________\n",
      "dropout_2 (Dropout)          (None, 512)               0         \n",
      "_________________________________________________________________\n",
      "dense_3 (Dense)              (None, 10)                5130      \n",
      "=================================================================\n",
      "Total params: 1,841,162\n",
      "Trainable params: 1,841,162\n",
      "Non-trainable params: 0\n",
      "_________________________________________________________________\n"
     ]
    }
   ],
   "source": [
    "# Prüfen ob bereits ein Model bereits trainiert und gespeichert ist, im Falle, dass noch kein Modell vorliegt neu erstellen\n",
    "modelMLP = Path(\"./MODEL/modelMLP.json\")\n",
    "if modelMLP.is_file():\n",
    "   # load json and create model\n",
    "    json_file = open('./MODEL/modelMLP.json', 'r')\n",
    "    loaded_model_json = json_file.read()\n",
    "    json_file.close()\n",
    "    modelMLP = model_from_json(loaded_model_json)\n",
    "    # load weights into new model\n",
    "    modelMLP.load_weights(\"./MODEL/modelMLP.h5\")\n",
    "    print(\"Loaded model from disk\")\n",
    "else:\n",
    "    modelMLP = Sequential()\n",
    "    modelMLP.add(Dense(512, activation='relu', input_shape=(3072,)))\n",
    "    modelMLP.add(Dropout(0.2))\n",
    "    modelMLP.add(Dense(512, activation='relu'))\n",
    "    modelMLP.add(Dropout(0.2))\n",
    "    modelMLP.add(Dense(num_classes, activation='softmax'))\n",
    "    modelMLP.summary()"
   ]
  },
  {
   "cell_type": "code",
   "execution_count": 8,
   "metadata": {},
   "outputs": [],
   "source": [
    "modelMLP.compile(loss='categorical_crossentropy',\n",
    "              optimizer=RMSprop(),\n",
    "              metrics=['accuracy'])"
   ]
  },
  {
   "cell_type": "code",
   "execution_count": 9,
   "metadata": {},
   "outputs": [
    {
     "name": "stdout",
     "output_type": "stream",
     "text": [
      "WARNING:tensorflow:From c:\\users\\1810837475\\.conda\\envs\\testtensorflow\\lib\\site-packages\\keras\\backend\\tensorflow_backend.py:422: The name tf.global_variables is deprecated. Please use tf.compat.v1.global_variables instead.\n",
      "\n",
      "Train on 50000 samples, validate on 10000 samples\n",
      "Epoch 1/50\n",
      "50000/50000 [==============================] - 46s 917us/step - loss: 2.1385 - accuracy: 0.2497 - val_loss: 1.8842 - val_accuracy: 0.3176\n",
      "Epoch 2/50\n",
      "50000/50000 [==============================] - 45s 910us/step - loss: 1.8568 - accuracy: 0.3291 - val_loss: 1.7363 - val_accuracy: 0.3757\n",
      "Epoch 3/50\n",
      "50000/50000 [==============================] - 45s 907us/step - loss: 1.7789 - accuracy: 0.3607 - val_loss: 1.7258 - val_accuracy: 0.3744\n",
      "Epoch 4/50\n",
      "50000/50000 [==============================] - 46s 928us/step - loss: 1.7268 - accuracy: 0.3824 - val_loss: 1.6930 - val_accuracy: 0.3976\n",
      "Epoch 5/50\n",
      "50000/50000 [==============================] - 48s 952us/step - loss: 1.6897 - accuracy: 0.3952 - val_loss: 1.7451 - val_accuracy: 0.3573\n",
      "Epoch 6/50\n",
      "50000/50000 [==============================] - 46s 924us/step - loss: 1.6623 - accuracy: 0.4053 - val_loss: 1.5635 - val_accuracy: 0.4423\n",
      "Epoch 7/50\n",
      "50000/50000 [==============================] - 47s 931us/step - loss: 1.6358 - accuracy: 0.4145 - val_loss: 1.5652 - val_accuracy: 0.4468\n",
      "Epoch 8/50\n",
      "50000/50000 [==============================] - 47s 946us/step - loss: 1.6173 - accuracy: 0.4227 - val_loss: 1.6235 - val_accuracy: 0.4264\n",
      "Epoch 9/50\n",
      "50000/50000 [==============================] - 47s 941us/step - loss: 1.5987 - accuracy: 0.4295 - val_loss: 1.5418 - val_accuracy: 0.4504\n",
      "Epoch 10/50\n",
      "50000/50000 [==============================] - 47s 944us/step - loss: 1.5888 - accuracy: 0.4333 - val_loss: 1.5942 - val_accuracy: 0.4377\n",
      "Epoch 11/50\n",
      "50000/50000 [==============================] - 48s 961us/step - loss: 1.5753 - accuracy: 0.4360 - val_loss: 1.5068 - val_accuracy: 0.4714\n",
      "Epoch 12/50\n",
      "50000/50000 [==============================] - 48s 961us/step - loss: 1.5675 - accuracy: 0.4401 - val_loss: 1.5281 - val_accuracy: 0.4551\n",
      "Epoch 13/50\n",
      "50000/50000 [==============================] - 48s 958us/step - loss: 1.5499 - accuracy: 0.4451 - val_loss: 1.5190 - val_accuracy: 0.4656\n",
      "Epoch 14/50\n",
      "50000/50000 [==============================] - 48s 958us/step - loss: 1.5402 - accuracy: 0.4504 - val_loss: 1.5274 - val_accuracy: 0.4726\n",
      "Epoch 15/50\n",
      "50000/50000 [==============================] - 48s 969us/step - loss: 1.5371 - accuracy: 0.4529 - val_loss: 1.5804 - val_accuracy: 0.4403\n",
      "Epoch 16/50\n",
      "50000/50000 [==============================] - 48s 952us/step - loss: 1.5270 - accuracy: 0.4574 - val_loss: 1.5680 - val_accuracy: 0.4346\n",
      "Epoch 17/50\n",
      "50000/50000 [==============================] - 48s 962us/step - loss: 1.5285 - accuracy: 0.4563 - val_loss: 1.5770 - val_accuracy: 0.4336\n",
      "Epoch 18/50\n",
      "50000/50000 [==============================] - 50s 993us/step - loss: 1.5161 - accuracy: 0.4605 - val_loss: 1.4566 - val_accuracy: 0.4857\n",
      "Epoch 19/50\n",
      "50000/50000 [==============================] - 48s 962us/step - loss: 1.5109 - accuracy: 0.4622 - val_loss: 1.5153 - val_accuracy: 0.4676\n",
      "Epoch 20/50\n",
      "50000/50000 [==============================] - 48s 961us/step - loss: 1.5067 - accuracy: 0.4627 - val_loss: 1.5273 - val_accuracy: 0.4552\n",
      "Epoch 21/50\n",
      "50000/50000 [==============================] - 48s 965us/step - loss: 1.5046 - accuracy: 0.4659 - val_loss: 1.5145 - val_accuracy: 0.4626\n",
      "Epoch 22/50\n",
      "50000/50000 [==============================] - 48s 955us/step - loss: 1.4956 - accuracy: 0.4666 - val_loss: 1.5204 - val_accuracy: 0.4541\n",
      "Epoch 23/50\n",
      "50000/50000 [==============================] - 49s 974us/step - loss: 1.4868 - accuracy: 0.4703 - val_loss: 1.4931 - val_accuracy: 0.4713\n",
      "Epoch 24/50\n",
      "50000/50000 [==============================] - 49s 974us/step - loss: 1.4897 - accuracy: 0.4713 - val_loss: 1.5267 - val_accuracy: 0.4529\n",
      "Epoch 25/50\n",
      "50000/50000 [==============================] - 49s 973us/step - loss: 1.4839 - accuracy: 0.4711 - val_loss: 1.5343 - val_accuracy: 0.4655\n",
      "Epoch 26/50\n",
      "50000/50000 [==============================] - 48s 968us/step - loss: 1.4784 - accuracy: 0.4746 - val_loss: 1.4976 - val_accuracy: 0.4683\n",
      "Epoch 27/50\n",
      "50000/50000 [==============================] - 49s 977us/step - loss: 1.4727 - accuracy: 0.4735 - val_loss: 1.4878 - val_accuracy: 0.4741\n",
      "Epoch 28/50\n",
      "50000/50000 [==============================] - 49s 982us/step - loss: 1.4738 - accuracy: 0.4765 - val_loss: 1.4712 - val_accuracy: 0.4828\n",
      "Epoch 29/50\n",
      "50000/50000 [==============================] - 50s 991us/step - loss: 1.4664 - accuracy: 0.4811 - val_loss: 1.4743 - val_accuracy: 0.4813\n",
      "Epoch 30/50\n",
      "50000/50000 [==============================] - 50s 993us/step - loss: 1.4694 - accuracy: 0.4826 - val_loss: 1.4790 - val_accuracy: 0.4731\n",
      "Epoch 31/50\n",
      "50000/50000 [==============================] - 50s 1000us/step - loss: 1.4629 - accuracy: 0.4791 - val_loss: 1.5128 - val_accuracy: 0.4523\n",
      "Epoch 32/50\n",
      "50000/50000 [==============================] - 49s 972us/step - loss: 1.4574 - accuracy: 0.4838 - val_loss: 1.5184 - val_accuracy: 0.4615\n",
      "Epoch 33/50\n",
      "50000/50000 [==============================] - 49s 973us/step - loss: 1.4594 - accuracy: 0.4817 - val_loss: 1.4582 - val_accuracy: 0.4865\n",
      "Epoch 34/50\n",
      "50000/50000 [==============================] - 48s 956us/step - loss: 1.4609 - accuracy: 0.4829 - val_loss: 1.4997 - val_accuracy: 0.4828\n",
      "Epoch 35/50\n",
      "50000/50000 [==============================] - 47s 943us/step - loss: 1.4541 - accuracy: 0.4846 - val_loss: 1.4741 - val_accuracy: 0.4804\n",
      "Epoch 36/50\n",
      "50000/50000 [==============================] - 46s 922us/step - loss: 1.4499 - accuracy: 0.4842 - val_loss: 1.4657 - val_accuracy: 0.4882\n",
      "Epoch 37/50\n",
      "50000/50000 [==============================] - 46s 920us/step - loss: 1.4539 - accuracy: 0.4859 - val_loss: 1.4663 - val_accuracy: 0.4886\n",
      "Epoch 38/50\n",
      "50000/50000 [==============================] - 46s 918us/step - loss: 1.4484 - accuracy: 0.4877 - val_loss: 1.4656 - val_accuracy: 0.4902\n",
      "Epoch 39/50\n",
      "50000/50000 [==============================] - 45s 906us/step - loss: 1.4489 - accuracy: 0.4873 - val_loss: 1.4869 - val_accuracy: 0.4786\n",
      "Epoch 40/50\n",
      "50000/50000 [==============================] - 45s 903us/step - loss: 1.4445 - accuracy: 0.4905 - val_loss: 1.4497 - val_accuracy: 0.5003\n",
      "Epoch 41/50\n",
      "50000/50000 [==============================] - 44s 883us/step - loss: 1.4415 - accuracy: 0.4894 - val_loss: 1.5117 - val_accuracy: 0.4718\n",
      "Epoch 42/50\n",
      "50000/50000 [==============================] - 45s 899us/step - loss: 1.4400 - accuracy: 0.4920 - val_loss: 1.4658 - val_accuracy: 0.4864\n",
      "Epoch 43/50\n",
      "50000/50000 [==============================] - 45s 894us/step - loss: 1.4438 - accuracy: 0.4895 - val_loss: 1.4648 - val_accuracy: 0.4858\n",
      "Epoch 44/50\n",
      "50000/50000 [==============================] - 45s 908us/step - loss: 1.4410 - accuracy: 0.4909 - val_loss: 1.4969 - val_accuracy: 0.4802\n",
      "Epoch 45/50\n",
      "50000/50000 [==============================] - 45s 904us/step - loss: 1.4366 - accuracy: 0.4905 - val_loss: 1.4824 - val_accuracy: 0.4837\n",
      "Epoch 46/50\n",
      "50000/50000 [==============================] - 45s 897us/step - loss: 1.4320 - accuracy: 0.4912 - val_loss: 1.4953 - val_accuracy: 0.4739\n",
      "Epoch 47/50\n",
      "50000/50000 [==============================] - 45s 896us/step - loss: 1.4297 - accuracy: 0.4940 - val_loss: 1.4819 - val_accuracy: 0.4854\n",
      "Epoch 48/50\n",
      "50000/50000 [==============================] - 44s 890us/step - loss: 1.4310 - accuracy: 0.4941 - val_loss: 1.5988 - val_accuracy: 0.4420\n",
      "Epoch 49/50\n",
      "50000/50000 [==============================] - 45s 898us/step - loss: 1.4278 - accuracy: 0.4978 - val_loss: 1.5248 - val_accuracy: 0.4623\n",
      "Epoch 50/50\n",
      "50000/50000 [==============================] - 45s 891us/step - loss: 1.4347 - accuracy: 0.4931 - val_loss: 1.5020 - val_accuracy: 0.4901\n"
     ]
    }
   ],
   "source": [
    "history = modelMLP.fit(train_X, train_y,\n",
    "                    batch_size=batch_size,\n",
    "                    epochs=epochs,\n",
    "                    verbose=1,\n",
    "                    validation_data=(test_X, test_y))"
   ]
  },
  {
   "cell_type": "code",
   "execution_count": 10,
   "metadata": {},
   "outputs": [
    {
     "name": "stdout",
     "output_type": "stream",
     "text": [
      "Saved modelMLP to disk\n"
     ]
    }
   ],
   "source": [
    "# Save trained Model to disk via JSON\n",
    "model_json = modelMLP.to_json()\n",
    "with open(\"./MODEL/modelMLP.json\", \"w\") as json_file:\n",
    "    json_file.write(model_json)\n",
    "# serialize weights to HDF5\n",
    "modelMLP.save_weights(\"./MODEL/modelMLP.h5\")\n",
    "print(\"Saved modelMLP to disk\")"
   ]
  },
  {
   "cell_type": "code",
   "execution_count": 11,
   "metadata": {},
   "outputs": [
    {
     "name": "stdout",
     "output_type": "stream",
     "text": [
      "Test loss: 1.501966787147522\n",
      "Test accuracy: 0.4900999963283539\n"
     ]
    }
   ],
   "source": [
    "score = modelMLP.evaluate(test_X, test_y, verbose=0)\n",
    "print('Test loss:', score[0])\n",
    "print('Test accuracy:', score[1])"
   ]
  },
  {
   "cell_type": "code",
   "execution_count": 12,
   "metadata": {},
   "outputs": [
    {
     "data": {
      "image/png": "[encoded data removed]",
      "text/plain": [
       "<Figure size 432x288 with 1 Axes>"
      ]
     },
     "metadata": {
      "needs_background": "light"
     },
     "output_type": "display_data"
    }
   ],
   "source": [
    "# Plot training & validation accuracy values\n",
    "\n",
    "plt.plot(history.history['accuracy'])\n",
    "plt.plot(history.history['val_accuracy'])\n",
    "plt.title('Model accuracy')\n",
    "plt.ylabel('Accuracy')\n",
    "plt.xlabel('Epoch')\n",
    "plt.legend(['Train', 'Test'], loc='upper left')\n",
    "plt.show()"
   ]
  },
  {
   "cell_type": "code",
   "execution_count": 13,
   "metadata": {},
   "outputs": [
    {
     "data": {
      "image/png": "[encoded data removed]",
      "text/plain": [
       "<Figure size 432x288 with 1 Axes>"
      ]
     },
     "metadata": {
      "needs_background": "light"
     },
     "output_type": "display_data"
    }
   ],
   "source": [
    "# Plot training & validation loss values\n",
    "plt.plot(history.history['loss'])\n",
    "plt.plot(history.history['val_loss'])\n",
    "plt.title('Model loss')\n",
    "plt.ylabel('Loss')\n",
    "plt.xlabel('Epoch')\n",
    "plt.legend(['Train', 'Test'], loc='upper left')\n",
    "plt.show()"
   ]
  },
  {
   "cell_type": "code",
   "execution_count": null,
   "metadata": {},
   "outputs": [],
   "source": []
  },
  {
   "cell_type": "code",
   "execution_count": null,
   "metadata": {},
   "outputs": [],
   "source": []
  }
 ],
 "metadata": {
  "kernelspec": {
   "display_name": "Python 3",
   "language": "python",
   "name": "python3"
  },
  "language_info": {
   "codemirror_mode": {
    "name": "ipython",
    "version": 3
   },
   "file_extension": ".py",
   "mimetype": "text/x-python",
   "name": "python",
   "nbconvert_exporter": "python",
   "pygments_lexer": "ipython3",
   "version": "3.5.6"
  }
 },
 "nbformat": 4,
 "nbformat_minor": 2
}
