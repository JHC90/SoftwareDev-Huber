{
 "cells": [
  {
   "cell_type": "markdown",
   "metadata": {},
   "source": [
    "# MLP Cifar 10\n",
    "\n",
    "Hier werden das erste Mal im CIFAR10 nun Algorithmen aus dem Multilayer Perceptron (MLP) für multi-class Klassifikation verwendet:\n"
   ]
  },
  {
   "cell_type": "code",
   "execution_count": 1,
   "metadata": {},
   "outputs": [
    {
     "name": "stderr",
     "output_type": "stream",
     "text": [
      "Using TensorFlow backend.\n",
      "c:\\users\\1810837475\\.conda\\envs\\testtensorflow\\lib\\site-packages\\tensorflow\\python\\framework\\dtypes.py:516: FutureWarning: Passing (type, 1) or '1type' as a synonym of type is deprecated; in a future version of numpy, it will be understood as (type, (1,)) / '(1,)type'.\n",
      "  _np_qint8 = np.dtype([(\"qint8\", np.int8, 1)])\n",
      "c:\\users\\1810837475\\.conda\\envs\\testtensorflow\\lib\\site-packages\\tensorflow\\python\\framework\\dtypes.py:517: FutureWarning: Passing (type, 1) or '1type' as a synonym of type is deprecated; in a future version of numpy, it will be understood as (type, (1,)) / '(1,)type'.\n",
      "  _np_quint8 = np.dtype([(\"quint8\", np.uint8, 1)])\n",
      "c:\\users\\1810837475\\.conda\\envs\\testtensorflow\\lib\\site-packages\\tensorflow\\python\\framework\\dtypes.py:518: FutureWarning: Passing (type, 1) or '1type' as a synonym of type is deprecated; in a future version of numpy, it will be understood as (type, (1,)) / '(1,)type'.\n",
      "  _np_qint16 = np.dtype([(\"qint16\", np.int16, 1)])\n",
      "c:\\users\\1810837475\\.conda\\envs\\testtensorflow\\lib\\site-packages\\tensorflow\\python\\framework\\dtypes.py:519: FutureWarning: Passing (type, 1) or '1type' as a synonym of type is deprecated; in a future version of numpy, it will be understood as (type, (1,)) / '(1,)type'.\n",
      "  _np_quint16 = np.dtype([(\"quint16\", np.uint16, 1)])\n",
      "c:\\users\\1810837475\\.conda\\envs\\testtensorflow\\lib\\site-packages\\tensorflow\\python\\framework\\dtypes.py:520: FutureWarning: Passing (type, 1) or '1type' as a synonym of type is deprecated; in a future version of numpy, it will be understood as (type, (1,)) / '(1,)type'.\n",
      "  _np_qint32 = np.dtype([(\"qint32\", np.int32, 1)])\n",
      "c:\\users\\1810837475\\.conda\\envs\\testtensorflow\\lib\\site-packages\\tensorflow\\python\\framework\\dtypes.py:525: FutureWarning: Passing (type, 1) or '1type' as a synonym of type is deprecated; in a future version of numpy, it will be understood as (type, (1,)) / '(1,)type'.\n",
      "  np_resource = np.dtype([(\"resource\", np.ubyte, 1)])\n",
      "c:\\users\\1810837475\\.conda\\envs\\testtensorflow\\lib\\site-packages\\tensorboard\\compat\\tensorflow_stub\\dtypes.py:541: FutureWarning: Passing (type, 1) or '1type' as a synonym of type is deprecated; in a future version of numpy, it will be understood as (type, (1,)) / '(1,)type'.\n",
      "  _np_qint8 = np.dtype([(\"qint8\", np.int8, 1)])\n",
      "c:\\users\\1810837475\\.conda\\envs\\testtensorflow\\lib\\site-packages\\tensorboard\\compat\\tensorflow_stub\\dtypes.py:542: FutureWarning: Passing (type, 1) or '1type' as a synonym of type is deprecated; in a future version of numpy, it will be understood as (type, (1,)) / '(1,)type'.\n",
      "  _np_quint8 = np.dtype([(\"quint8\", np.uint8, 1)])\n",
      "c:\\users\\1810837475\\.conda\\envs\\testtensorflow\\lib\\site-packages\\tensorboard\\compat\\tensorflow_stub\\dtypes.py:543: FutureWarning: Passing (type, 1) or '1type' as a synonym of type is deprecated; in a future version of numpy, it will be understood as (type, (1,)) / '(1,)type'.\n",
      "  _np_qint16 = np.dtype([(\"qint16\", np.int16, 1)])\n",
      "c:\\users\\1810837475\\.conda\\envs\\testtensorflow\\lib\\site-packages\\tensorboard\\compat\\tensorflow_stub\\dtypes.py:544: FutureWarning: Passing (type, 1) or '1type' as a synonym of type is deprecated; in a future version of numpy, it will be understood as (type, (1,)) / '(1,)type'.\n",
      "  _np_quint16 = np.dtype([(\"quint16\", np.uint16, 1)])\n",
      "c:\\users\\1810837475\\.conda\\envs\\testtensorflow\\lib\\site-packages\\tensorboard\\compat\\tensorflow_stub\\dtypes.py:545: FutureWarning: Passing (type, 1) or '1type' as a synonym of type is deprecated; in a future version of numpy, it will be understood as (type, (1,)) / '(1,)type'.\n",
      "  _np_qint32 = np.dtype([(\"qint32\", np.int32, 1)])\n",
      "c:\\users\\1810837475\\.conda\\envs\\testtensorflow\\lib\\site-packages\\tensorboard\\compat\\tensorflow_stub\\dtypes.py:550: FutureWarning: Passing (type, 1) or '1type' as a synonym of type is deprecated; in a future version of numpy, it will be understood as (type, (1,)) / '(1,)type'.\n",
      "  np_resource = np.dtype([(\"resource\", np.ubyte, 1)])\n"
     ]
    }
   ],
   "source": [
    "from __future__ import print_function\n",
    "\n",
    "import keras\n",
    "from keras.models import Sequential\n",
    "from keras.layers import Dense, Dropout\n",
    "from keras.optimizers import RMSprop\n",
    "from keras.models import model_from_json\n",
    "from tensorflow.python.keras.datasets import cifar10\n",
    "from pathlib import Path\n",
    "import matplotlib.pyplot as plt"
   ]
  },
  {
   "cell_type": "code",
   "execution_count": 2,
   "metadata": {},
   "outputs": [],
   "source": [
    "batch_size = 128\n",
    "num_classes = 10\n",
    "epochs = 20"
   ]
  },
  {
   "cell_type": "code",
   "execution_count": 3,
   "metadata": {},
   "outputs": [
    {
     "name": "stdout",
     "output_type": "stream",
     "text": [
      "(50000, 32, 32, 3)\n",
      "(50000, 1)\n",
      "(10000, 32, 32, 3)\n",
      "(10000, 1)\n",
      "\n",
      "(50000, 3072)\n",
      "(50000, 1)\n",
      "(10000, 3072)\n",
      "(10000, 1)\n"
     ]
    }
   ],
   "source": [
    "(train_X, train_y), (test_X, test_y) = cifar10.load_data()\n",
    "# the data, split between train and test sets\n",
    "print((train_X.shape))\n",
    "print((train_y.shape))\n",
    "print((test_X.shape))\n",
    "print((test_y.shape))\n",
    "print()\n",
    "train_X = train_X.reshape(50000,32*32*3)\n",
    "test_X = test_X.reshape(10000,32*32*3)\n",
    "print((train_X.shape))\n",
    "print((train_y.shape))\n",
    "print((test_X.shape))\n",
    "print((test_y.shape))"
   ]
  },
  {
   "cell_type": "code",
   "execution_count": 4,
   "metadata": {},
   "outputs": [
    {
     "name": "stdout",
     "output_type": "stream",
     "text": [
      "50000 train samples\n",
      "10000 test samples\n"
     ]
    }
   ],
   "source": [
    "train_X = train_X.astype('float32')\n",
    "test_X = test_X.astype('float32')\n",
    "train_X /= 255 # skalieren\n",
    "test_X /= 255 # Skalieren\n",
    "print(train_X.shape[0], 'train samples')\n",
    "print(test_X.shape[0], 'test samples')\n",
    "\n",
    "\n",
    "train_y = keras.utils.to_categorical(train_y, num_classes)\n",
    "test_y = keras.utils.to_categorical(test_y, num_classes)"
   ]
  },
  {
   "cell_type": "code",
   "execution_count": 5,
   "metadata": {},
   "outputs": [
    {
     "name": "stdout",
     "output_type": "stream",
     "text": [
      "Model: \"sequential_1\"\n",
      "_________________________________________________________________\n",
      "Layer (type)                 Output Shape              Param #   \n",
      "=================================================================\n",
      "dense_1 (Dense)              (None, 512)               1573376   \n",
      "_________________________________________________________________\n",
      "dropout_1 (Dropout)          (None, 512)               0         \n",
      "_________________________________________________________________\n",
      "dense_2 (Dense)              (None, 512)               262656    \n",
      "_________________________________________________________________\n",
      "dropout_2 (Dropout)          (None, 512)               0         \n",
      "_________________________________________________________________\n",
      "dense_3 (Dense)              (None, 10)                5130      \n",
      "=================================================================\n",
      "Total params: 1,841,162\n",
      "Trainable params: 1,841,162\n",
      "Non-trainable params: 0\n",
      "_________________________________________________________________\n"
     ]
    }
   ],
   "source": [
    "# Prüfen ob bereits ein Model bereits trainiert und gespeichert ist, im Falle, dass noch kein Modell vorliegt neu erstellen\n",
    "modelMLP = Path(\"./MODEL/modelMLP.json\")\n",
    "if modelMLP.is_file():\n",
    "   # load json and create model\n",
    "    json_file = open('./MODEL/modelMLP.json', 'r')\n",
    "    loaded_model_json = json_file.read()\n",
    "    json_file.close()\n",
    "    modelMLP = model_from_json(loaded_model_json)\n",
    "    # load weights into new model\n",
    "    modelMLP.load_weights(\"./MODEL/modelMLP.h5\")\n",
    "    print(\"Loaded model from disk\")\n",
    "else:\n",
    "    modelMLP = Sequential()\n",
    "    modelMLP.add(Dense(512, activation='relu', input_shape=(3072,)))\n",
    "    modelMLP.add(Dropout(0.2))\n",
    "    modelMLP.add(Dense(512, activation='relu'))\n",
    "    modelMLP.add(Dropout(0.2))\n",
    "    modelMLP.add(Dense(num_classes, activation='softmax'))\n",
    "    modelMLP.summary()"
   ]
  },
  {
   "cell_type": "code",
   "execution_count": 6,
   "metadata": {},
   "outputs": [],
   "source": [
    "modelMLP.compile(loss='categorical_crossentropy',\n",
    "              optimizer=RMSprop(),\n",
    "              metrics=['accuracy'])"
   ]
  },
  {
   "cell_type": "code",
   "execution_count": null,
   "metadata": {},
   "outputs": [
    {
     "name": "stdout",
     "output_type": "stream",
     "text": [
      "WARNING:tensorflow:From c:\\users\\1810837475\\.conda\\envs\\testtensorflow\\lib\\site-packages\\keras\\backend\\tensorflow_backend.py:422: The name tf.global_variables is deprecated. Please use tf.compat.v1.global_variables instead.\n",
      "\n",
      "Train on 50000 samples, validate on 10000 samples\n",
      "Epoch 1/20\n",
      "50000/50000 [==============================] - 68s 1ms/step - loss: 2.1455 - accuracy: 0.2466 - val_loss: 1.8207 - val_accuracy: 0.3341\n",
      "Epoch 2/20\n",
      "50000/50000 [==============================] - 64s 1ms/step - loss: 1.8562 - accuracy: 0.3245 - val_loss: 1.8327 - val_accuracy: 0.3323\n",
      "Epoch 3/20\n",
      "50000/50000 [==============================] - 65s 1ms/step - loss: 1.7852 - accuracy: 0.3570 - val_loss: 1.7213 - val_accuracy: 0.3821\n",
      "Epoch 4/20\n",
      "50000/50000 [==============================] - 66s 1ms/step - loss: 1.7329 - accuracy: 0.3798 - val_loss: 1.6587 - val_accuracy: 0.4082\n",
      "Epoch 5/20\n",
      "50000/50000 [==============================] - 64s 1ms/step - loss: 1.6960 - accuracy: 0.3921 - val_loss: 1.5995 - val_accuracy: 0.4327\n",
      "Epoch 6/20\n",
      "50000/50000 [==============================] - 77s 2ms/step - loss: 1.6722 - accuracy: 0.4021 - val_loss: 1.6250 - val_accuracy: 0.4195\n",
      "Epoch 7/20\n",
      "50000/50000 [==============================] - 76s 2ms/step - loss: 1.6486 - accuracy: 0.4110 - val_loss: 1.6285 - val_accuracy: 0.4143\n",
      "Epoch 8/20\n",
      "50000/50000 [==============================] - 71s 1ms/step - loss: 1.6255 - accuracy: 0.4176 - val_loss: 1.6137 - val_accuracy: 0.4248\n",
      "Epoch 9/20\n",
      "50000/50000 [==============================] - 74s 1ms/step - loss: 1.6084 - accuracy: 0.4249 - val_loss: 1.5218 - val_accuracy: 0.4641\n",
      "Epoch 10/20\n",
      "50000/50000 [==============================] - 70s 1ms/step - loss: 1.5918 - accuracy: 0.4315 - val_loss: 1.5287 - val_accuracy: 0.4583\n",
      "Epoch 11/20\n",
      "50000/50000 [==============================] - 62s 1ms/step - loss: 1.5840 - accuracy: 0.4346 - val_loss: 1.5310 - val_accuracy: 0.4676\n",
      "Epoch 12/20\n",
      "50000/50000 [==============================] - 65s 1ms/step - loss: 1.5694 - accuracy: 0.4395 - val_loss: 1.5163 - val_accuracy: 0.4581\n",
      "Epoch 13/20\n",
      "50000/50000 [==============================] - 66s 1ms/step - loss: 1.5614 - accuracy: 0.4423 - val_loss: 1.5068 - val_accuracy: 0.4652\n",
      "Epoch 14/20\n",
      "50000/50000 [==============================] - 67s 1ms/step - loss: 1.5481 - accuracy: 0.4498 - val_loss: 1.5160 - val_accuracy: 0.4651\n",
      "Epoch 15/20\n",
      "50000/50000 [==============================] - 66s 1ms/step - loss: 1.5435 - accuracy: 0.4489 - val_loss: 1.5270 - val_accuracy: 0.4540\n",
      "Epoch 16/20\n",
      "33536/50000 [===================>..........] - ETA: 21s - loss: 1.5307 - accuracy: 0.4547"
     ]
    }
   ],
   "source": [
    "history = modelMLP.fit(train_X, train_y,\n",
    "                    batch_size=batch_size,\n",
    "                    epochs=epochs,\n",
    "                    verbose=1,\n",
    "                    validation_data=(test_X, test_y))"
   ]
  },
  {
   "cell_type": "code",
   "execution_count": null,
   "metadata": {},
   "outputs": [],
   "source": [
    "# Save trained Model to disk via JSON\n",
    "model_json = modelMLP.to_json()\n",
    "with open(\"./MODEL/modelMLP.json\", \"w\") as json_file:\n",
    "    json_file.write(model_json)\n",
    "# serialize weights to HDF5\n",
    "modelMLP.save_weights(\"./MODEL/modelMLP.h5\")\n",
    "print(\"Saved modelMLP to disk\")"
   ]
  },
  {
   "cell_type": "code",
   "execution_count": null,
   "metadata": {},
   "outputs": [],
   "source": [
    "score = modelMLP.evaluate(test_X, test_y, verbose=0)\n",
    "print('Test loss:', score[0])\n",
    "print('Test accuracy:', score[1])"
   ]
  },
  {
   "cell_type": "code",
   "execution_count": null,
   "metadata": {},
   "outputs": [],
   "source": [
    "# Plot training & validation accuracy values\n",
    "\n",
    "plt.plot(history.history['accuracy'])\n",
    "plt.plot(history.history['val_accuracy'])\n",
    "plt.title('Model accuracy')\n",
    "plt.ylabel('Accuracy')\n",
    "plt.xlabel('Epoch')\n",
    "plt.legend(['Train', 'Test'], loc='upper left')\n",
    "plt.show()"
   ]
  },
  {
   "cell_type": "code",
   "execution_count": null,
   "metadata": {},
   "outputs": [],
   "source": [
    "# Plot training & validation loss values\n",
    "plt.plot(history.history['loss'])\n",
    "plt.plot(history.history['val_loss'])\n",
    "plt.title('Model loss')\n",
    "plt.ylabel('Loss')\n",
    "plt.xlabel('Epoch')\n",
    "plt.legend(['Train', 'Test'], loc='upper left')\n",
    "plt.show()"
   ]
  },
  {
   "cell_type": "code",
   "execution_count": null,
   "metadata": {},
   "outputs": [],
   "source": []
  }
 ],
 "metadata": {
  "kernelspec": {
   "display_name": "Python 3",
   "language": "python",
   "name": "python3"
  },
  "language_info": {
   "codemirror_mode": {
    "name": "ipython",
    "version": 3
   },
   "file_extension": ".py",
   "mimetype": "text/x-python",
   "name": "python",
   "nbconvert_exporter": "python",
   "pygments_lexer": "ipython3",
   "version": "3.5.6"
  }
 },
 "nbformat": 4,
 "nbformat_minor": 2
}
