{
 "cells": [
  {
   "cell_type": "markdown",
   "metadata": {},
   "source": [
    "# MLP MNIST\n",
    "Hier werden das erste Mal im MNIST nun Algotihmen aus dem \n",
    "Multilayer Perceptron (MLP) for multi-class softmax classification:"
   ]
  },
  {
   "cell_type": "code",
   "execution_count": null,
   "metadata": {},
   "outputs": [],
   "source": [
    "# Import Libraries\n",
    "from __future__ import print_function\n",
    "import keras\n",
    "from keras.datasets import mnist\n",
    "from keras.models import Sequential\n",
    "from keras.layers import Dense, Dropout\n",
    "from keras.optimizers import RMSprop\n",
    "from keras.models import model_from_json\n",
    "from pathlib import Path\n",
    "import matplotlib.pyplot as plt\n",
    "import tensorflow as tf"
   ]
  },
  {
   "cell_type": "code",
   "execution_count": null,
   "metadata": {},
   "outputs": [],
   "source": [
    "# Hyperparamter Upfront \n",
    "batch_size = 128 # Bei MNIST wähle ich die 128 immer ident\n",
    "num_classes = 10 # Vorgabe aus Datensatz\n",
    "epochs = 20 # Wird in allen Modellen geählt"
   ]
  },
  {
   "cell_type": "code",
   "execution_count": null,
   "metadata": {},
   "outputs": [],
   "source": [
    "(x_train, y_train), (x_test, y_test) = mnist.load_data()\n",
    "print(x_train.shape)\n",
    "print(y_train.shape)\n",
    "print(x_test.shape)\n",
    "print(y_test.shape)\n",
    "# Für MLP brauch ich einen Eingangsvektor => Reshaping"
   ]
  },
  {
   "cell_type": "code",
   "execution_count": null,
   "metadata": {},
   "outputs": [],
   "source": [
    "x_train = x_train.reshape(60000, 784) # MLP benötigt InputVektor und keine Matrix => reshape\n",
    "x_test = x_test.reshape(10000, 784) # MLP benötigt InputVektor und keine Matrix => reshape\n",
    "x_train = x_train.astype('float32') # Standard \n",
    "x_test = x_test.astype('float32') # Standard \n",
    "x_train /= 255 # skalieren\n",
    "x_test /= 255 # Skalieren\n",
    "\n",
    "print(x_train.shape[0], 'train samples')\n",
    "print(x_test.shape[0], 'test samples')\n",
    "\n",
    "#Datenvektorisierung\n",
    "y_train = keras.utils.to_categorical(y_train, num_classes) # Standard bei NN\n",
    "y_test = keras.utils.to_categorical(y_test, num_classes)# Standard bei NN"
   ]
  },
  {
   "cell_type": "code",
   "execution_count": null,
   "metadata": {},
   "outputs": [],
   "source": [
    "print(x_train.shape)\n",
    "print(y_train.shape)\n",
    "print(x_test.shape)\n",
    "print(y_test.shape)"
   ]
  },
  {
   "cell_type": "code",
   "execution_count": null,
   "metadata": {},
   "outputs": [],
   "source": [
    "# Prüfen ob bereits ein Model bereits trainiert und gespeichert ist, im Falle, dass noch kein Modell vorliegt neu erstellen\n",
    "modelMLP = Path(\"./MODEL/modelMLP.json\")\n",
    "if modelMLP.is_file():\n",
    "   # load json and create model\n",
    "    json_file = open('./MODEL/modelMLP.json', 'r')\n",
    "    loaded_model_json = json_file.read()\n",
    "    json_file.close()\n",
    "    modelMLP = model_from_json(loaded_model_json)\n",
    "    # load weights into new model\n",
    "    modelMLP.load_weights(\"./MODEL/modelMLP.h5\")\n",
    "    print(\"Loaded model from disk\")\n",
    "else:\n",
    "    modelMLP = Sequential()\n",
    "    modelMLP.add(Dense(512, activation='relu', input_shape=(784,)))\n",
    "    modelMLP.add(Dropout(0.2))\n",
    "    modelMLP.add(Dense(512, activation='relu'))\n",
    "    modelMLP.add(Dropout(0.2))\n",
    "    modelMLP.add(Dense(num_classes, activation='softmax')) # hier der letzte Layer hat die Anzahl der möglichen klassen & die Softmax Aktivierung\n",
    "    modelMLP.summary()"
   ]
  },
  {
   "cell_type": "code",
   "execution_count": null,
   "metadata": {},
   "outputs": [],
   "source": [
    "#\n",
    "modelMLP.compile(loss='categorical_crossentropy',\n",
    "              optimizer=RMSprop(),\n",
    "              metrics=['accuracy'])\n"
   ]
  },
  {
   "cell_type": "code",
   "execution_count": null,
   "metadata": {
    "scrolled": true
   },
   "outputs": [],
   "source": [
    "# Ausführen des Modelles\n",
    "history = modelMLP.fit(x_train, y_train,\n",
    "                    batch_size=batch_size,\n",
    "                    epochs=epochs,\n",
    "                    verbose=1, # show training progress during training Possible = 0,1,2\n",
    "                    validation_data=(x_test, y_test))"
   ]
  },
  {
   "cell_type": "code",
   "execution_count": null,
   "metadata": {},
   "outputs": [],
   "source": [
    "# Save trained Model to disk via JSON\n",
    "model_json = modelMLP.to_json()\n",
    "with open(\"./MODEL/modelMLP.json\", \"w\") as json_file:\n",
    "    json_file.write(model_json)\n",
    "# serialize weights to HDF5\n",
    "modelMLP.save_weights(\"./MODEL/modelMLP.h5\")\n",
    "print(\"Saved modelMLP to disk\")"
   ]
  },
  {
   "cell_type": "code",
   "execution_count": null,
   "metadata": {},
   "outputs": [],
   "source": [
    "score = modelMLP.evaluate(x_test, y_test, verbose=0)\n",
    "print('Test loss:', score[0])\n",
    "print('Test accuracy:', score[1])"
   ]
  },
  {
   "cell_type": "code",
   "execution_count": null,
   "metadata": {},
   "outputs": [],
   "source": [
    "# Plot training & validation accuracy values\n",
    "\n",
    "plt.plot(history.history['accuracy'])\n",
    "plt.plot(history.history['val_accuracy'])\n",
    "plt.title('Model accuracy')\n",
    "plt.ylabel('Accuracy')\n",
    "plt.xlabel('Epoch')\n",
    "plt.legend(['Train', 'Test'], loc='upper left')\n",
    "plt.show()"
   ]
  },
  {
   "cell_type": "code",
   "execution_count": null,
   "metadata": {},
   "outputs": [],
   "source": [
    "# Plot training & validation loss values\n",
    "plt.plot(history.history['loss'])\n",
    "plt.plot(history.history['val_loss'])\n",
    "plt.title('Model loss')\n",
    "plt.ylabel('Loss')\n",
    "plt.xlabel('Epoch')\n",
    "plt.legend(['Train', 'Test'], loc='upper left')\n",
    "plt.show()"
   ]
  },
  {
   "cell_type": "code",
   "execution_count": null,
   "metadata": {},
   "outputs": [],
   "source": [
    "\n",
    "tf.keras.utils.plot_model(\n",
    "    modelMLP,\n",
    "    to_file='model.png',\n",
    "    show_shapes=False,\n",
    "    show_layer_names=True,\n",
    "    rankdir='TB'\n",
    ")"
   ]
  }
 ],
 "metadata": {
  "kernelspec": {
   "display_name": "Python 3",
   "language": "python",
   "name": "python3"
  },
  "language_info": {
   "codemirror_mode": {
    "name": "ipython",
    "version": 3
   },
   "file_extension": ".py",
   "mimetype": "text/x-python",
   "name": "python",
   "nbconvert_exporter": "python",
   "pygments_lexer": "ipython3",
   "version": "3.5.6"
  }
 },
 "nbformat": 4,
 "nbformat_minor": 2
}
