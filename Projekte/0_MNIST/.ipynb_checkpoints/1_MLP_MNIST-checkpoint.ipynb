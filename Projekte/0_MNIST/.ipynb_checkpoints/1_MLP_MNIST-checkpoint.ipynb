{
 "cells": [
  {
   "cell_type": "markdown",
   "metadata": {},
   "source": [
    "# MLP MNIST\n",
    "Hier werden das erste Mal im MNIST nun Algotihmen aus dem \n",
    "Multilayer Perceptron (MLP) for multi-class softmax classification:"
   ]
  },
  {
   "cell_type": "code",
   "execution_count": 42,
   "metadata": {},
   "outputs": [],
   "source": [
    "# Import Libraries\n",
    "from __future__ import print_function\n",
    "import keras\n",
    "from keras.datasets import mnist\n",
    "from keras.models import Sequential\n",
    "from keras.layers import Dense, Dropout\n",
    "from keras.optimizers import RMSprop\n",
    "from keras.models import model_from_json\n",
    "from pathlib import Path\n",
    "import matplotlib.pyplot as plt\n",
    "import tensorflow as tf"
   ]
  },
  {
   "cell_type": "code",
   "execution_count": 43,
   "metadata": {},
   "outputs": [],
   "source": [
    "# Hyperparamter Upfront \n",
    "batch_size = 128 # Bei MNIST wähle ich die 128 immer ident\n",
    "num_classes = 10 # Vorgabe aus Datensatz\n",
    "epochs = 20 # Wird in allen Modellen geählt"
   ]
  },
  {
   "cell_type": "code",
   "execution_count": 44,
   "metadata": {},
   "outputs": [
    {
     "name": "stdout",
     "output_type": "stream",
     "text": [
      "(60000, 28, 28)\n",
      "(60000,)\n",
      "(10000, 28, 28)\n",
      "(10000,)\n"
     ]
    }
   ],
   "source": [
    "(x_train, y_train), (x_test, y_test) = mnist.load_data()\n",
    "print(x_train.shape)\n",
    "print(y_train.shape)\n",
    "print(x_test.shape)\n",
    "print(y_test.shape)\n",
    "# Für MLP brauch ich einen Eingangsvektor => Reshaping"
   ]
  },
  {
   "cell_type": "code",
   "execution_count": 45,
   "metadata": {},
   "outputs": [
    {
     "name": "stdout",
     "output_type": "stream",
     "text": [
      "60000 train samples\n",
      "10000 test samples\n"
     ]
    }
   ],
   "source": [
    "x_train = x_train.reshape(60000, 784) # MLP benötigt InputVektor und keine Matrix => reshape\n",
    "x_test = x_test.reshape(10000, 784) # MLP benötigt InputVektor und keine Matrix => reshape\n",
    "x_train = x_train.astype('float32') # Standard \n",
    "x_test = x_test.astype('float32') # Standard \n",
    "x_train /= 255 # skalieren\n",
    "x_test /= 255 # Skalieren\n",
    "\n",
    "print(x_train.shape[0], 'train samples')\n",
    "print(x_test.shape[0], 'test samples')\n",
    "\n",
    "#Datenvektorisierung\n",
    "y_train = keras.utils.to_categorical(y_train, num_classes) # Standard bei NN\n",
    "y_test = keras.utils.to_categorical(y_test, num_classes)# Standard bei NN"
   ]
  },
  {
   "cell_type": "code",
   "execution_count": 46,
   "metadata": {},
   "outputs": [
    {
     "name": "stdout",
     "output_type": "stream",
     "text": [
      "(60000, 784)\n",
      "(60000, 10)\n",
      "(10000, 784)\n",
      "(10000, 10)\n"
     ]
    }
   ],
   "source": [
    "print(x_train.shape)\n",
    "print(y_train.shape)\n",
    "print(x_test.shape)\n",
    "print(y_test.shape)"
   ]
  },
  {
   "cell_type": "code",
   "execution_count": 47,
   "metadata": {},
   "outputs": [
    {
     "name": "stdout",
     "output_type": "stream",
     "text": [
      "Loaded model from disk\n"
     ]
    }
   ],
   "source": [
    "# Prüfen ob bereits ein Model bereits trainiert und gespeichert ist, im Falle, dass noch kein Modell vorliegt neu erstellen\n",
    "modelMLP = Path(\"./MODEL/modelMLP.json\")\n",
    "if modelMLP.is_file():\n",
    "   # load json and create model\n",
    "    json_file = open('./MODEL/modelMLP.json', 'r')\n",
    "    loaded_model_json = json_file.read()\n",
    "    json_file.close()\n",
    "    modelMLP = model_from_json(loaded_model_json)\n",
    "    # load weights into new model\n",
    "    modelMLP.load_weights(\"./MODEL/modelMLP.h5\")\n",
    "    print(\"Loaded model from disk\")\n",
    "else:\n",
    "    modelMLP = Sequential()\n",
    "    modelMLP.add(Dense(512, activation='relu', input_shape=(784,)))\n",
    "    modelMLP.add(Dropout(0.2))\n",
    "    modelMLP.add(Dense(512, activation='relu'))\n",
    "    modelMLP.add(Dropout(0.2))\n",
    "    modelMLP.add(Dense(num_classes, activation='softmax')) # hier der letzte Layer hat die Anzahl der möglichen klassen & die Softmax Aktivierung\n",
    "    modelMLP.summary()"
   ]
  },
  {
   "cell_type": "code",
   "execution_count": 35,
   "metadata": {},
   "outputs": [],
   "source": [
    "#\n",
    "modelMLP.compile(loss='categorical_crossentropy',\n",
    "              optimizer=RMSprop(),\n",
    "              metrics=['accuracy'])\n"
   ]
  },
  {
   "cell_type": "code",
   "execution_count": 36,
   "metadata": {
    "scrolled": true
   },
   "outputs": [
    {
     "name": "stdout",
     "output_type": "stream",
     "text": [
      "Train on 60000 samples, validate on 10000 samples\n",
      "Epoch 1/30\n",
      "60000/60000 [==============================] - 13s 213us/step - loss: 0.2453 - accuracy: 0.9253 - val_loss: 0.1320 - val_accuracy: 0.9564\n",
      "Epoch 2/30\n",
      "60000/60000 [==============================] - 12s 194us/step - loss: 0.1024 - accuracy: 0.9690 - val_loss: 0.0888 - val_accuracy: 0.9733\n",
      "Epoch 3/30\n",
      "60000/60000 [==============================] - 12s 192us/step - loss: 0.0752 - accuracy: 0.9772 - val_loss: 0.0755 - val_accuracy: 0.9773\n",
      "Epoch 4/30\n",
      "60000/60000 [==============================] - 12s 202us/step - loss: 0.0592 - accuracy: 0.9814 - val_loss: 0.0748 - val_accuracy: 0.9786\n",
      "Epoch 5/30\n",
      "60000/60000 [==============================] - 11s 191us/step - loss: 0.0494 - accuracy: 0.9846 - val_loss: 0.0812 - val_accuracy: 0.9796\n",
      "Epoch 6/30\n",
      "60000/60000 [==============================] - 11s 185us/step - loss: 0.0439 - accuracy: 0.9865 - val_loss: 0.0832 - val_accuracy: 0.9777\n",
      "Epoch 7/30\n",
      "60000/60000 [==============================] - 11s 189us/step - loss: 0.0382 - accuracy: 0.9888 - val_loss: 0.0810 - val_accuracy: 0.9817\n",
      "Epoch 8/30\n",
      "60000/60000 [==============================] - 11s 190us/step - loss: 0.0345 - accuracy: 0.9897 - val_loss: 0.0876 - val_accuracy: 0.9800\n",
      "Epoch 9/30\n",
      "60000/60000 [==============================] - 11s 190us/step - loss: 0.0304 - accuracy: 0.9906 - val_loss: 0.0851 - val_accuracy: 0.9827\n",
      "Epoch 10/30\n",
      "60000/60000 [==============================] - 13s 213us/step - loss: 0.0288 - accuracy: 0.9919 - val_loss: 0.0902 - val_accuracy: 0.9824\n",
      "Epoch 11/30\n",
      "60000/60000 [==============================] - 14s 241us/step - loss: 0.0253 - accuracy: 0.9924 - val_loss: 0.1058 - val_accuracy: 0.9808\n",
      "Epoch 12/30\n",
      "60000/60000 [==============================] - 13s 213us/step - loss: 0.0241 - accuracy: 0.9933 - val_loss: 0.0920 - val_accuracy: 0.9836\n",
      "Epoch 13/30\n",
      "60000/60000 [==============================] - 12s 202us/step - loss: 0.0224 - accuracy: 0.9937 - val_loss: 0.1026 - val_accuracy: 0.9824\n",
      "Epoch 14/30\n",
      "60000/60000 [==============================] - 12s 193us/step - loss: 0.0208 - accuracy: 0.9939 - val_loss: 0.0985 - val_accuracy: 0.9836\n",
      "Epoch 15/30\n",
      "60000/60000 [==============================] - 12s 198us/step - loss: 0.0207 - accuracy: 0.9942 - val_loss: 0.1252 - val_accuracy: 0.9826\n",
      "Epoch 16/30\n",
      "60000/60000 [==============================] - 13s 218us/step - loss: 0.0206 - accuracy: 0.9944 - val_loss: 0.1182 - val_accuracy: 0.9850\n",
      "Epoch 17/30\n",
      "60000/60000 [==============================] - 16s 264us/step - loss: 0.0192 - accuracy: 0.9948 - val_loss: 0.1118 - val_accuracy: 0.9838\n",
      "Epoch 18/30\n",
      "60000/60000 [==============================] - 15s 254us/step - loss: 0.0192 - accuracy: 0.9951 - val_loss: 0.1268 - val_accuracy: 0.9838\n",
      "Epoch 19/30\n",
      "60000/60000 [==============================] - 15s 248us/step - loss: 0.0181 - accuracy: 0.9951 - val_loss: 0.1408 - val_accuracy: 0.9824\n",
      "Epoch 20/30\n",
      "60000/60000 [==============================] - 13s 224us/step - loss: 0.0199 - accuracy: 0.9948 - val_loss: 0.1267 - val_accuracy: 0.9828\n",
      "Epoch 21/30\n",
      "60000/60000 [==============================] - 13s 221us/step - loss: 0.0181 - accuracy: 0.9959 - val_loss: 0.1318 - val_accuracy: 0.9840\n",
      "Epoch 22/30\n",
      "60000/60000 [==============================] - 13s 223us/step - loss: 0.0184 - accuracy: 0.9954 - val_loss: 0.1309 - val_accuracy: 0.9847\n",
      "Epoch 23/30\n",
      "60000/60000 [==============================] - 14s 225us/step - loss: 0.0183 - accuracy: 0.9956 - val_loss: 0.1404 - val_accuracy: 0.9835\n",
      "Epoch 24/30\n",
      "60000/60000 [==============================] - 16s 260us/step - loss: 0.0188 - accuracy: 0.9953 - val_loss: 0.1303 - val_accuracy: 0.9846\n",
      "Epoch 25/30\n",
      "60000/60000 [==============================] - 14s 241us/step - loss: 0.0177 - accuracy: 0.9960 - val_loss: 0.1378 - val_accuracy: 0.9840\n",
      "Epoch 26/30\n",
      "60000/60000 [==============================] - 14s 234us/step - loss: 0.0154 - accuracy: 0.9963 - val_loss: 0.1421 - val_accuracy: 0.9837\n",
      "Epoch 27/30\n",
      "60000/60000 [==============================] - 13s 224us/step - loss: 0.0174 - accuracy: 0.9960 - val_loss: 0.1509 - val_accuracy: 0.9832\n",
      "Epoch 28/30\n",
      "60000/60000 [==============================] - 14s 236us/step - loss: 0.0161 - accuracy: 0.9959 - val_loss: 0.1706 - val_accuracy: 0.9810\n",
      "Epoch 29/30\n",
      "60000/60000 [==============================] - 13s 223us/step - loss: 0.0141 - accuracy: 0.9964 - val_loss: 0.1665 - val_accuracy: 0.9834\n",
      "Epoch 30/30\n",
      "60000/60000 [==============================] - 13s 222us/step - loss: 0.0134 - accuracy: 0.9967 - val_loss: 0.1674 - val_accuracy: 0.9844\n"
     ]
    }
   ],
   "source": [
    "# Ausführen des Modelles\n",
    "history = modelMLP.fit(x_train, y_train,\n",
    "                    batch_size=batch_size,\n",
    "                    epochs=epochs,\n",
    "                    verbose=1, # show training progress during training Possible = 0,1,2\n",
    "                    validation_data=(x_test, y_test))"
   ]
  },
  {
   "cell_type": "code",
   "execution_count": 37,
   "metadata": {},
   "outputs": [
    {
     "name": "stdout",
     "output_type": "stream",
     "text": [
      "Saved modelMLP to disk\n"
     ]
    }
   ],
   "source": [
    "# Save trained Model to disk via JSON\n",
    "model_json = modelMLP.to_json()\n",
    "with open(\"./MODEL/modelMLP.json\", \"w\") as json_file:\n",
    "    json_file.write(model_json)\n",
    "# serialize weights to HDF5\n",
    "modelMLP.save_weights(\"./MODEL/modelMLP.h5\")\n",
    "print(\"Saved modelMLP to disk\")"
   ]
  },
  {
   "cell_type": "code",
   "execution_count": 55,
   "metadata": {},
   "outputs": [
    {
     "ename": "RuntimeError",
     "evalue": "You must compile a model before training/testing. Use `model.compile(optimizer, loss)`.",
     "output_type": "error",
     "traceback": [
      "\u001b[1;31m---------------------------------------------------------------------------\u001b[0m",
      "\u001b[1;31mRuntimeError\u001b[0m                              Traceback (most recent call last)",
      "\u001b[1;32m<ipython-input-55-acd98dfae9d5>\u001b[0m in \u001b[0;36m<module>\u001b[1;34m\u001b[0m\n\u001b[1;32m----> 1\u001b[1;33m \u001b[0mscore\u001b[0m \u001b[1;33m=\u001b[0m \u001b[0mmodelMLP\u001b[0m\u001b[1;33m.\u001b[0m\u001b[0mevaluate\u001b[0m\u001b[1;33m(\u001b[0m\u001b[0mx_test\u001b[0m\u001b[1;33m,\u001b[0m \u001b[0my_test\u001b[0m\u001b[1;33m,\u001b[0m \u001b[0mverbose\u001b[0m\u001b[1;33m=\u001b[0m\u001b[1;36m0\u001b[0m\u001b[1;33m)\u001b[0m\u001b[1;33m\u001b[0m\u001b[0m\n\u001b[0m\u001b[0;32m      2\u001b[0m \u001b[0mprint\u001b[0m\u001b[1;33m(\u001b[0m\u001b[1;34m'Test loss:'\u001b[0m\u001b[1;33m,\u001b[0m \u001b[0mscore\u001b[0m\u001b[1;33m[\u001b[0m\u001b[1;36m0\u001b[0m\u001b[1;33m]\u001b[0m\u001b[1;33m)\u001b[0m\u001b[1;33m\u001b[0m\u001b[0m\n\u001b[0;32m      3\u001b[0m \u001b[0mprint\u001b[0m\u001b[1;33m(\u001b[0m\u001b[1;34m'Test accuracy:'\u001b[0m\u001b[1;33m,\u001b[0m \u001b[0mscore\u001b[0m\u001b[1;33m[\u001b[0m\u001b[1;36m1\u001b[0m\u001b[1;33m]\u001b[0m\u001b[1;33m)\u001b[0m\u001b[1;33m\u001b[0m\u001b[0m\n",
      "\u001b[1;32mc:\\users\\1810837475\\.conda\\envs\\testtensorflow\\lib\\site-packages\\keras\\engine\\training.py\u001b[0m in \u001b[0;36mevaluate\u001b[1;34m(self, x, y, batch_size, verbose, sample_weight, steps, callbacks, max_queue_size, workers, use_multiprocessing)\u001b[0m\n\u001b[0;32m   1347\u001b[0m             \u001b[0mx\u001b[0m\u001b[1;33m,\u001b[0m \u001b[0my\u001b[0m\u001b[1;33m,\u001b[0m\u001b[1;33m\u001b[0m\u001b[0m\n\u001b[0;32m   1348\u001b[0m             \u001b[0msample_weight\u001b[0m\u001b[1;33m=\u001b[0m\u001b[0msample_weight\u001b[0m\u001b[1;33m,\u001b[0m\u001b[1;33m\u001b[0m\u001b[0m\n\u001b[1;32m-> 1349\u001b[1;33m             batch_size=batch_size)\n\u001b[0m\u001b[0;32m   1350\u001b[0m         \u001b[1;31m# Prepare inputs, delegate logic to `test_loop`.\u001b[0m\u001b[1;33m\u001b[0m\u001b[1;33m\u001b[0m\u001b[0m\n\u001b[0;32m   1351\u001b[0m         \u001b[1;32mif\u001b[0m \u001b[0mself\u001b[0m\u001b[1;33m.\u001b[0m\u001b[0m_uses_dynamic_learning_phase\u001b[0m\u001b[1;33m(\u001b[0m\u001b[1;33m)\u001b[0m\u001b[1;33m:\u001b[0m\u001b[1;33m\u001b[0m\u001b[0m\n",
      "\u001b[1;32mc:\\users\\1810837475\\.conda\\envs\\testtensorflow\\lib\\site-packages\\keras\\engine\\training.py\u001b[0m in \u001b[0;36m_standardize_user_data\u001b[1;34m(self, x, y, sample_weight, class_weight, check_array_lengths, batch_size)\u001b[0m\n\u001b[0;32m    506\u001b[0m         \u001b[1;32mif\u001b[0m \u001b[0my\u001b[0m \u001b[1;32mis\u001b[0m \u001b[1;32mnot\u001b[0m \u001b[1;32mNone\u001b[0m\u001b[1;33m:\u001b[0m\u001b[1;33m\u001b[0m\u001b[0m\n\u001b[0;32m    507\u001b[0m             \u001b[1;32mif\u001b[0m \u001b[1;32mnot\u001b[0m \u001b[0mself\u001b[0m\u001b[1;33m.\u001b[0m\u001b[0moptimizer\u001b[0m\u001b[1;33m:\u001b[0m\u001b[1;33m\u001b[0m\u001b[0m\n\u001b[1;32m--> 508\u001b[1;33m                 raise RuntimeError('You must compile a model before '\n\u001b[0m\u001b[0;32m    509\u001b[0m                                    \u001b[1;34m'training/testing. '\u001b[0m\u001b[1;33m\u001b[0m\u001b[0m\n\u001b[0;32m    510\u001b[0m                                    'Use `model.compile(optimizer, loss)`.')\n",
      "\u001b[1;31mRuntimeError\u001b[0m: You must compile a model before training/testing. Use `model.compile(optimizer, loss)`."
     ]
    }
   ],
   "source": [
    "score = modelMLP.evaluate(x_test, y_test, verbose=0)\n",
    "print('Test loss:', score[0])\n",
    "print('Test accuracy:', score[1])"
   ]
  },
  {
   "cell_type": "code",
   "execution_count": 48,
   "metadata": {},
   "outputs": [
    {
     "data": {
      "image/png": "[encoded data removed]",
      "text/plain": [
       "<Figure size 432x288 with 1 Axes>"
      ]
     },
     "metadata": {
      "needs_background": "light"
     },
     "output_type": "display_data"
    }
   ],
   "source": [
    "# Plot training & validation accuracy values\n",
    "\n",
    "plt.plot(history.history['accuracy'])\n",
    "plt.plot(history.history['val_accuracy'])\n",
    "plt.title('Model accuracy')\n",
    "plt.ylabel('Accuracy')\n",
    "plt.xlabel('Epoch')\n",
    "plt.legend(['Train', 'Test'], loc='upper left')\n",
    "plt.show()"
   ]
  },
  {
   "cell_type": "code",
   "execution_count": 49,
   "metadata": {},
   "outputs": [
    {
     "data": {
      "image/png": "[encoded data removed]",
      "text/plain": [
       "<Figure size 432x288 with 1 Axes>"
      ]
     },
     "metadata": {
      "needs_background": "light"
     },
     "output_type": "display_data"
    }
   ],
   "source": [
    "# Plot training & validation loss values\n",
    "plt.plot(history.history['loss'])\n",
    "plt.plot(history.history['val_loss'])\n",
    "plt.title('Model loss')\n",
    "plt.ylabel('Loss')\n",
    "plt.xlabel('Epoch')\n",
    "plt.legend(['Train', 'Test'], loc='upper left')\n",
    "plt.show()"
   ]
  },
  {
   "cell_type": "code",
   "execution_count": 41,
   "metadata": {},
   "outputs": [
    {
     "data": {
      "image/png": "[encoded data removed]",
      "text/plain": [
       "<IPython.core.display.Image object>"
      ]
     },
     "execution_count": 41,
     "metadata": {},
     "output_type": "execute_result"
    }
   ],
   "source": [
    "\n",
    "tf.keras.utils.plot_model(\n",
    "    modelMLP,\n",
    "    to_file='model.png',\n",
    "    show_shapes=False,\n",
    "    show_layer_names=True,\n",
    "    rankdir='TB'\n",
    ")"
   ]
  },
  {
   "cell_type": "code",
   "execution_count": null,
   "metadata": {},
   "outputs": [],
   "source": []
  }
 ],
 "metadata": {
  "kernelspec": {
   "display_name": "Python 3",
   "language": "python",
   "name": "python3"
  },
  "language_info": {
   "codemirror_mode": {
    "name": "ipython",
    "version": 3
   },
   "file_extension": ".py",
   "mimetype": "text/x-python",
   "name": "python",
   "nbconvert_exporter": "python",
   "pygments_lexer": "ipython3",
   "version": "3.5.6"
  }
 },
 "nbformat": 4,
 "nbformat_minor": 2
}
