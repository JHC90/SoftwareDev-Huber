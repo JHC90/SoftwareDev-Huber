{
 "cells": [
  {
   "cell_type": "markdown",
   "metadata": {},
   "source": [
    "# Evaluation Algorithms for MNIST\n",
    "Dieses Notebook dient dazu alle Modelle miteinander zu vergleichen, dazu wurden die fertig trainierten Modelle in dem Directory ./MODEL abgelegt, hier werden alle geladen und miteinander verglichen "
   ]
  },
  {
   "cell_type": "code",
   "execution_count": 34,
   "metadata": {},
   "outputs": [],
   "source": [
    "# Imports\n",
    "from sklearn.externals import joblib # Laden der Modelle\n",
    "from mlxtend.data import loadlocal_mnist\n",
    "from sklearn.model_selection import cross_val_predict # For Predictions\n",
    "from sklearn.metrics import confusion_matrix # For CM\n",
    "from sklearn.metrics import precision_score, recall_score # FOR PR/RC\n",
    "from sklearn.metrics import f1_score\n",
    "from sklearn.model_selection import cross_val_score # For Cross Validation\n",
    "from sklearn.metrics import roc_curve # Für die ROC-Kurve\n",
    "from IPython.display import HTML, display# darstellung der Ergebnisslisten\n",
    "from sklearn.metrics import precision_recall_curve\n",
    "import matplotlib\n",
    "import matplotlib.pyplot as plt"
   ]
  },
  {
   "cell_type": "code",
   "execution_count": 2,
   "metadata": {},
   "outputs": [],
   "source": [
    "# Laden der Daten für die Predcitions\n",
    "train_X, train_y = loadlocal_mnist(\n",
    "        images_path='./Data/train-images.idx3-ubyte', \n",
    "        labels_path='./Data/train-labels.idx1-ubyte')\n",
    "test_X, test_y = loadlocal_mnist(\n",
    "        images_path='./Data/t10k-images.idx3-ubyte', \n",
    "        labels_path='./Data/t10k-labels.idx1-ubyte')\n",
    "y_train_5 = (train_y == 5)\n",
    "y_test_5 = (test_y == 5)"
   ]
  },
  {
   "cell_type": "code",
   "execution_count": 3,
   "metadata": {},
   "outputs": [],
   "source": [
    "# hier lediglich die fertig trainierten Modelle laden\n",
    "sgd_clf = joblib.load(\"./MODEL/MNIST_sgd_clf.pkl\")\n",
    "logReg_clf = joblib.load(\"./MODEL/MNIST_logReg_clf.pkl\")"
   ]
  },
  {
   "cell_type": "code",
   "execution_count": 4,
   "metadata": {},
   "outputs": [],
   "source": [
    "# Liste aller Modelle, welche wir im weiteren auswerten\n",
    "trainedModels = [sgd_clf, logReg_clf]"
   ]
  },
  {
   "cell_type": "markdown",
   "metadata": {},
   "source": [
    "# Accuracy\n",
    "Bei der Accuracy misst man die Anzahl der richtig klassifizierten einheiten gegen alle \n",
    "Die Fragestellung lautet gegen was man testet\n",
    "1) gegen die Testdaten\n",
    "2) gegen die CV-Daten\n",
    "im Weiteren arbeit ich mit cv-Daten"
   ]
  },
  {
   "cell_type": "markdown",
   "metadata": {},
   "source": [
    "Dem folgenden Output kann man nicht blind vertrauen, da bestimmte Modelle erheblich besser performen. \n",
    "Am Beispiel von MNIST: Der Datensatz besteht aus 10% \"5\". Ein Classifier, welcher einfach auf 100% nicht \"5\" prognositiziert ist somit zu 90% richtig. Das ist der Grund warum die Accuracy nicht notgedrungen die präferierte Version für die Evaluierung von Classifiaction ist"
   ]
  },
  {
   "cell_type": "code",
   "execution_count": 14,
   "metadata": {},
   "outputs": [
    {
     "name": "stderr",
     "output_type": "stream",
     "text": [
      "C:\\Users\\1810837475\\.conda\\envs\\Kompensationsarbeit\\lib\\site-packages\\sklearn\\linear_model\\_logistic.py:939: ConvergenceWarning: lbfgs failed to converge (status=1):\n",
      "STOP: TOTAL NO. of ITERATIONS REACHED LIMIT.\n",
      "\n",
      "Increase the number of iterations (max_iter) or scale the data as shown in:\n",
      "    https://scikit-learn.org/stable/modules/preprocessing.html.\n",
      "Please also refer to the documentation for alternative solver options:\n",
      "    https://scikit-learn.org/stable/modules/linear_model.html#logistic-regression\n",
      "  extra_warning_msg=_LOGISTIC_SOLVER_CONVERGENCE_MSG)\n",
      "C:\\Users\\1810837475\\.conda\\envs\\Kompensationsarbeit\\lib\\site-packages\\sklearn\\linear_model\\_logistic.py:939: ConvergenceWarning: lbfgs failed to converge (status=1):\n",
      "STOP: TOTAL NO. of ITERATIONS REACHED LIMIT.\n",
      "\n",
      "Increase the number of iterations (max_iter) or scale the data as shown in:\n",
      "    https://scikit-learn.org/stable/modules/preprocessing.html.\n",
      "Please also refer to the documentation for alternative solver options:\n",
      "    https://scikit-learn.org/stable/modules/linear_model.html#logistic-regression\n",
      "  extra_warning_msg=_LOGISTIC_SOLVER_CONVERGENCE_MSG)\n",
      "C:\\Users\\1810837475\\.conda\\envs\\Kompensationsarbeit\\lib\\site-packages\\sklearn\\linear_model\\_logistic.py:939: ConvergenceWarning: lbfgs failed to converge (status=1):\n",
      "STOP: TOTAL NO. of ITERATIONS REACHED LIMIT.\n",
      "\n",
      "Increase the number of iterations (max_iter) or scale the data as shown in:\n",
      "    https://scikit-learn.org/stable/modules/preprocessing.html.\n",
      "Please also refer to the documentation for alternative solver options:\n",
      "    https://scikit-learn.org/stable/modules/linear_model.html#logistic-regression\n",
      "  extra_warning_msg=_LOGISTIC_SOLVER_CONVERGENCE_MSG)\n"
     ]
    }
   ],
   "source": [
    "accuracyList = [[\"Model\", \"Accuracys per CV\"]]\n",
    "for model in range(0, len(trainedModels),1):  \n",
    "    interim = []\n",
    "    interim.append(trainedModels[model])\n",
    "    interim.append(cross_val_score(trainedModels[model], train_X, y_train_5, cv=3, scoring=\"accuracy\"))\n",
    "    accuracyList.append(interim)\n",
    "    "
   ]
  },
  {
   "cell_type": "code",
   "execution_count": 11,
   "metadata": {},
   "outputs": [
    {
     "data": {
      "text/html": [
       "<table><tr><td>Model</td><td>Accuracys per CV</td></tr><tr><td>SGDClassifier(alpha=0.0001, average=False, class_weight=None,\n",
       "              early_stopping=False, epsilon=0.1, eta0=0.0, fit_intercept=True,\n",
       "              l1_ratio=0.15, learning_rate='optimal', loss='hinge', max_iter=5,\n",
       "              n_iter_no_change=5, n_jobs=None, penalty='l2', power_t=0.5,\n",
       "              random_state=42, shuffle=True, tol=-inf, validation_fraction=0.1,\n",
       "              verbose=0, warm_start=False)</td><td>[0.9633  0.95695 0.9146 ]</td></tr><tr><td>LogisticRegression(C=100000.0, class_weight=None, dual=False,\n",
       "                   fit_intercept=True, intercept_scaling=1, l1_ratio=None,\n",
       "                   max_iter=100, multi_class='auto', n_jobs=None, penalty='l2',\n",
       "                   random_state=None, solver='lbfgs', tol=0.0001, verbose=0,\n",
       "                   warm_start=False)</td><td>[0.97485 0.97305 0.9735 ]</td></tr></table>"
      ],
      "text/plain": [
       "<IPython.core.display.HTML object>"
      ]
     },
     "metadata": {},
     "output_type": "display_data"
    }
   ],
   "source": [
    "display(HTML(\n",
    "   '<table><tr>{}</tr></table>'.format(\n",
    "       '</tr><tr>'.join(\n",
    "           '<td>{}</td>'.format('</td><td>'.join(str(_) for _ in row)) for row in accuracyList)\n",
    "       )\n",
    "))"
   ]
  },
  {
   "cell_type": "markdown",
   "metadata": {},
   "source": [
    "# Confusion Matrix\n",
    "Idee de Confusion Matrix = man zählt wie oft welche Klasse Richtig, oder eben Falsch klassifiziert wurde. \n",
    "hier haben wir die Ausgangslage, dass trainierte Modelle(auf Basis der Traindata) vorliegen. für das Testen gibt es nun zwei Möglichkeiten\n",
    "1) Auf Basis von Crossvalidation innerhalb des Train-Sets\n",
    "2) Auf Basis der Testdata\n",
    "Im weiteren Arbeiten wir mit der 1) version mit einer CV von 3"
   ]
  },
  {
   "cell_type": "markdown",
   "metadata": {},
   "source": [
    "## Interpretation Confusion Matrix\n",
    ". in dem Binären bsp MNIST stellt die erste Zeile die Werte \"nicht 5\" dar. Somit wurden 52336, laug dem SGDC-Classifier als \"richtig nicht 5\" Klassifiziert, wobei die zweite Zeile \"ist 5\" 4361 Richtig und 1060 nicht erkannt wurde. <br>\n",
    "### Precsion & Recall & F1-Score\n",
    "<table border width=100% height=100>\n",
    "<tbody>\n",
    "<tr style=\"height: 22px;\">\n",
    "<td style=\"height: 22px;\">Buzz-word</td>\n",
    "<td style=\"height: 22px;\">Erkl&auml;rung</td>\n",
    "<td style=\"height: 22px;\">Beispiel</td>\n",
    "<td style=\"height: 22px;\">&nbsp;</td>\n",
    "<td style=\"height: 22px;\">Praktische Anwendung</td>\n",
    "</tr>\n",
    "<tr style=\"height: 22px;\">\n",
    "<td style=\"height: 22px;\">Confusion Matrix</td>\n",
    "<td style=\"height: 22px;\">Jede Reihe repr&auml;sentiert eine aktuelle Klasse, w&auml;hrend jede Spalte die pr&auml;diktiert Klasse darstellt</td>\n",
    "<td style=\"height: 22px;\">Somit wurden 52336, laug dem SGDC-Classifier als \"richtig nicht 5\" Klassifiziert, wobei die zweite Zeile \"ist 5\" 4361 Richtig und 1060 nicht erkannt wurde.</td>\n",
    "<td style=\"height: 22px;\">&nbsp;</td>\n",
    "<td style=\"height: 22px;\">&nbsp;</td>\n",
    "</tr>\n",
    "<tr style=\"height: 22px;\">\n",
    "<td style=\"height: 22px;\">Precision</td>\n",
    "<td style=\"height: 22px;\">Mathematisch = TP/(TP+FP)</td>\n",
    "<td style=\"height: 22px;\">Relative Anzahl der richtig positiv Klassifizierten&nbsp;zu allen positiv Klassifizierten</td>\n",
    "<td style=\"height: 22px;\">&nbsp;Soll so hoch wie m&ouml;glich sein</td>\n",
    "<td style=\"height: 22px;\">Bsp f&uuml;r Wunsch\"high Precision &amp; in Kaufnehme von low Recall\" Bsp Content filter f&uuml;r Videomaterial. Es wird wohl besser sein Mehr videos welche eigentlich \"gut\" w&auml;ren als \"schlecht zu klassifizeren und diesen bspw Kindern nicht zug&auml;nglich zu machen als andersherum\"</td>\n",
    "</tr>\n",
    "<tr style=\"height: 22px;\">\n",
    "<td style=\"height: 22px;\">Recall</td>\n",
    "<td style=\"height: 22px;\">Mathematisch = TP/(TP+FN)</td>\n",
    "<td style=\"height: 22px;\">&nbsp;Relative Anzahl der richtig positiv Klassifizierten&nbsp;zu allen richtig Klassifizierten</td>\n",
    "<td style=\"height: 22px;\">&nbsp;Soll so hoch wie m&ouml;glich sein</td>\n",
    "<td style=\"height: 22px;\">Bsp f&uuml;r Wunsch\"high&nbsp;Recall&amp; in Kaufnehme von low Precision\" Bsp&nbsp;automatische Auswertung von Bildmaterial von Diebstahl...Lieber Securtiy ein paar mal h&auml;ufiger raus als eigentlich n&ouml;tig, als diebstahl zulassen</td>\n",
    "</tr>\n",
    "<tr style=\"height: 22px;\">\n",
    "<td style=\"height: 22px;\">F1</td>\n",
    "<td style=\"height: 22px;\">Mathematisch = (Precision*Recall)/(Precision+Recall)</td>\n",
    "<td style=\"height: 22px;\">&nbsp;</td>\n",
    "<td style=\"height: 22px;\">&nbsp;Soll so hoch wie m&ouml;glich sein</td>\n",
    "<td style=\"height: 22px;\">&nbsp;</td>\n",
    "</tr>\n",
    "</tbody>\n",
    "</table>"
   ]
  },
  {
   "cell_type": "code",
   "execution_count": 21,
   "metadata": {},
   "outputs": [],
   "source": [
    "# Evaluation Binary-Classifier\n",
    "# hier ggf ausgabe als Tabelle"
   ]
  },
  {
   "cell_type": "code",
   "execution_count": 22,
   "metadata": {
    "scrolled": true
   },
   "outputs": [
    {
     "name": "stderr",
     "output_type": "stream",
     "text": [
      "C:\\Users\\1810837475\\.conda\\envs\\Kompensationsarbeit\\lib\\site-packages\\sklearn\\linear_model\\_logistic.py:939: ConvergenceWarning: lbfgs failed to converge (status=1):\n",
      "STOP: TOTAL NO. of ITERATIONS REACHED LIMIT.\n",
      "\n",
      "Increase the number of iterations (max_iter) or scale the data as shown in:\n",
      "    https://scikit-learn.org/stable/modules/preprocessing.html.\n",
      "Please also refer to the documentation for alternative solver options:\n",
      "    https://scikit-learn.org/stable/modules/linear_model.html#logistic-regression\n",
      "  extra_warning_msg=_LOGISTIC_SOLVER_CONVERGENCE_MSG)\n",
      "C:\\Users\\1810837475\\.conda\\envs\\Kompensationsarbeit\\lib\\site-packages\\sklearn\\linear_model\\_logistic.py:939: ConvergenceWarning: lbfgs failed to converge (status=1):\n",
      "STOP: TOTAL NO. of ITERATIONS REACHED LIMIT.\n",
      "\n",
      "Increase the number of iterations (max_iter) or scale the data as shown in:\n",
      "    https://scikit-learn.org/stable/modules/preprocessing.html.\n",
      "Please also refer to the documentation for alternative solver options:\n",
      "    https://scikit-learn.org/stable/modules/linear_model.html#logistic-regression\n",
      "  extra_warning_msg=_LOGISTIC_SOLVER_CONVERGENCE_MSG)\n",
      "C:\\Users\\1810837475\\.conda\\envs\\Kompensationsarbeit\\lib\\site-packages\\sklearn\\linear_model\\_logistic.py:939: ConvergenceWarning: lbfgs failed to converge (status=1):\n",
      "STOP: TOTAL NO. of ITERATIONS REACHED LIMIT.\n",
      "\n",
      "Increase the number of iterations (max_iter) or scale the data as shown in:\n",
      "    https://scikit-learn.org/stable/modules/preprocessing.html.\n",
      "Please also refer to the documentation for alternative solver options:\n",
      "    https://scikit-learn.org/stable/modules/linear_model.html#logistic-regression\n",
      "  extra_warning_msg=_LOGISTIC_SOLVER_CONVERGENCE_MSG)\n"
     ]
    }
   ],
   "source": [
    "confusionMatrixList = [[\"Model Summary\", \"CM\", \"Precision\", \"Recall\", \"F1\"]]\n",
    "for model in range(0, len(trainedModels),1):\n",
    "    interim = []\n",
    "    y_train_pred = cross_val_predict(trainedModels[model], train_X, y_train_5, cv=3)\n",
    "    interim.append(trainedModels[model])\n",
    "    interim.append(confusion_matrix(y_train_5, y_train_pred))\n",
    "    interim.append(precision_score(y_train_5, y_train_pred))\n",
    "    interim.append(recall_score(y_train_5, y_train_pred))\n",
    "    interim.append(f1_score(y_train_5, y_train_pred))\n",
    "    \n",
    "    \n",
    "    \n",
    "    \n",
    "    \n",
    "    confusionMatrixList.append(interim)\n"
   ]
  },
  {
   "cell_type": "code",
   "execution_count": 26,
   "metadata": {},
   "outputs": [
    {
     "data": {
      "text/html": [
       "<table border width=100% height=100><tr><td>Model</td><td>CM</td><td>Precision</td><td>Recall</td><td>F1</td></tr><tr><td>SGDClassifier(alpha=0.0001, average=False, class_weight=None,\n",
       "              early_stopping=False, epsilon=0.1, eta0=0.0, fit_intercept=True,\n",
       "              l1_ratio=0.15, learning_rate='optimal', loss='hinge', max_iter=5,\n",
       "              n_iter_no_change=5, n_jobs=None, penalty='l2', power_t=0.5,\n",
       "              random_state=42, shuffle=True, tol=-inf, validation_fraction=0.1,\n",
       "              verbose=0, warm_start=False)</td><td>[[52336  2243]\n",
       " [ 1060  4361]]</td><td>0.6603573591762568</td><td>0.8044641210108836</td><td>0.7253222453222454</td></tr><tr><td>LogisticRegression(C=100000.0, class_weight=None, dual=False,\n",
       "                   fit_intercept=True, intercept_scaling=1, l1_ratio=None,\n",
       "                   max_iter=100, multi_class='auto', n_jobs=None, penalty='l2',\n",
       "                   random_state=None, solver='lbfgs', tol=0.0001, verbose=0,\n",
       "                   warm_start=False)</td><td>[[54029   550]\n",
       " [ 1022  4399]]</td><td>0.8888664376641746</td><td>0.811473897804833</td><td>0.8484088717454195</td></tr></table>"
      ],
      "text/plain": [
       "<IPython.core.display.HTML object>"
      ]
     },
     "metadata": {},
     "output_type": "display_data"
    }
   ],
   "source": [
    "display(HTML(\n",
    "   '<table border width=100% height=100><tr>{}</tr></table>'.format(\n",
    "       '</tr><tr>'.join(\n",
    "           '<td>{}</td>'.format('</td><td>'.join(str(_) for _ in row)) for row in confusionMatrixList)\n",
    "       )\n",
    "))"
   ]
  },
  {
   "cell_type": "code",
   "execution_count": 35,
   "metadata": {},
   "outputs": [],
   "source": [
    "def plot_precision_recall_vs_threshold(precisions, recalls, thresholds):\n",
    "    plt.plot(thresholds, precisions[:-1], \"b--\", label=\"Precision\")\n",
    "    plt.plot(thresholds, recalls[:-1], \"g-\", label=\"Recall\")\n",
    "    plt.xlabel(\"Threshold\")\n",
    "    plt.legend(loc=\"upper left\")\n",
    "    plt.ylim([0, 1])\n"
   ]
  },
  {
   "cell_type": "code",
   "execution_count": 38,
   "metadata": {},
   "outputs": [
    {
     "name": "stdout",
     "output_type": "stream",
     "text": [
      "[-1240055.24095435 -1239461.43861287 -1238300.92282501 ...\n",
      "  1000939.19185372  1024426.52263646  1248437.63711961]\n"
     ]
    },
    {
     "data": {
      "image/png": "[encoded data removed]",
      "text/plain": [
       "<Figure size 432x288 with 1 Axes>"
      ]
     },
     "metadata": {
      "needs_background": "light"
     },
     "output_type": "display_data"
    }
   ],
   "source": [
    "## Ändern des Threshodls für die Classification\n",
    "# je Höher der Trashhold desto höher auch die \n",
    "y_scores = cross_val_predict(sgd_clf, train_X, y_train_5, cv=3, method=\"decision_function\")\n",
    "precisions, recalls, thresholds = precision_recall_curve(y_train_5, y_scores)\n",
    "print(thresholds)\n",
    "plot_precision_recall_vs_threshold(precisions, recalls, thresholds)\n",
    "plt.show()"
   ]
  },
  {
   "cell_type": "markdown",
   "metadata": {},
   "source": [
    "Bis hierher habe ich lediglich die Daten abgerufen aber noch nicht Verändert. auf Basis dieser Information kann ich aber je nach Bedarf nun aber Recall & Precesiion einstellen je nach Anwendungszenario"
   ]
  },
  {
   "cell_type": "code",
   "execution_count": null,
   "metadata": {},
   "outputs": [],
   "source": []
  }
 ],
 "metadata": {
  "kernelspec": {
   "display_name": "Python 3",
   "language": "python",
   "name": "python3"
  },
  "language_info": {
   "codemirror_mode": {
    "name": "ipython",
    "version": 3
   },
   "file_extension": ".py",
   "mimetype": "text/x-python",
   "name": "python",
   "nbconvert_exporter": "python",
   "pygments_lexer": "ipython3",
   "version": "3.6.9"
  }
 },
 "nbformat": 4,
 "nbformat_minor": 2
}
