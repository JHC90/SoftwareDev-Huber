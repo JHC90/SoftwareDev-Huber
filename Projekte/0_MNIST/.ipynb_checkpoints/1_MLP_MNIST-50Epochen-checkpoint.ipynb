{
 "cells": [
  {
   "cell_type": "markdown",
   "metadata": {},
   "source": [
    "# MLP MNIST\n",
    "Hier werden das erste Mal im MNIST nun Algotihmen aus dem \n",
    "Multilayer Perceptron (MLP) for multi-class softmax classification:"
   ]
  },
  {
   "cell_type": "code",
   "execution_count": 4,
   "metadata": {},
   "outputs": [],
   "source": [
    "# Import Libraries\n",
    "from __future__ import print_function\n",
    "import keras\n",
    "from keras.datasets import mnist\n",
    "from keras.models import Sequential\n",
    "from keras.layers import Dense, Dropout\n",
    "from keras.optimizers import RMSprop\n",
    "from keras.models import model_from_json\n",
    "from pathlib import Path\n",
    "import matplotlib.pyplot as plt\n",
    "import tensorflow as tf"
   ]
  },
  {
   "cell_type": "code",
   "execution_count": 5,
   "metadata": {},
   "outputs": [],
   "source": [
    "# Hyperparamter Upfront \n",
    "batch_size = 128 # Bei MNIST wähle ich die 128 immer ident\n",
    "num_classes = 10 # Vorgabe aus Datensatz\n",
    "epochs = 50 # Wird in allen Modellen geählt"
   ]
  },
  {
   "cell_type": "code",
   "execution_count": 6,
   "metadata": {},
   "outputs": [
    {
     "name": "stdout",
     "output_type": "stream",
     "text": [
      "(60000, 28, 28)\n",
      "(60000,)\n",
      "(10000, 28, 28)\n",
      "(10000,)\n"
     ]
    }
   ],
   "source": [
    "(x_train, y_train), (x_test, y_test) = mnist.load_data()\n",
    "print(x_train.shape)\n",
    "print(y_train.shape)\n",
    "print(x_test.shape)\n",
    "print(y_test.shape)\n",
    "# Für MLP brauch ich einen Eingangsvektor => Reshaping"
   ]
  },
  {
   "cell_type": "code",
   "execution_count": 7,
   "metadata": {},
   "outputs": [
    {
     "name": "stdout",
     "output_type": "stream",
     "text": [
      "60000 train samples\n",
      "10000 test samples\n"
     ]
    }
   ],
   "source": [
    "x_train = x_train.reshape(60000, 784) # MLP benötigt InputVektor und keine Matrix => reshape\n",
    "x_test = x_test.reshape(10000, 784) # MLP benötigt InputVektor und keine Matrix => reshape\n",
    "x_train = x_train.astype('float32') # Standard \n",
    "x_test = x_test.astype('float32') # Standard \n",
    "x_train /= 255 # skalieren\n",
    "x_test /= 255 # Skalieren\n",
    "\n",
    "print(x_train.shape[0], 'train samples')\n",
    "print(x_test.shape[0], 'test samples')\n",
    "\n",
    "#Datenvektorisierung\n",
    "y_train = keras.utils.to_categorical(y_train, num_classes) # Standard bei NN\n",
    "y_test = keras.utils.to_categorical(y_test, num_classes)# Standard bei NN"
   ]
  },
  {
   "cell_type": "code",
   "execution_count": 8,
   "metadata": {},
   "outputs": [
    {
     "name": "stdout",
     "output_type": "stream",
     "text": [
      "(60000, 784)\n",
      "(60000, 10)\n",
      "(10000, 784)\n",
      "(10000, 10)\n"
     ]
    }
   ],
   "source": [
    "print(x_train.shape)\n",
    "print(y_train.shape)\n",
    "print(x_test.shape)\n",
    "print(y_test.shape)"
   ]
  },
  {
   "cell_type": "code",
   "execution_count": 9,
   "metadata": {},
   "outputs": [
    {
     "name": "stdout",
     "output_type": "stream",
     "text": [
      "Model: \"sequential_1\"\n",
      "_________________________________________________________________\n",
      "Layer (type)                 Output Shape              Param #   \n",
      "=================================================================\n",
      "dense_1 (Dense)              (None, 512)               401920    \n",
      "_________________________________________________________________\n",
      "dropout_1 (Dropout)          (None, 512)               0         \n",
      "_________________________________________________________________\n",
      "dense_2 (Dense)              (None, 512)               262656    \n",
      "_________________________________________________________________\n",
      "dropout_2 (Dropout)          (None, 512)               0         \n",
      "_________________________________________________________________\n",
      "dense_3 (Dense)              (None, 10)                5130      \n",
      "=================================================================\n",
      "Total params: 669,706\n",
      "Trainable params: 669,706\n",
      "Non-trainable params: 0\n",
      "_________________________________________________________________\n"
     ]
    }
   ],
   "source": [
    "# Prüfen ob bereits ein Model bereits trainiert und gespeichert ist, im Falle, dass noch kein Modell vorliegt neu erstellen\n",
    "modelMLP = Path(\"./MODEL/modelMLP.json\")\n",
    "if modelMLP.is_file():\n",
    "   # load json and create model\n",
    "    json_file = open('./MODEL/modelMLP.json', 'r')\n",
    "    loaded_model_json = json_file.read()\n",
    "    json_file.close()\n",
    "    modelMLP = model_from_json(loaded_model_json)\n",
    "    # load weights into new model\n",
    "    modelMLP.load_weights(\"./MODEL/modelMLP.h5\")\n",
    "    print(\"Loaded model from disk\")\n",
    "else:\n",
    "    modelMLP = Sequential()\n",
    "    modelMLP.add(Dense(512, activation='relu', input_shape=(784,)))\n",
    "    modelMLP.add(Dropout(0.2))\n",
    "    modelMLP.add(Dense(512, activation='relu'))\n",
    "    modelMLP.add(Dropout(0.2))\n",
    "    modelMLP.add(Dense(num_classes, activation='softmax')) # hier der letzte Layer hat die Anzahl der möglichen klassen & die Softmax Aktivierung\n",
    "    modelMLP.summary()"
   ]
  },
  {
   "cell_type": "code",
   "execution_count": 10,
   "metadata": {},
   "outputs": [],
   "source": [
    "#\n",
    "modelMLP.compile(loss='categorical_crossentropy',\n",
    "              optimizer=RMSprop(),\n",
    "              metrics=['accuracy'])\n"
   ]
  },
  {
   "cell_type": "code",
   "execution_count": 11,
   "metadata": {
    "scrolled": true
   },
   "outputs": [
    {
     "name": "stdout",
     "output_type": "stream",
     "text": [
      "WARNING:tensorflow:From c:\\users\\1810837475\\.conda\\envs\\testtensorflow\\lib\\site-packages\\keras\\backend\\tensorflow_backend.py:422: The name tf.global_variables is deprecated. Please use tf.compat.v1.global_variables instead.\n",
      "\n",
      "Train on 60000 samples, validate on 10000 samples\n",
      "Epoch 1/50\n",
      "60000/60000 [==============================] - 11s 184us/step - loss: 0.2445 - accuracy: 0.9242 - val_loss: 0.1098 - val_accuracy: 0.9677\n",
      "Epoch 2/50\n",
      "60000/60000 [==============================] - 12s 193us/step - loss: 0.1033 - accuracy: 0.9684 - val_loss: 0.0917 - val_accuracy: 0.9724\n",
      "Epoch 3/50\n",
      "60000/60000 [==============================] - 11s 189us/step - loss: 0.0743 - accuracy: 0.9771 - val_loss: 0.0820 - val_accuracy: 0.9788\n",
      "Epoch 4/50\n",
      "60000/60000 [==============================] - 12s 195us/step - loss: 0.0600 - accuracy: 0.9819 - val_loss: 0.0945 - val_accuracy: 0.9766\n",
      "Epoch 5/50\n",
      "60000/60000 [==============================] - 12s 201us/step - loss: 0.0493 - accuracy: 0.9853 - val_loss: 0.0817 - val_accuracy: 0.9803\n",
      "Epoch 6/50\n",
      "60000/60000 [==============================] - 12s 204us/step - loss: 0.0419 - accuracy: 0.9872 - val_loss: 0.0784 - val_accuracy: 0.9816\n",
      "Epoch 7/50\n",
      "60000/60000 [==============================] - 12s 201us/step - loss: 0.0407 - accuracy: 0.9879 - val_loss: 0.0771 - val_accuracy: 0.9820\n",
      "Epoch 8/50\n",
      "60000/60000 [==============================] - 12s 203us/step - loss: 0.0346 - accuracy: 0.9897 - val_loss: 0.0836 - val_accuracy: 0.9821\n",
      "Epoch 9/50\n",
      "60000/60000 [==============================] - 13s 208us/step - loss: 0.0324 - accuracy: 0.9905 - val_loss: 0.0963 - val_accuracy: 0.9808\n",
      "Epoch 10/50\n",
      "60000/60000 [==============================] - 13s 210us/step - loss: 0.0277 - accuracy: 0.9918 - val_loss: 0.0973 - val_accuracy: 0.9822\n",
      "Epoch 11/50\n",
      "60000/60000 [==============================] - 12s 208us/step - loss: 0.0279 - accuracy: 0.9920 - val_loss: 0.0903 - val_accuracy: 0.9820\n",
      "Epoch 12/50\n",
      "60000/60000 [==============================] - 13s 213us/step - loss: 0.0264 - accuracy: 0.9926 - val_loss: 0.1014 - val_accuracy: 0.9821\n",
      "Epoch 13/50\n",
      "60000/60000 [==============================] - 13s 214us/step - loss: 0.0237 - accuracy: 0.9932 - val_loss: 0.0940 - val_accuracy: 0.9829\n",
      "Epoch 14/50\n",
      "60000/60000 [==============================] - 13s 217us/step - loss: 0.0225 - accuracy: 0.9935 - val_loss: 0.1066 - val_accuracy: 0.9820\n",
      "Epoch 15/50\n",
      "60000/60000 [==============================] - 13s 220us/step - loss: 0.0208 - accuracy: 0.9941 - val_loss: 0.1062 - val_accuracy: 0.9842\n",
      "Epoch 16/50\n",
      "60000/60000 [==============================] - 13s 218us/step - loss: 0.0190 - accuracy: 0.9943 - val_loss: 0.1477 - val_accuracy: 0.9785\n",
      "Epoch 17/50\n",
      "60000/60000 [==============================] - 13s 222us/step - loss: 0.0204 - accuracy: 0.9946 - val_loss: 0.1270 - val_accuracy: 0.9818\n",
      "Epoch 18/50\n",
      "60000/60000 [==============================] - 13s 217us/step - loss: 0.0190 - accuracy: 0.9945 - val_loss: 0.1233 - val_accuracy: 0.9821\n",
      "Epoch 19/50\n",
      "60000/60000 [==============================] - 13s 221us/step - loss: 0.0177 - accuracy: 0.9953 - val_loss: 0.1215 - val_accuracy: 0.9820\n",
      "Epoch 20/50\n",
      "60000/60000 [==============================] - 13s 220us/step - loss: 0.0181 - accuracy: 0.9954 - val_loss: 0.1182 - val_accuracy: 0.9844\n",
      "Epoch 21/50\n",
      "60000/60000 [==============================] - 13s 222us/step - loss: 0.0173 - accuracy: 0.9954 - val_loss: 0.1528 - val_accuracy: 0.9825\n",
      "Epoch 22/50\n",
      "60000/60000 [==============================] - 13s 220us/step - loss: 0.0157 - accuracy: 0.9957 - val_loss: 0.1296 - val_accuracy: 0.9824\n",
      "Epoch 23/50\n",
      "60000/60000 [==============================] - 13s 221us/step - loss: 0.0143 - accuracy: 0.9959 - val_loss: 0.1486 - val_accuracy: 0.9836\n",
      "Epoch 24/50\n",
      "60000/60000 [==============================] - 13s 225us/step - loss: 0.0156 - accuracy: 0.9960 - val_loss: 0.1316 - val_accuracy: 0.9830\n",
      "Epoch 25/50\n",
      "60000/60000 [==============================] - 13s 223us/step - loss: 0.0145 - accuracy: 0.9959 - val_loss: 0.1389 - val_accuracy: 0.9820\n",
      "Epoch 26/50\n",
      "60000/60000 [==============================] - 13s 225us/step - loss: 0.0135 - accuracy: 0.9964 - val_loss: 0.1341 - val_accuracy: 0.9836\n",
      "Epoch 27/50\n",
      "60000/60000 [==============================] - 14s 226us/step - loss: 0.0132 - accuracy: 0.9966 - val_loss: 0.1628 - val_accuracy: 0.9834\n",
      "Epoch 28/50\n",
      "60000/60000 [==============================] - 13s 222us/step - loss: 0.0113 - accuracy: 0.9970 - val_loss: 0.1504 - val_accuracy: 0.9842\n",
      "Epoch 29/50\n",
      "60000/60000 [==============================] - 13s 224us/step - loss: 0.0137 - accuracy: 0.9967 - val_loss: 0.1560 - val_accuracy: 0.9842\n",
      "Epoch 30/50\n",
      "60000/60000 [==============================] - 14s 229us/step - loss: 0.0165 - accuracy: 0.9966 - val_loss: 0.1444 - val_accuracy: 0.9845\n",
      "Epoch 31/50\n",
      "60000/60000 [==============================] - 14s 233us/step - loss: 0.0141 - accuracy: 0.9968 - val_loss: 0.1676 - val_accuracy: 0.9842\n",
      "Epoch 32/50\n",
      "60000/60000 [==============================] - 14s 235us/step - loss: 0.0122 - accuracy: 0.9969 - val_loss: 0.1843 - val_accuracy: 0.9823\n",
      "Epoch 33/50\n",
      "60000/60000 [==============================] - 14s 232us/step - loss: 0.0139 - accuracy: 0.9969 - val_loss: 0.1636 - val_accuracy: 0.9842\n",
      "Epoch 34/50\n",
      "60000/60000 [==============================] - 14s 232us/step - loss: 0.0128 - accuracy: 0.9969 - val_loss: 0.1711 - val_accuracy: 0.9832\n",
      "Epoch 35/50\n",
      "60000/60000 [==============================] - 14s 228us/step - loss: 0.0129 - accuracy: 0.9973 - val_loss: 0.1846 - val_accuracy: 0.9834\n",
      "Epoch 36/50\n",
      "60000/60000 [==============================] - 14s 229us/step - loss: 0.0126 - accuracy: 0.9973 - val_loss: 0.1862 - val_accuracy: 0.9827\n",
      "Epoch 37/50\n",
      "60000/60000 [==============================] - 14s 231us/step - loss: 0.0123 - accuracy: 0.9972 - val_loss: 0.1646 - val_accuracy: 0.9839\n",
      "Epoch 38/50\n",
      "60000/60000 [==============================] - 14s 230us/step - loss: 0.0114 - accuracy: 0.9973 - val_loss: 0.1965 - val_accuracy: 0.9826\n",
      "Epoch 39/50\n",
      "60000/60000 [==============================] - 14s 236us/step - loss: 0.0120 - accuracy: 0.9972 - val_loss: 0.1756 - val_accuracy: 0.9841\n",
      "Epoch 40/50\n",
      "60000/60000 [==============================] - 14s 236us/step - loss: 0.0124 - accuracy: 0.9973 - val_loss: 0.1795 - val_accuracy: 0.9843\n",
      "Epoch 41/50\n",
      "60000/60000 [==============================] - 14s 234us/step - loss: 0.0150 - accuracy: 0.9970 - val_loss: 0.1844 - val_accuracy: 0.9837\n",
      "Epoch 42/50\n",
      "60000/60000 [==============================] - 14s 232us/step - loss: 0.0109 - accuracy: 0.9977 - val_loss: 0.1834 - val_accuracy: 0.9828\n",
      "Epoch 43/50\n",
      "60000/60000 [==============================] - 14s 232us/step - loss: 0.0112 - accuracy: 0.9978 - val_loss: 0.2101 - val_accuracy: 0.9828\n",
      "Epoch 44/50\n",
      "60000/60000 [==============================] - 14s 232us/step - loss: 0.0121 - accuracy: 0.9975 - val_loss: 0.1839 - val_accuracy: 0.9834\n",
      "Epoch 45/50\n",
      "60000/60000 [==============================] - 14s 234us/step - loss: 0.0128 - accuracy: 0.9973 - val_loss: 0.1826 - val_accuracy: 0.9844\n",
      "Epoch 46/50\n",
      "60000/60000 [==============================] - 14s 234us/step - loss: 0.0134 - accuracy: 0.9974 - val_loss: 0.2023 - val_accuracy: 0.9836\n",
      "Epoch 47/50\n",
      "60000/60000 [==============================] - 14s 237us/step - loss: 0.0126 - accuracy: 0.9978 - val_loss: 0.1854 - val_accuracy: 0.9838\n",
      "Epoch 48/50\n",
      "60000/60000 [==============================] - 14s 240us/step - loss: 0.0107 - accuracy: 0.9979 - val_loss: 0.1998 - val_accuracy: 0.9842\n",
      "Epoch 49/50\n",
      "60000/60000 [==============================] - 14s 238us/step - loss: 0.0117 - accuracy: 0.9977 - val_loss: 0.1964 - val_accuracy: 0.9847\n",
      "Epoch 50/50\n",
      "60000/60000 [==============================] - 14s 237us/step - loss: 0.0097 - accuracy: 0.9978 - val_loss: 0.2104 - val_accuracy: 0.9837\n"
     ]
    }
   ],
   "source": [
    "# Ausführen des Modelles\n",
    "history = modelMLP.fit(x_train, y_train,\n",
    "                    batch_size=batch_size,\n",
    "                    epochs=epochs,\n",
    "                    verbose=1, # show training progress during training Possible = 0,1,2\n",
    "                    validation_data=(x_test, y_test))"
   ]
  },
  {
   "cell_type": "code",
   "execution_count": 17,
   "metadata": {},
   "outputs": [
    {
     "name": "stdout",
     "output_type": "stream",
     "text": [
      "Saved modelMLP to disk\n"
     ]
    }
   ],
   "source": [
    "# Save trained Model to disk via JSON\n",
    "model_json = modelMLP.to_json()\n",
    "with open(\"./MODEL/modelMLP.json\", \"w\") as json_file:\n",
    "    json_file.write(model_json)\n",
    "# serialize weights to HDF5\n",
    "modelMLP.save_weights(\"./MODEL/modelMLP.h5\")\n",
    "print(\"Saved modelMLP to disk\")"
   ]
  },
  {
   "cell_type": "code",
   "execution_count": 18,
   "metadata": {},
   "outputs": [
    {
     "name": "stdout",
     "output_type": "stream",
     "text": [
      "Test loss: 0.2103530801721231\n",
      "Test accuracy: 0.9836999773979187\n"
     ]
    }
   ],
   "source": [
    "score = modelMLP.evaluate(x_test, y_test, verbose=0)\n",
    "print('Test loss:', score[0])\n",
    "print('Test accuracy:', score[1])"
   ]
  },
  {
   "cell_type": "code",
   "execution_count": 19,
   "metadata": {},
   "outputs": [
    {
     "data": {
      "image/png": "[encoded data removed]",
      "text/plain": [
       "<Figure size 432x288 with 1 Axes>"
      ]
     },
     "metadata": {
      "needs_background": "light"
     },
     "output_type": "display_data"
    }
   ],
   "source": [
    "# Plot training & validation accuracy values\n",
    "\n",
    "plt.plot(history.history['accuracy'])\n",
    "plt.plot(history.history['val_accuracy'])\n",
    "plt.title('Model accuracy')\n",
    "plt.ylabel('Accuracy')\n",
    "plt.xlabel('Epoch')\n",
    "plt.legend(['Train', 'Test'], loc='upper left')\n",
    "plt.show()"
   ]
  },
  {
   "cell_type": "code",
   "execution_count": 20,
   "metadata": {},
   "outputs": [
    {
     "data": {
      "image/png": "[encoded data removed]",
      "text/plain": [
       "<Figure size 432x288 with 1 Axes>"
      ]
     },
     "metadata": {
      "needs_background": "light"
     },
     "output_type": "display_data"
    }
   ],
   "source": [
    "# Plot training & validation loss values\n",
    "plt.plot(history.history['loss'])\n",
    "plt.plot(history.history['val_loss'])\n",
    "plt.title('Model loss')\n",
    "plt.ylabel('Loss')\n",
    "plt.xlabel('Epoch')\n",
    "plt.legend(['Train', 'Test'], loc='upper left')\n",
    "plt.show()"
   ]
  },
  {
   "cell_type": "code",
   "execution_count": 21,
   "metadata": {},
   "outputs": [
    {
     "data": {
      "image/png": "[encoded data removed]",
      "text/plain": [
       "<IPython.core.display.Image object>"
      ]
     },
     "execution_count": 21,
     "metadata": {},
     "output_type": "execute_result"
    }
   ],
   "source": [
    "\n",
    "tf.keras.utils.plot_model(\n",
    "    modelMLP,\n",
    "    to_file='model.png',\n",
    "    show_shapes=False,\n",
    "    show_layer_names=True,\n",
    "    rankdir='TB'\n",
    ")"
   ]
  },
  {
   "cell_type": "code",
   "execution_count": null,
   "metadata": {},
   "outputs": [],
   "source": []
  }
 ],
 "metadata": {
  "kernelspec": {
   "display_name": "Python 3",
   "language": "python",
   "name": "python3"
  },
  "language_info": {
   "codemirror_mode": {
    "name": "ipython",
    "version": 3
   },
   "file_extension": ".py",
   "mimetype": "text/x-python",
   "name": "python",
   "nbconvert_exporter": "python",
   "pygments_lexer": "ipython3",
   "version": "3.5.6"
  }
 },
 "nbformat": 4,
 "nbformat_minor": 2
}
