{
 "cells": [
  {
   "cell_type": "markdown",
   "metadata": {},
   "source": [
    "# MNSIT-Dataset"
   ]
  },
  {
   "cell_type": "markdown",
   "metadata": {},
   "source": [
    "## Beschreibung\n",
    "Der MNIST Datensatz besteht aus 70000 Handgeschriebenen Bildern der Zahlen 0-9 und ist bereits in die Keras Bibliothek integriert. Die \n",
    "\n",
    "## Ziel\n",
    "Es soll eine Klassifikation stattfinden welche nach besten Ergebnis die Zahlen klassifiziert"
   ]
  },
  {
   "cell_type": "code",
   "execution_count": 1,
   "metadata": {},
   "outputs": [
    {
     "name": "stderr",
     "output_type": "stream",
     "text": [
      "Using TensorFlow backend.\n"
     ]
    }
   ],
   "source": [
    "#! pip install Keras\n",
    "#! pip install tensorflow\n",
    "import keras\n",
    "from keras.datasets import mnist\n",
    "from keras.models import Sequential\n",
    "from keras.layers import Dense\n",
    "from keras.optimizers import RMSprop\n",
    "from keras.callbacks import EarlyStopping\n",
    "\n",
    "from time import time\n",
    "\n",
    "import matplotlib.pyplot as plt\n",
    "import time"
   ]
  },
  {
   "cell_type": "code",
   "execution_count": 2,
   "metadata": {},
   "outputs": [],
   "source": [
    "# Parameter definition\n",
    "batch_size = 128\n",
    "num_classes = 10\n",
    "epochs = 100"
   ]
  },
  {
   "cell_type": "code",
   "execution_count": 3,
   "metadata": {},
   "outputs": [],
   "source": [
    "img_rows , img_cols = 28 , 28\n",
    "input_size = img_rows * img_cols"
   ]
  },
  {
   "cell_type": "code",
   "execution_count": 4,
   "metadata": {},
   "outputs": [],
   "source": [
    "(x_train , y_train) , (x_test , y_test) = mnist.load_data ()"
   ]
  },
  {
   "cell_type": "code",
   "execution_count": 5,
   "metadata": {},
   "outputs": [],
   "source": [
    "# Datenkonvertierung 1: X-Werte\n",
    "x_train = x_train.reshape (x_train.shape[0], input_size)\n",
    "x_test = x_test.reshape (x_test.shape[0], input_size )\n",
    "x_train = x_train.astype('float32')\n",
    "x_test = x_test.astype('float32')\n",
    "x_train /= 255\n",
    "x_test /= 255"
   ]
  },
  {
   "cell_type": "code",
   "execution_count": 6,
   "metadata": {},
   "outputs": [],
   "source": [
    "# Datenkonvertierung 2: Y-Werte (Klassenvektoren => Binäre Klassenmatrizen)\n",
    "y_train = keras.utils.to_categorical(y_train ,num_classes)\n",
    "y_test = keras.utils.to_categorical(y_test , num_classes)\n"
   ]
  },
  {
   "cell_type": "code",
   "execution_count": 7,
   "metadata": {},
   "outputs": [
    {
     "name": "stdout",
     "output_type": "stream",
     "text": [
      "Model: \"sequential_1\"\n",
      "_________________________________________________________________\n",
      "Layer (type)                 Output Shape              Param #   \n",
      "=================================================================\n",
      "dense_1 (Dense)              (None, 256)               200960    \n",
      "_________________________________________________________________\n",
      "dense_2 (Dense)              (None, 128)               32896     \n",
      "_________________________________________________________________\n",
      "dense_3 (Dense)              (None, 10)                1290      \n",
      "=================================================================\n",
      "Total params: 235,146\n",
      "Trainable params: 235,146\n",
      "Non-trainable params: 0\n",
      "_________________________________________________________________\n"
     ]
    }
   ],
   "source": [
    "# Modell\n",
    "model=Sequential()\n",
    "model.add(Dense(256,activation='relu',input_shape=(input_size,)))\n",
    "model.add(Dense(128,activation='relu'))\n",
    "model.add(Dense(num_classes,activation='softmax'))\n",
    "model.summary()\n",
    "model.compile(loss='categorical_crossentropy',optimizer=RMSprop(),\n",
    "metrics=['accuracy'])"
   ]
  },
  {
   "cell_type": "code",
   "execution_count": 8,
   "metadata": {},
   "outputs": [
    {
     "name": "stdout",
     "output_type": "stream",
     "text": [
      "Train on 60000 samples, validate on 10000 samples\n",
      "Epoch 1/100\n",
      " - 3s - loss: 0.2571 - accuracy: 0.9237 - val_loss: 0.1184 - val_accuracy: 0.9637\n",
      "Epoch 2/100\n",
      " - 3s - loss: 0.1001 - accuracy: 0.9693 - val_loss: 0.0859 - val_accuracy: 0.9742\n",
      "Epoch 3/100\n",
      " - 3s - loss: 0.0665 - accuracy: 0.9797 - val_loss: 0.0877 - val_accuracy: 0.9735\n",
      "Epoch 4/100\n",
      " - 3s - loss: 0.0500 - accuracy: 0.9840 - val_loss: 0.0780 - val_accuracy: 0.9777\n",
      "Epoch 5/100\n",
      " - 3s - loss: 0.0372 - accuracy: 0.9884 - val_loss: 0.0720 - val_accuracy: 0.9787\n",
      "Epoch 6/100\n",
      " - 5s - loss: 0.0285 - accuracy: 0.9909 - val_loss: 0.0817 - val_accuracy: 0.9783\n",
      "Epoch 7/100\n",
      " - 6s - loss: 0.0217 - accuracy: 0.9931 - val_loss: 0.1060 - val_accuracy: 0.9733\n",
      "Epoch 8/100\n",
      " - 3s - loss: 0.0182 - accuracy: 0.9942 - val_loss: 0.0898 - val_accuracy: 0.9787\n",
      "Epoch 9/100\n",
      " - 4s - loss: 0.0146 - accuracy: 0.9955 - val_loss: 0.0934 - val_accuracy: 0.9783\n",
      "Epoch 10/100\n",
      " - 3s - loss: 0.0111 - accuracy: 0.9965 - val_loss: 0.0889 - val_accuracy: 0.9808\n",
      "Epoch 11/100\n",
      " - 3s - loss: 0.0091 - accuracy: 0.9969 - val_loss: 0.0901 - val_accuracy: 0.9815\n",
      "Epoch 12/100\n",
      " - 3s - loss: 0.0086 - accuracy: 0.9972 - val_loss: 0.1031 - val_accuracy: 0.9815\n",
      "Epoch 13/100\n",
      " - 3s - loss: 0.0062 - accuracy: 0.9981 - val_loss: 0.0984 - val_accuracy: 0.9810\n",
      "Epoch 14/100\n",
      " - 3s - loss: 0.0060 - accuracy: 0.9981 - val_loss: 0.1181 - val_accuracy: 0.9802\n",
      "Epoch 15/100\n",
      " - 3s - loss: 0.0059 - accuracy: 0.9981 - val_loss: 0.1142 - val_accuracy: 0.9804\n",
      "Zeitdauer[s]:51.99939584732056\n"
     ]
    }
   ],
   "source": [
    "#Training\n",
    "import time\n",
    "start_time=time.time()\n",
    "\n",
    "history=model.fit(x_train,y_train,batch_size=batch_size,\n",
    "                  epochs=epochs,verbose=2,validation_data=(x_test,y_test),\n",
    "                  callbacks=[EarlyStopping(min_delta=0.00001,patience=10)])\n",
    "\n",
    "end_time=time.time()\n",
    "print(\"Zeitdauer[s]:{}\".format((end_time-start_time)))\n"
   ]
  },
  {
   "cell_type": "code",
   "execution_count": 9,
   "metadata": {},
   "outputs": [
    {
     "name": "stdout",
     "output_type": "stream",
     "text": [
      "Loss:0.1141880788449681\n",
      "Genauigkeit[%]:98.0400025844574\n"
     ]
    }
   ],
   "source": [
    "#Test/Validierung\n",
    "loss, acc=model.evaluate(x_test,y_test,verbose=0)\n",
    "print(\"Loss:{}\".format(loss))\n",
    "print(\"Genauigkeit[%]:{}\".format(acc*100))"
   ]
  },
  {
   "cell_type": "code",
   "execution_count": 10,
   "metadata": {},
   "outputs": [
    {
     "name": "stdout",
     "output_type": "stream",
     "text": [
      "0.9804999828338623\n"
     ]
    }
   ],
   "source": [
    "print(acc)"
   ]
  },
  {
   "cell_type": "code",
   "execution_count": 11,
   "metadata": {},
   "outputs": [],
   "source": [
    "#Visualisierung:Genauigkeit\n"
   ]
  },
  {
   "cell_type": "code",
   "execution_count": null,
   "metadata": {},
   "outputs": [],
   "source": []
  }
 ],
 "metadata": {
  "kernelspec": {
   "display_name": "Python 3",
   "language": "python",
   "name": "python3"
  },
  "language_info": {
   "codemirror_mode": {
    "name": "ipython",
    "version": 3
   },
   "file_extension": ".py",
   "mimetype": "text/x-python",
   "name": "python",
   "nbconvert_exporter": "python",
   "pygments_lexer": "ipython3",
   "version": "3.6.9"
  }
 },
 "nbformat": 4,
 "nbformat_minor": 2
}
