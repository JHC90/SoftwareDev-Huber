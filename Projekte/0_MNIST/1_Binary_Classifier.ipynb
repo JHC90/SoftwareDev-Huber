{
 "cells": [
  {
   "cell_type": "markdown",
   "metadata": {},
   "source": [
    "# Binärere Klassifizierer\n",
    "hier werden lediglich 5 oder eben nicht 5 klassifiziert =>"
   ]
  },
  {
   "cell_type": "code",
   "execution_count": 1,
   "metadata": {},
   "outputs": [],
   "source": [
    "from mlxtend.data import loadlocal_mnist # für das Laden der Train & Testdaten\n",
    "import numpy as np\n",
    "from sklearn.linear_model import SGDClassifier # Stocastical Gradient Descent Classifier\n",
    "from sklearn.linear_model import LogisticRegression # Logistische Regression\n",
    "from sklearn.ensemble import RandomForestClassifier # Random-Forrest-Classifier\n",
    "from sklearn.model_selection import cross_val_predict # Für RF\n",
    "import joblib # Model Rausspeichern\n"
   ]
  },
  {
   "cell_type": "code",
   "execution_count": 2,
   "metadata": {},
   "outputs": [],
   "source": [
    "# Laden der Daten\n",
    "train_X, train_y = loadlocal_mnist(\n",
    "        images_path='./Data/train-images.idx3-ubyte', \n",
    "        labels_path='./Data/train-labels.idx1-ubyte')\n",
    "\n",
    "test_X, test_y = loadlocal_mnist(\n",
    "        images_path='./Data/t10k-images.idx3-ubyte', \n",
    "        labels_path='./Data/t10k-labels.idx1-ubyte')"
   ]
  },
  {
   "cell_type": "markdown",
   "metadata": {},
   "source": [
    "# Data bei Binary-Classifacation\n",
    "in der binären Klassifikation versuchen wir nur zur Predicten ob ein Wert gegebn ist oder nicht. Bspw bei MNIST ob eine Zahl eben eine 5 ist oder nicht. Daher muss das test_y entsprechend modifizert werden und nur false & true beinhalten"
   ]
  },
  {
   "cell_type": "code",
   "execution_count": 3,
   "metadata": {},
   "outputs": [
    {
     "data": {
      "text/plain": [
       "'\\nprint(y_train_5)\\nprint(y_test_5)\\nprint(y_train_5.shape)\\nprint(y_test_5.shape)\\n'"
      ]
     },
     "execution_count": 3,
     "metadata": {},
     "output_type": "execute_result"
    }
   ],
   "source": [
    "# y_Train/Test_5 ist eine Varibale, welche aus n Boolean werten besteht, \n",
    "# welche lediglich an der Stelle 5 True sind => Grundlage für binäre Klassifikation\n",
    "y_train_5 = (train_y == 5)\n",
    "y_test_5 = (test_y == 5)\n",
    "\n",
    "'''\n",
    "print(y_train_5)\n",
    "print(y_test_5)\n",
    "print(y_train_5.shape)\n",
    "print(y_test_5.shape)\n",
    "'''"
   ]
  },
  {
   "cell_type": "markdown",
   "metadata": {},
   "source": [
    "# ab Hier die Modellierung\n",
    "MOdellierung bedeutet in diesem Falle, dass unterschiedliche Algorithmen für die binäre Klassifikation ausgeausgewählt und trainiert werden. Die Performance wird späterhin in einem weiteren Notebook ausgewertet.\n",
    "## SGD-Classifier"
   ]
  },
  {
   "cell_type": "code",
   "execution_count": 4,
   "metadata": {},
   "outputs": [
    {
     "data": {
      "text/plain": [
       "SGDClassifier(alpha=0.0001, average=False, class_weight=None,\n",
       "              early_stopping=False, epsilon=0.1, eta0=0.0, fit_intercept=True,\n",
       "              l1_ratio=0.15, learning_rate='optimal', loss='hinge', max_iter=5,\n",
       "              n_iter_no_change=5, n_jobs=None, penalty='l2', power_t=0.5,\n",
       "              random_state=42, shuffle=True, tol=-inf, validation_fraction=0.1,\n",
       "              verbose=0, warm_start=False)"
      ]
     },
     "execution_count": 4,
     "metadata": {},
     "output_type": "execute_result"
    }
   ],
   "source": [
    "sgd_clf = SGDClassifier(max_iter=5, tol=-np.infty, random_state=42)\n",
    "sgd_clf.fit(train_X, y_train_5)"
   ]
  },
  {
   "cell_type": "markdown",
   "metadata": {},
   "source": [
    "# Logistische Regression"
   ]
  },
  {
   "cell_type": "code",
   "execution_count": 5,
   "metadata": {},
   "outputs": [
    {
     "name": "stderr",
     "output_type": "stream",
     "text": [
      "c:\\users\\1810837475\\.conda\\envs\\testtensorflow\\lib\\site-packages\\sklearn\\linear_model\\_logistic.py:939: ConvergenceWarning: lbfgs failed to converge (status=1):\n",
      "STOP: TOTAL NO. of ITERATIONS REACHED LIMIT.\n",
      "\n",
      "Increase the number of iterations (max_iter) or scale the data as shown in:\n",
      "    https://scikit-learn.org/stable/modules/preprocessing.html.\n",
      "Please also refer to the documentation for alternative solver options:\n",
      "    https://scikit-learn.org/stable/modules/linear_model.html#logistic-regression\n",
      "  extra_warning_msg=_LOGISTIC_SOLVER_CONVERGENCE_MSG)\n"
     ]
    },
    {
     "data": {
      "text/plain": [
       "LogisticRegression(C=100000.0, class_weight=None, dual=False,\n",
       "                   fit_intercept=True, intercept_scaling=1, l1_ratio=None,\n",
       "                   max_iter=100, multi_class='auto', n_jobs=None, penalty='l2',\n",
       "                   random_state=None, solver='lbfgs', tol=0.0001, verbose=0,\n",
       "                   warm_start=False)"
      ]
     },
     "execution_count": 5,
     "metadata": {},
     "output_type": "execute_result"
    }
   ],
   "source": [
    "logReg_clf = LogisticRegression(C=1e5)\n",
    "logReg_clf.fit(train_X, y_train_5)"
   ]
  },
  {
   "cell_type": "markdown",
   "metadata": {},
   "source": [
    "# Randomforrest Classifier\n",
    "ein RF ist \"out of the Box\" eigentlich ein Multiclass-Classifier. Wenn ich aber lediglich zwei Outputs (T&F) liefer, nimmt er diesen  als Binärere Classifier an"
   ]
  },
  {
   "cell_type": "code",
   "execution_count": 6,
   "metadata": {},
   "outputs": [],
   "source": [
    "forest_clf = RandomForestClassifier(random_state=42)\n",
    "y_probas_forest = cross_val_predict(forest_clf, train_X, y_train_5, cv=3, method=\"predict_proba\")"
   ]
  },
  {
   "cell_type": "markdown",
   "metadata": {},
   "source": [
    "# Modelle speichern"
   ]
  },
  {
   "cell_type": "code",
   "execution_count": 7,
   "metadata": {},
   "outputs": [
    {
     "data": {
      "text/plain": [
       "['./MODEL/MNIST_BinaryClassifier_forest_clf.pkl']"
      ]
     },
     "execution_count": 7,
     "metadata": {},
     "output_type": "execute_result"
    }
   ],
   "source": [
    "# Speichern der Modelle\n",
    "joblib.dump(sgd_clf, \"./MODEL/MNIST_BinaryClassifier_sgd_clf.pkl\")\n",
    "joblib.dump(logReg_clf, \"./MODEL/MNIST_BinaryClassifier_logReg_clf.pkl\")\n",
    "joblib.dump(forest_clf, \"./MODEL/MNIST_BinaryClassifier_forest_clf.pkl\")"
   ]
  },
  {
   "cell_type": "markdown",
   "metadata": {},
   "source": [
    "Die grundsäztliche Evaluierung der Binären Klassifikationsalgorithmen findet in [EvaluationBinaryNotebook](./1b_EvaluationBinaryClassifier.ipynb) statt."
   ]
  }
 ],
 "metadata": {
  "kernelspec": {
   "display_name": "Python 3",
   "language": "python",
   "name": "python3"
  },
  "language_info": {
   "codemirror_mode": {
    "name": "ipython",
    "version": 3
   },
   "file_extension": ".py",
   "mimetype": "text/x-python",
   "name": "python",
   "nbconvert_exporter": "python",
   "pygments_lexer": "ipython3",
   "version": "3.5.6"
  }
 },
 "nbformat": 4,
 "nbformat_minor": 2
}
