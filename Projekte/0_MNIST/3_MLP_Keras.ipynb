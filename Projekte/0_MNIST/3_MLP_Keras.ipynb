{
 "cells": [
  {
   "cell_type": "markdown",
   "metadata": {},
   "source": [
    "# MLP MNIST\n",
    "Hier werden das erste Mal im MNIST nun Algotihmen aus dem \n",
    "Multilayer Perceptron (MLP) for multi-class softmax classification:"
   ]
  },
  {
   "cell_type": "code",
   "execution_count": 17,
   "metadata": {},
   "outputs": [],
   "source": [
    "from __future__ import print_function\n",
    "import keras\n",
    "from keras.datasets import mnist\n",
    "from keras.models import Sequential\n",
    "from keras.layers import Dense, Dropout\n",
    "from keras.optimizers import RMSprop\n",
    "from keras.models import model_from_json"
   ]
  },
  {
   "cell_type": "code",
   "execution_count": 18,
   "metadata": {},
   "outputs": [],
   "source": [
    "# Hier die Hyperparamter\n",
    "batch_size = 128\n",
    "num_classes = 10\n",
    "epochs = 20"
   ]
  },
  {
   "cell_type": "code",
   "execution_count": 19,
   "metadata": {},
   "outputs": [
    {
     "name": "stdout",
     "output_type": "stream",
     "text": [
      "(60000, 28, 28)\n",
      "(60000,)\n",
      "(10000, 28, 28)\n",
      "(10000,)\n"
     ]
    }
   ],
   "source": [
    "(x_train, y_train), (x_test, y_test) = mnist.load_data()\n",
    "print(x_train.shape)\n",
    "print(y_train.shape)\n",
    "print(x_test.shape)\n",
    "print(y_test.shape)"
   ]
  },
  {
   "cell_type": "code",
   "execution_count": 20,
   "metadata": {},
   "outputs": [
    {
     "name": "stdout",
     "output_type": "stream",
     "text": [
      "60000 train samples\n",
      "10000 test samples\n"
     ]
    }
   ],
   "source": [
    "x_train = x_train.reshape(60000, 784) # MLP benötigt InputVektor\n",
    "x_test = x_test.reshape(10000, 784) # MLP benötigt InputVektor\n",
    "x_train = x_train.astype('float32')\n",
    "x_test = x_test.astype('float32')\n",
    "x_train /= 255 # skalieren\n",
    "x_test /= 255 # Skalieren\n",
    "print(x_train.shape[0], 'train samples')\n",
    "print(x_test.shape[0], 'test samples')\n",
    "\n",
    "\n",
    "y_train = keras.utils.to_categorical(y_train, num_classes)\n",
    "y_test = keras.utils.to_categorical(y_test, num_classes)"
   ]
  },
  {
   "cell_type": "code",
   "execution_count": 21,
   "metadata": {},
   "outputs": [
    {
     "name": "stdout",
     "output_type": "stream",
     "text": [
      "(60000, 784)\n",
      "(60000, 10)\n",
      "(10000, 784)\n",
      "(10000, 10)\n"
     ]
    }
   ],
   "source": [
    "print(x_train.shape)\n",
    "print(y_train.shape)\n",
    "print(x_test.shape)\n",
    "print(y_test.shape)"
   ]
  },
  {
   "cell_type": "code",
   "execution_count": 22,
   "metadata": {},
   "outputs": [
    {
     "name": "stdout",
     "output_type": "stream",
     "text": [
      "Loaded model from disk\n"
     ]
    }
   ],
   "source": [
    "# Prüfen ob bereits ein Model bereits trainiert und gespeichert ist, im Falle neu erstellen\n",
    "# https://machinelearningmastery.com/save-load-keras-deep-learning-models/\n",
    "# https://praxistipps.chip.de/python-check-if-file-exists-so-gehts_95704\n",
    "from pathlib import Path\n",
    "model = Path(\"./Data/model.json\")\n",
    "if model.is_file():\n",
    "   # load json and create model\n",
    "    json_file = open('./Data/model.json', 'r')\n",
    "    loaded_model_json = json_file.read()\n",
    "    json_file.close()\n",
    "    model = model_from_json(loaded_model_json)\n",
    "    # load weights into new model\n",
    "    model.load_weights(\"./Data/model.h5\")\n",
    "    print(\"Loaded model from disk\")\n",
    "else:\n",
    "    model = Sequential()\n",
    "    model.add(Dense(512, activation='relu', input_shape=(784,)))\n",
    "    model.add(Dropout(0.2))\n",
    "    model.add(Dense(512, activation='relu'))\n",
    "    model.add(Dropout(0.2))\n",
    "    model.add(Dense(num_classes, activation='softmax')) # hier der letzte Layer hat die Anzahl der möglichen klassen & die Softmax Aktivierung\n",
    "    model.summary()"
   ]
  },
  {
   "cell_type": "code",
   "execution_count": 23,
   "metadata": {},
   "outputs": [],
   "source": [
    "#\n",
    "model.compile(loss='categorical_crossentropy',\n",
    "              optimizer=RMSprop(),\n",
    "              metrics=['accuracy'])\n"
   ]
  },
  {
   "cell_type": "code",
   "execution_count": 24,
   "metadata": {
    "scrolled": true
   },
   "outputs": [
    {
     "name": "stdout",
     "output_type": "stream",
     "text": [
      "Train on 60000 samples, validate on 10000 samples\n",
      "Epoch 1/20\n",
      "60000/60000 [==============================] - 12s 203us/step - loss: 0.0127 - accuracy: 0.9974 - val_loss: 0.1888 - val_accuracy: 0.9844\n",
      "Epoch 2/20\n",
      "60000/60000 [==============================] - 12s 197us/step - loss: 0.0111 - accuracy: 0.9978 - val_loss: 0.1977 - val_accuracy: 0.9824\n",
      "Epoch 3/20\n",
      "60000/60000 [==============================] - 12s 200us/step - loss: 0.0129 - accuracy: 0.9973 - val_loss: 0.1927 - val_accuracy: 0.9845\n",
      "Epoch 4/20\n",
      "60000/60000 [==============================] - 12s 206us/step - loss: 0.0113 - accuracy: 0.9977 - val_loss: 0.1825 - val_accuracy: 0.9841\n",
      "Epoch 5/20\n",
      "60000/60000 [==============================] - 12s 207us/step - loss: 0.0105 - accuracy: 0.9975 - val_loss: 0.1846 - val_accuracy: 0.9832\n",
      "Epoch 6/20\n",
      "60000/60000 [==============================] - 12s 203us/step - loss: 0.0126 - accuracy: 0.9973 - val_loss: 0.2074 - val_accuracy: 0.9829\n",
      "Epoch 7/20\n",
      "60000/60000 [==============================] - 13s 209us/step - loss: 0.0151 - accuracy: 0.9973 - val_loss: 0.1984 - val_accuracy: 0.9833\n",
      "Epoch 8/20\n",
      "60000/60000 [==============================] - 13s 214us/step - loss: 0.0107 - accuracy: 0.9977 - val_loss: 0.1809 - val_accuracy: 0.9868\n",
      "Epoch 9/20\n",
      "60000/60000 [==============================] - 13s 214us/step - loss: 0.0113 - accuracy: 0.9979 - val_loss: 0.2006 - val_accuracy: 0.9847\n",
      "Epoch 10/20\n",
      "60000/60000 [==============================] - 13s 214us/step - loss: 0.0104 - accuracy: 0.9979 - val_loss: 0.2066 - val_accuracy: 0.9856\n",
      "Epoch 11/20\n",
      "60000/60000 [==============================] - 14s 235us/step - loss: 0.0117 - accuracy: 0.9978 - val_loss: 0.2229 - val_accuracy: 0.9832\n",
      "Epoch 12/20\n",
      "60000/60000 [==============================] - 17s 283us/step - loss: 0.0124 - accuracy: 0.9976 - val_loss: 0.1986 - val_accuracy: 0.9851\n",
      "Epoch 13/20\n",
      "60000/60000 [==============================] - 14s 239us/step - loss: 0.0105 - accuracy: 0.9979 - val_loss: 0.2295 - val_accuracy: 0.9847\n",
      "Epoch 14/20\n",
      "60000/60000 [==============================] - 13s 221us/step - loss: 0.0157 - accuracy: 0.9976 - val_loss: 0.1750 - val_accuracy: 0.9839\n",
      "Epoch 15/20\n",
      "60000/60000 [==============================] - 14s 234us/step - loss: 0.0132 - accuracy: 0.9971 - val_loss: 0.1955 - val_accuracy: 0.9842\n",
      "Epoch 16/20\n",
      "60000/60000 [==============================] - 14s 239us/step - loss: 0.0087 - accuracy: 0.9979 - val_loss: 0.2059 - val_accuracy: 0.9845\n",
      "Epoch 17/20\n",
      "60000/60000 [==============================] - 14s 235us/step - loss: 0.0097 - accuracy: 0.9981 - val_loss: 0.1857 - val_accuracy: 0.9856\n",
      "Epoch 18/20\n",
      "60000/60000 [==============================] - 13s 225us/step - loss: 0.0114 - accuracy: 0.9978 - val_loss: 0.1962 - val_accuracy: 0.9849\n",
      "Epoch 19/20\n",
      "60000/60000 [==============================] - 14s 236us/step - loss: 0.0105 - accuracy: 0.9981 - val_loss: 0.2099 - val_accuracy: 0.9864\n",
      "Epoch 20/20\n",
      "60000/60000 [==============================] - 15s 245us/step - loss: 0.0109 - accuracy: 0.9979 - val_loss: 0.2487 - val_accuracy: 0.9837\n"
     ]
    }
   ],
   "source": [
    "# Ausführen des Modelles\n",
    "history = model.fit(x_train, y_train,\n",
    "                    batch_size=batch_size,\n",
    "                    epochs=epochs,\n",
    "                    verbose=1, # show training progress during training Possible = 0,1,2\n",
    "                    validation_data=(x_test, y_test))"
   ]
  },
  {
   "cell_type": "code",
   "execution_count": 12,
   "metadata": {},
   "outputs": [
    {
     "name": "stdout",
     "output_type": "stream",
     "text": [
      "Saved model to disk\n"
     ]
    }
   ],
   "source": [
    "# Save trained Model to disk via JSON\n",
    "model_json = model.to_json()\n",
    "with open(\"./Data/model.json\", \"w\") as json_file:\n",
    "    json_file.write(model_json)\n",
    "# serialize weights to HDF5\n",
    "model.save_weights(\"./Data/model.h5\")\n",
    "print(\"Saved model to disk\")"
   ]
  },
  {
   "cell_type": "code",
   "execution_count": 13,
   "metadata": {},
   "outputs": [
    {
     "name": "stdout",
     "output_type": "stream",
     "text": [
      "Test loss: 0.2088796950228113\n",
      "Test accuracy: 0.9842000007629395\n"
     ]
    }
   ],
   "source": [
    "score = model.evaluate(x_test, y_test, verbose=0)\n",
    "print('Test loss:', score[0])\n",
    "print('Test accuracy:', score[1])"
   ]
  },
  {
   "cell_type": "code",
   "execution_count": 14,
   "metadata": {},
   "outputs": [
    {
     "data": {
      "text/plain": [
       "<Figure size 640x480 with 1 Axes>"
      ]
     },
     "metadata": {},
     "output_type": "display_data"
    }
   ],
   "source": [
    "# Plot training & validation accuracy values\n",
    "import matplotlib.pyplot as plt\n",
    "plt.plot(history.history['accuracy'])\n",
    "plt.plot(history.history['val_accuracy'])\n",
    "plt.title('Model accuracy')\n",
    "plt.ylabel('Accuracy')\n",
    "plt.xlabel('Epoch')\n",
    "plt.legend(['Train', 'Test'], loc='upper left')\n",
    "plt.show()"
   ]
  },
  {
   "cell_type": "code",
   "execution_count": 15,
   "metadata": {},
   "outputs": [
    {
     "data": {
      "image/png": "[encoded data removed]",
      "text/plain": [
       "<Figure size 432x288 with 1 Axes>"
      ]
     },
     "metadata": {
      "needs_background": "light"
     },
     "output_type": "display_data"
    }
   ],
   "source": [
    "# Plot training & validation loss values\n",
    "plt.plot(history.history['loss'])\n",
    "plt.plot(history.history['val_loss'])\n",
    "plt.title('Model loss')\n",
    "plt.ylabel('Loss')\n",
    "plt.xlabel('Epoch')\n",
    "plt.legend(['Train', 'Test'], loc='upper left')\n",
    "plt.show()"
   ]
  },
  {
   "cell_type": "code",
   "execution_count": 16,
   "metadata": {},
   "outputs": [
    {
     "data": {
      "image/png": "[encoded data removed]",
      "text/plain": [
       "<IPython.core.display.Image object>"
      ]
     },
     "execution_count": 16,
     "metadata": {},
     "output_type": "execute_result"
    }
   ],
   "source": [
    "import tensorflow as tf\n",
    "tf.keras.utils.plot_model(\n",
    "    model,\n",
    "    to_file='model.png',\n",
    "    show_shapes=False,\n",
    "    show_layer_names=True,\n",
    "    rankdir='TB'\n",
    ")"
   ]
  },
  {
   "cell_type": "code",
   "execution_count": null,
   "metadata": {},
   "outputs": [],
   "source": []
  },
  {
   "cell_type": "code",
   "execution_count": null,
   "metadata": {},
   "outputs": [],
   "source": []
  }
 ],
 "metadata": {
  "kernelspec": {
   "display_name": "Python 3",
   "language": "python",
   "name": "python3"
  },
  "language_info": {
   "codemirror_mode": {
    "name": "ipython",
    "version": 3
   },
   "file_extension": ".py",
   "mimetype": "text/x-python",
   "name": "python",
   "nbconvert_exporter": "python",
   "pygments_lexer": "ipython3",
   "version": "3.5.6"
  }
 },
 "nbformat": 4,
 "nbformat_minor": 2
}
