{
 "cells": [
  {
   "cell_type": "markdown",
   "metadata": {},
   "source": [
    "# MLP MNIST\n",
    "Hier werden das erste Mal im MNIST nun Algotihmen aus dem \n",
    "Multilayer Perceptron (MLP) for multi-class softmax classification:"
   ]
  },
  {
   "cell_type": "code",
   "execution_count": 21,
   "metadata": {},
   "outputs": [],
   "source": [
    "from __future__ import print_function\n",
    "import keras\n",
    "from keras.datasets import mnist\n",
    "from keras.models import Sequential\n",
    "from keras.layers import Dense, Dropout\n",
    "from keras.optimizers import RMSprop"
   ]
  },
  {
   "cell_type": "code",
   "execution_count": 22,
   "metadata": {},
   "outputs": [],
   "source": [
    "# Hier die Hyperparamter\n",
    "batch_size = 128\n",
    "num_classes = 10\n",
    "epochs = 20"
   ]
  },
  {
   "cell_type": "code",
   "execution_count": 23,
   "metadata": {},
   "outputs": [
    {
     "name": "stdout",
     "output_type": "stream",
     "text": [
      "(60000, 28, 28)\n",
      "(60000,)\n",
      "(10000, 28, 28)\n",
      "(10000,)\n"
     ]
    }
   ],
   "source": [
    "(x_train, y_train), (x_test, y_test) = mnist.load_data()\n",
    "print(x_train.shape)\n",
    "print(y_train.shape)\n",
    "print(x_test.shape)\n",
    "print(y_test.shape)"
   ]
  },
  {
   "cell_type": "code",
   "execution_count": 24,
   "metadata": {},
   "outputs": [
    {
     "name": "stdout",
     "output_type": "stream",
     "text": [
      "60000 train samples\n",
      "10000 test samples\n"
     ]
    }
   ],
   "source": [
    "x_train = x_train.reshape(60000, 784) # MLP benötigt InputVektor\n",
    "x_test = x_test.reshape(10000, 784) # MLP benötigt InputVektor\n",
    "x_train = x_train.astype('float32')\n",
    "x_test = x_test.astype('float32')\n",
    "x_train /= 255 # skalieren\n",
    "x_test /= 255 # Skalieren\n",
    "print(x_train.shape[0], 'train samples')\n",
    "print(x_test.shape[0], 'test samples')\n",
    "\n",
    "\n",
    "y_train = keras.utils.to_categorical(y_train, num_classes)\n",
    "y_test = keras.utils.to_categorical(y_test, num_classes)"
   ]
  },
  {
   "cell_type": "code",
   "execution_count": 25,
   "metadata": {},
   "outputs": [
    {
     "name": "stdout",
     "output_type": "stream",
     "text": [
      "(60000, 784)\n",
      "(60000, 10)\n",
      "(10000, 784)\n",
      "(10000, 10)\n"
     ]
    }
   ],
   "source": [
    "print(x_train.shape)\n",
    "print(y_train.shape)\n",
    "print(x_test.shape)\n",
    "print(y_test.shape)"
   ]
  },
  {
   "cell_type": "code",
   "execution_count": 26,
   "metadata": {},
   "outputs": [
    {
     "name": "stdout",
     "output_type": "stream",
     "text": [
      "Model: \"sequential_2\"\n",
      "_________________________________________________________________\n",
      "Layer (type)                 Output Shape              Param #   \n",
      "=================================================================\n",
      "dense_4 (Dense)              (None, 512)               401920    \n",
      "_________________________________________________________________\n",
      "dropout_3 (Dropout)          (None, 512)               0         \n",
      "_________________________________________________________________\n",
      "dense_5 (Dense)              (None, 512)               262656    \n",
      "_________________________________________________________________\n",
      "dropout_4 (Dropout)          (None, 512)               0         \n",
      "_________________________________________________________________\n",
      "dense_6 (Dense)              (None, 10)                5130      \n",
      "=================================================================\n",
      "Total params: 669,706\n",
      "Trainable params: 669,706\n",
      "Non-trainable params: 0\n",
      "_________________________________________________________________\n"
     ]
    }
   ],
   "source": [
    "model = Sequential()\n",
    "model.add(Dense(512, activation='relu', input_shape=(784,)))\n",
    "model.add(Dropout(0.2))\n",
    "model.add(Dense(512, activation='relu'))\n",
    "model.add(Dropout(0.2))\n",
    "model.add(Dense(num_classes, activation='softmax')) # hier der letzte Layer hat die Anzahl der möglichen klassen & die Softmax Aktivierung\n",
    "model.summary()"
   ]
  },
  {
   "cell_type": "code",
   "execution_count": 27,
   "metadata": {},
   "outputs": [],
   "source": [
    "#\n",
    "model.compile(loss='categorical_crossentropy',\n",
    "              optimizer=RMSprop(),\n",
    "              metrics=['accuracy'])\n"
   ]
  },
  {
   "cell_type": "code",
   "execution_count": 28,
   "metadata": {
    "scrolled": true
   },
   "outputs": [
    {
     "name": "stdout",
     "output_type": "stream",
     "text": [
      "Train on 60000 samples, validate on 10000 samples\n",
      "Epoch 1/20\n",
      "60000/60000 [==============================] - 11s 184us/step - loss: 0.2466 - accuracy: 0.9240 - val_loss: 0.1228 - val_accuracy: 0.9622\n",
      "Epoch 2/20\n",
      "60000/60000 [==============================] - 11s 177us/step - loss: 0.1035 - accuracy: 0.9681 - val_loss: 0.1007 - val_accuracy: 0.9721\n",
      "Epoch 3/20\n",
      "60000/60000 [==============================] - 10s 174us/step - loss: 0.0752 - accuracy: 0.9777 - val_loss: 0.0885 - val_accuracy: 0.9757\n",
      "Epoch 4/20\n",
      "60000/60000 [==============================] - 11s 185us/step - loss: 0.0613 - accuracy: 0.9818 - val_loss: 0.0808 - val_accuracy: 0.9777\n",
      "Epoch 5/20\n",
      "60000/60000 [==============================] - 12s 198us/step - loss: 0.0503 - accuracy: 0.9847 - val_loss: 0.0699 - val_accuracy: 0.9809\n",
      "Epoch 6/20\n",
      "60000/60000 [==============================] - 11s 184us/step - loss: 0.0439 - accuracy: 0.9868 - val_loss: 0.0697 - val_accuracy: 0.9841\n",
      "Epoch 7/20\n",
      "60000/60000 [==============================] - 11s 180us/step - loss: 0.0396 - accuracy: 0.9886 - val_loss: 0.0872 - val_accuracy: 0.9800\n",
      "Epoch 8/20\n",
      "60000/60000 [==============================] - 11s 178us/step - loss: 0.0352 - accuracy: 0.9901 - val_loss: 0.0933 - val_accuracy: 0.9814\n",
      "Epoch 9/20\n",
      "60000/60000 [==============================] - 10s 163us/step - loss: 0.0308 - accuracy: 0.9911 - val_loss: 0.0841 - val_accuracy: 0.9831\n",
      "Epoch 10/20\n",
      "60000/60000 [==============================] - 10s 175us/step - loss: 0.0293 - accuracy: 0.9917 - val_loss: 0.0820 - val_accuracy: 0.9840\n",
      "Epoch 11/20\n",
      "60000/60000 [==============================] - 12s 194us/step - loss: 0.0269 - accuracy: 0.9925 - val_loss: 0.0825 - val_accuracy: 0.9841\n",
      "Epoch 12/20\n",
      "60000/60000 [==============================] - 13s 217us/step - loss: 0.0244 - accuracy: 0.9929 - val_loss: 0.0925 - val_accuracy: 0.9829\n",
      "Epoch 13/20\n",
      "60000/60000 [==============================] - 12s 194us/step - loss: 0.0241 - accuracy: 0.9936 - val_loss: 0.1015 - val_accuracy: 0.9814\n",
      "Epoch 14/20\n",
      "60000/60000 [==============================] - 12s 193us/step - loss: 0.0228 - accuracy: 0.9937 - val_loss: 0.1021 - val_accuracy: 0.9836\n",
      "Epoch 15/20\n",
      "60000/60000 [==============================] - 12s 195us/step - loss: 0.0207 - accuracy: 0.9944 - val_loss: 0.1037 - val_accuracy: 0.9822\n",
      "Epoch 16/20\n",
      "60000/60000 [==============================] - 12s 199us/step - loss: 0.0209 - accuracy: 0.9943 - val_loss: 0.1151 - val_accuracy: 0.9826\n",
      "Epoch 17/20\n",
      "60000/60000 [==============================] - 12s 202us/step - loss: 0.0193 - accuracy: 0.9946 - val_loss: 0.1349 - val_accuracy: 0.9798\n",
      "Epoch 18/20\n",
      "60000/60000 [==============================] - 12s 202us/step - loss: 0.0172 - accuracy: 0.9950 - val_loss: 0.1185 - val_accuracy: 0.9833\n",
      "Epoch 19/20\n",
      "60000/60000 [==============================] - 12s 196us/step - loss: 0.0168 - accuracy: 0.9956 - val_loss: 0.1577 - val_accuracy: 0.9793\n",
      "Epoch 20/20\n",
      "60000/60000 [==============================] - 13s 213us/step - loss: 0.0173 - accuracy: 0.9956 - val_loss: 0.1229 - val_accuracy: 0.9829\n"
     ]
    }
   ],
   "source": [
    "# Ausführen des Modelles\n",
    "history = model.fit(x_train, y_train,\n",
    "                    batch_size=batch_size,\n",
    "                    epochs=epochs,\n",
    "                    verbose=1, # show training progress during training Possible = 0,1,2\n",
    "                    validation_data=(x_test, y_test))"
   ]
  },
  {
   "cell_type": "code",
   "execution_count": 35,
   "metadata": {},
   "outputs": [
    {
     "name": "stdout",
     "output_type": "stream",
     "text": [
      "Saved model to disk\n"
     ]
    }
   ],
   "source": [
    "# Save trained Model to disk via JSON\n",
    "model_json = model.to_json()\n",
    "with open(\"./Data/model.json\", \"w\") as json_file:\n",
    "    json_file.write(model_json)\n",
    "# serialize weights to HDF5\n",
    "model.save_weights(\"./Data/model.h5\")\n",
    "print(\"Saved model to disk\")"
   ]
  },
  {
   "cell_type": "code",
   "execution_count": 29,
   "metadata": {},
   "outputs": [
    {
     "name": "stdout",
     "output_type": "stream",
     "text": [
      "Test loss: 0.12292145169656735\n",
      "Test accuracy: 0.9829000234603882\n"
     ]
    }
   ],
   "source": [
    "score = model.evaluate(x_test, y_test, verbose=0)\n",
    "print('Test loss:', score[0])\n",
    "print('Test accuracy:', score[1])"
   ]
  },
  {
   "cell_type": "code",
   "execution_count": 30,
   "metadata": {},
   "outputs": [
    {
     "data": {
      "image/png": "[encoded data removed]",
      "text/plain": [
       "<Figure size 432x288 with 1 Axes>"
      ]
     },
     "metadata": {
      "needs_background": "light"
     },
     "output_type": "display_data"
    }
   ],
   "source": [
    "# Plot training & validation accuracy values\n",
    "import matplotlib.pyplot as plt\n",
    "plt.plot(history.history['accuracy'])\n",
    "plt.plot(history.history['val_accuracy'])\n",
    "plt.title('Model accuracy')\n",
    "plt.ylabel('Accuracy')\n",
    "plt.xlabel('Epoch')\n",
    "plt.legend(['Train', 'Test'], loc='upper left')\n",
    "plt.show()"
   ]
  },
  {
   "cell_type": "code",
   "execution_count": 31,
   "metadata": {},
   "outputs": [
    {
     "data": {
      "image/png": "[encoded data removed]",
      "text/plain": [
       "<Figure size 432x288 with 1 Axes>"
      ]
     },
     "metadata": {
      "needs_background": "light"
     },
     "output_type": "display_data"
    }
   ],
   "source": [
    "# Plot training & validation loss values\n",
    "plt.plot(history.history['loss'])\n",
    "plt.plot(history.history['val_loss'])\n",
    "plt.title('Model loss')\n",
    "plt.ylabel('Loss')\n",
    "plt.xlabel('Epoch')\n",
    "plt.legend(['Train', 'Test'], loc='upper left')\n",
    "plt.show()"
   ]
  },
  {
   "cell_type": "code",
   "execution_count": 32,
   "metadata": {},
   "outputs": [
    {
     "data": {
      "image/png": "[encoded data removed]",
      "text/plain": [
       "<IPython.core.display.Image object>"
      ]
     },
     "execution_count": 32,
     "metadata": {},
     "output_type": "execute_result"
    }
   ],
   "source": [
    "import tensorflow as tf\n",
    "tf.keras.utils.plot_model(\n",
    "    model,\n",
    "    to_file='model.png',\n",
    "    show_shapes=False,\n",
    "    show_layer_names=True,\n",
    "    rankdir='TB'\n",
    ")"
   ]
  },
  {
   "cell_type": "code",
   "execution_count": 33,
   "metadata": {},
   "outputs": [
    {
     "ename": "ImportError",
     "evalue": "No module named 'Keras'",
     "output_type": "error",
     "traceback": [
      "\u001b[1;31m---------------------------------------------------------------------------\u001b[0m",
      "\u001b[1;31mImportError\u001b[0m                               Traceback (most recent call last)",
      "\u001b[1;32m<ipython-input-33-a3ad4146670b>\u001b[0m in \u001b[0;36m<module>\u001b[1;34m\u001b[0m\n\u001b[1;32m----> 1\u001b[1;33m \u001b[1;32mfrom\u001b[0m \u001b[0mKeras\u001b[0m\u001b[1;33m.\u001b[0m\u001b[0mutils\u001b[0m \u001b[1;32mimport\u001b[0m \u001b[0mplot_model\u001b[0m\u001b[1;33m\u001b[0m\u001b[0m\n\u001b[0m\u001b[0;32m      2\u001b[0m \u001b[0mplot_model\u001b[0m\u001b[1;33m(\u001b[0m\u001b[0mmodel\u001b[0m\u001b[1;33m,\u001b[0m \u001b[0mshow_shapes\u001b[0m\u001b[1;33m=\u001b[0m\u001b[1;32mTrue\u001b[0m\u001b[1;33m,\u001b[0m \u001b[0mto_file\u001b[0m\u001b[1;33m=\u001b[0m\u001b[1;34m'model.png'\u001b[0m\u001b[1;33m)\u001b[0m\u001b[1;33m\u001b[0m\u001b[0m\n",
      "\u001b[1;31mImportError\u001b[0m: No module named 'Keras'"
     ]
    }
   ],
   "source": [
    "from Keras.utils import plot_model \n",
    "plot_model(model, show_shapes=True, to_file='model.png')"
   ]
  },
  {
   "cell_type": "code",
   "execution_count": null,
   "metadata": {},
   "outputs": [],
   "source": []
  }
 ],
 "metadata": {
  "kernelspec": {
   "display_name": "Python 3",
   "language": "python",
   "name": "python3"
  },
  "language_info": {
   "codemirror_mode": {
    "name": "ipython",
    "version": 3
   },
   "file_extension": ".py",
   "mimetype": "text/x-python",
   "name": "python",
   "nbconvert_exporter": "python",
   "pygments_lexer": "ipython3",
   "version": "3.5.6"
  }
 },
 "nbformat": 4,
 "nbformat_minor": 2
}
