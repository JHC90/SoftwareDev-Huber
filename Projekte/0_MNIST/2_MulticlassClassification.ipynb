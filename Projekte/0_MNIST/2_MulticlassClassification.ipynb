{
 "cells": [
  {
   "cell_type": "markdown",
   "metadata": {},
   "source": [
    "# MulticlassClassification\n",
    "Im Gegensatz zu der Binary-Classification werden nun mehrer mögliche Output-Klassen klassifiziert "
   ]
  },
  {
   "cell_type": "markdown",
   "metadata": {},
   "source": [
    "## Beispiel-Algorithmen\n",
    "\n",
    "hierbei gibt es zwei Möglichkeiten\n",
    "* Modelle die Multiclass \"out-of-the-Box\" können\n",
    "    * Bsp:\n",
    "        * RF\n",
    "        * NaiveBayes\n",
    "    \n",
    "    \n",
    "* Binäre Classiifier, welche derart modifizert wurden, sodass Multiclass geht (\n",
    "    * Ansatz 1, im BSP MNIST 10 Classifier und dann ensemble => der mit dem höchsten Score erhält die Klassifikation (OVA)\n",
    "    * ANsatz 2, für jedes Zahlenpaar eine Klassikation (0|1),(0|2)...(8|9)(OVO)\n",
    "        * OVA erheblich Ressourcen schonender als OVO\n",
    "    * Bsp:\n",
    "        * SVM\n",
    "        * Linear Classifier\n",
    "    \n",
    "   "
   ]
  },
  {
   "cell_type": "code",
   "execution_count": 17,
   "metadata": {},
   "outputs": [],
   "source": [
    "# Bibliotheken\n",
    "from mlxtend.data import loadlocal_mnist # für das Laden der Train & Testdaten\n",
    "import numpy as np\n",
    "from sklearn.linear_model import SGDClassifier # Stocastical Gradient Descent Classifier\n",
    "from sklearn.ensemble import RandomForestClassifier # Random-Forrest-Classifier\n",
    "from sklearn.linear_model import LogisticRegression # Logistische Regression\n",
    "\n",
    "\n",
    "import matplotlib.pyplot as plt\n",
    "from sklearn.externals import joblib # Model Rausspeichern\n",
    "import pandas as pd\n"
   ]
  },
  {
   "cell_type": "code",
   "execution_count": 18,
   "metadata": {},
   "outputs": [],
   "source": [
    "# Laden der Daten\n",
    "train_X, train_y = loadlocal_mnist(\n",
    "        images_path='./Data/train-images.idx3-ubyte', \n",
    "        labels_path='./Data/train-labels.idx1-ubyte')\n",
    "\n",
    "test_X, test_y = loadlocal_mnist(\n",
    "        images_path='./Data/t10k-images.idx3-ubyte', \n",
    "        labels_path='./Data/t10k-labels.idx1-ubyte')"
   ]
  },
  {
   "cell_type": "markdown",
   "metadata": {},
   "source": [
    "# BspImages\n",
    "Die Bilder kommen noch aus dem initialen Notebook. Von diesen Kenne ich die Labels"
   ]
  },
  {
   "cell_type": "code",
   "execution_count": 19,
   "metadata": {},
   "outputs": [],
   "source": [
    "# Test mit meinen Beispielimages\n",
    "# kommend aus dem ersten Notebook Basics, hier meine test-imgs\n",
    "bspImgs = [3,9,50,5001,3490]\n",
    "# das sind [1,4,3,3,0] \n",
    "bspImg = bspImgs[0]\n"
   ]
  },
  {
   "cell_type": "markdown",
   "metadata": {},
   "source": [
    "# ab Hier die Modellierung\n",
    "## SGD-Classifier Extended to Multiclass\n",
    "! vgl mit Binary-Classifier, jetzt werden alle Klassen, und nicht nur die 5 als train_y gewählt. Hier wird automatisch ein OVA, erstellt. Unten erkläre ich wie man ein OVO erzwingt. "
   ]
  },
  {
   "cell_type": "code",
   "execution_count": 20,
   "metadata": {},
   "outputs": [
    {
     "data": {
      "text/plain": [
       "array([9], dtype=uint8)"
      ]
     },
     "execution_count": 20,
     "metadata": {},
     "output_type": "execute_result"
    }
   ],
   "source": [
    "sgd_clf = SGDClassifier(max_iter=5, tol=-np.infty, random_state=42)\n",
    "sgd_clf.fit(train_X, train_y) \n",
    "sgd_clf.predict([train_X[4]])"
   ]
  },
  {
   "cell_type": "markdown",
   "metadata": {},
   "source": [
    "## Prüfen des soeben erstellten Classifiers mit den mir bekannten BSPImages"
   ]
  },
  {
   "cell_type": "code",
   "execution_count": 21,
   "metadata": {},
   "outputs": [
    {
     "name": "stdout",
     "output_type": "stream",
     "text": [
      "[1]\n",
      "[4]\n",
      "[3]\n",
      "[3]\n",
      "[0]\n"
     ]
    }
   ],
   "source": [
    "for currentExamplePicture in range(0, len(bspImgs),1):\n",
    "    print(sgd_clf.predict([train_X[bspImgs[currentExamplePicture]]]))\n",
    "    \n",
    "# Output passt mit dem was ich ursprünglich im  gecheckt hatte"
   ]
  },
  {
   "cell_type": "markdown",
   "metadata": {},
   "source": [
    "## Check die Scores von einem einzigen Bild\n",
    "Somit kann ich sagen welches bild am ehesten zutrifft"
   ]
  },
  {
   "cell_type": "code",
   "execution_count": 22,
   "metadata": {},
   "outputs": [
    {
     "name": "stdout",
     "output_type": "stream",
     "text": [
      "[[-591440.62376883   69425.74205759  -53233.77796119 -133202.0284238\n",
      "  -264386.81519259 -385956.12301055 -292795.13951332 -338264.17025273\n",
      "   -96076.58907387 -349142.42780857]]\n"
     ]
    },
    {
     "data": {
      "image/png": "[encoded data removed]",
      "text/plain": [
       "<Figure size 432x288 with 1 Axes>"
      ]
     },
     "metadata": {
      "needs_background": "light"
     },
     "output_type": "display_data"
    }
   ],
   "source": [
    "some_digit_scores = sgd_clf.decision_function([train_X[bspImg]])\n",
    "print(some_digit_scores)\n",
    "img = train_X[bspImg].reshape((28,28))\n",
    "plt.imshow(img, cmap=\"Greys\")\n",
    "plt.show()"
   ]
  },
  {
   "cell_type": "markdown",
   "metadata": {},
   "source": [
    "## Interpreation\n",
    "in den oberen Code-Blöcken habe ich für ein Bild das offensichtlich 1 darstellt oben drüber die Ergebnisse von 10 Binären Classifier, bei der 1 ist der Score am höchsten. Ergo klassifiziert im Multiclass-Segment der SGD das Bild als Klasse \"1\""
   ]
  },
  {
   "cell_type": "code",
   "execution_count": 23,
   "metadata": {},
   "outputs": [
    {
     "data": {
      "text/plain": [
       "OneVsOneClassifier(estimator=SGDClassifier(alpha=0.0001, average=False,\n",
       "                                           class_weight=None,\n",
       "                                           early_stopping=False, epsilon=0.1,\n",
       "                                           eta0=0.0, fit_intercept=True,\n",
       "                                           l1_ratio=0.15,\n",
       "                                           learning_rate='optimal',\n",
       "                                           loss='hinge', max_iter=1000,\n",
       "                                           n_iter_no_change=5, n_jobs=None,\n",
       "                                           penalty='l2', power_t=0.5,\n",
       "                                           random_state=42, shuffle=True,\n",
       "                                           tol=0.001, validation_fraction=0.1,\n",
       "                                           verbose=0, warm_start=False),\n",
       "                   n_jobs=None)"
      ]
     },
     "execution_count": 23,
     "metadata": {},
     "output_type": "execute_result"
    }
   ],
   "source": [
    "# Möglichkeit OVO zu \"forcen\"\n",
    "from sklearn.multiclass import OneVsOneClassifier\n",
    "ovo_clf = OneVsOneClassifier(SGDClassifier(random_state=42))\n",
    "ovo_clf.fit(train_X, train_y)"
   ]
  },
  {
   "cell_type": "code",
   "execution_count": 24,
   "metadata": {},
   "outputs": [
    {
     "name": "stdout",
     "output_type": "stream",
     "text": [
      "[1]\n",
      "[4]\n",
      "[3]\n",
      "[3]\n",
      "[0]\n",
      "45\n"
     ]
    }
   ],
   "source": [
    "for currentExamplePicture in range(0, len(bspImgs),1):\n",
    "    print(ovo_clf.predict([train_X[bspImgs[currentExamplePicture]]]))\n",
    "print(len(ovo_clf.estimators_))"
   ]
  },
  {
   "cell_type": "code",
   "execution_count": null,
   "metadata": {},
   "outputs": [],
   "source": []
  },
  {
   "cell_type": "markdown",
   "metadata": {},
   "source": [
    "# Logistische Rgression"
   ]
  },
  {
   "cell_type": "code",
   "execution_count": 9,
   "metadata": {},
   "outputs": [
    {
     "name": "stderr",
     "output_type": "stream",
     "text": [
      "C:\\Users\\1810837475\\.conda\\envs\\Kompensationsarbeit\\lib\\site-packages\\sklearn\\linear_model\\_logistic.py:939: ConvergenceWarning: lbfgs failed to converge (status=1):\n",
      "STOP: TOTAL NO. of ITERATIONS REACHED LIMIT.\n",
      "\n",
      "Increase the number of iterations (max_iter) or scale the data as shown in:\n",
      "    https://scikit-learn.org/stable/modules/preprocessing.html.\n",
      "Please also refer to the documentation for alternative solver options:\n",
      "    https://scikit-learn.org/stable/modules/linear_model.html#logistic-regression\n",
      "  extra_warning_msg=_LOGISTIC_SOLVER_CONVERGENCE_MSG)\n"
     ]
    },
    {
     "data": {
      "text/plain": [
       "LogisticRegression(C=100000.0, class_weight=None, dual=False,\n",
       "                   fit_intercept=True, intercept_scaling=1, l1_ratio=None,\n",
       "                   max_iter=100, multi_class='auto', n_jobs=None, penalty='l2',\n",
       "                   random_state=None, solver='lbfgs', tol=0.0001, verbose=0,\n",
       "                   warm_start=False)"
      ]
     },
     "execution_count": 9,
     "metadata": {},
     "output_type": "execute_result"
    }
   ],
   "source": [
    "logReg_clf = LogisticRegression(C=1e5)\n",
    "logReg_clf.fit(train_X, train_y) "
   ]
  },
  {
   "cell_type": "code",
   "execution_count": 10,
   "metadata": {},
   "outputs": [
    {
     "name": "stdout",
     "output_type": "stream",
     "text": [
      "[1]\n",
      "[4]\n",
      "[3]\n",
      "[3]\n",
      "[0]\n"
     ]
    }
   ],
   "source": [
    "# Ähnlich wie oben beim SGD hier die Testbilder\n",
    "for currentExamplePicture in range(0, len(bspImgs),1):\n",
    "    print(logReg_clf.predict([train_X[bspImgs[currentExamplePicture]]]))"
   ]
  },
  {
   "cell_type": "markdown",
   "metadata": {},
   "source": [
    "# RF-Classifier"
   ]
  },
  {
   "cell_type": "code",
   "execution_count": 11,
   "metadata": {},
   "outputs": [
    {
     "data": {
      "text/plain": [
       "RandomForestClassifier(bootstrap=True, ccp_alpha=0.0, class_weight=None,\n",
       "                       criterion='gini', max_depth=None, max_features='auto',\n",
       "                       max_leaf_nodes=None, max_samples=None,\n",
       "                       min_impurity_decrease=0.0, min_impurity_split=None,\n",
       "                       min_samples_leaf=1, min_samples_split=2,\n",
       "                       min_weight_fraction_leaf=0.0, n_estimators=100,\n",
       "                       n_jobs=None, oob_score=False, random_state=42, verbose=0,\n",
       "                       warm_start=False)"
      ]
     },
     "execution_count": 11,
     "metadata": {},
     "output_type": "execute_result"
    }
   ],
   "source": [
    "forest_clf = RandomForestClassifier(random_state=42)\n",
    "forest_clf.fit(train_X, train_y)"
   ]
  },
  {
   "cell_type": "code",
   "execution_count": 12,
   "metadata": {},
   "outputs": [
    {
     "name": "stdout",
     "output_type": "stream",
     "text": [
      "[1]\n",
      "[4]\n",
      "[3]\n",
      "[3]\n",
      "[0]\n"
     ]
    }
   ],
   "source": [
    "for currentExamplePicture in range(0, len(bspImgs),1):\n",
    "    print(forest_clf.predict([train_X[bspImgs[currentExamplePicture]]]))"
   ]
  },
  {
   "cell_type": "markdown",
   "metadata": {},
   "source": [
    "Random Forrest hat weder OVO noch OVA, da RF das automatisch bereits kann,dennoch können wir uns die P je Klasse anzeigen lassen"
   ]
  },
  {
   "cell_type": "code",
   "execution_count": 13,
   "metadata": {},
   "outputs": [
    {
     "name": "stdout",
     "output_type": "stream",
     "text": [
      "[[0. 1. 0. 0. 0. 0. 0. 0. 0. 0.]]\n",
      "[[0.   0.   0.   0.   0.98 0.01 0.   0.01 0.   0.  ]]\n",
      "[[0.01 0.   0.   0.97 0.   0.02 0.   0.   0.   0.  ]]\n",
      "[[0.   0.   0.   0.89 0.   0.06 0.   0.01 0.03 0.01]]\n",
      "[[0.99 0.   0.01 0.   0.   0.   0.   0.   0.   0.  ]]\n"
     ]
    }
   ],
   "source": [
    "for currentExamplePicture in range(0, len(bspImgs),1):\n",
    "    print(forest_clf.predict_proba([train_X[bspImgs[currentExamplePicture]]]))"
   ]
  },
  {
   "cell_type": "markdown",
   "metadata": {},
   "source": [
    "# Modelle speichern"
   ]
  },
  {
   "cell_type": "code",
   "execution_count": 14,
   "metadata": {},
   "outputs": [
    {
     "data": {
      "text/plain": [
       "['./MODEL/MNIST_MultiClassClassifier_logReg_clf.pkl']"
      ]
     },
     "execution_count": 14,
     "metadata": {},
     "output_type": "execute_result"
    }
   ],
   "source": [
    "# Speichern der Modelle\n",
    "joblib.dump(sgd_clf, \"./MODEL/MNIST_MultiClassClassifier_sgd_clf.pkl\")\n",
    "joblib.dump(forest_clf, \"./MODEL/MNIST_MultiClassClassifier_forest_clf.pkl\")\n",
    "joblib.dump(logReg_clf, \"./MODEL/MNIST_MultiClassClassifier_logReg_clf.pkl\")\n"
   ]
  },
  {
   "cell_type": "markdown",
   "metadata": {},
   "source": [
    "Die grundsäztliche Evaluierung findet in [hier](./999_EvaluationOfAllModels.ipynb) statt."
   ]
  },
  {
   "cell_type": "code",
   "execution_count": null,
   "metadata": {},
   "outputs": [],
   "source": []
  }
 ],
 "metadata": {
  "kernelspec": {
   "display_name": "Python 3",
   "language": "python",
   "name": "python3"
  },
  "language_info": {
   "codemirror_mode": {
    "name": "ipython",
    "version": 3
   },
   "file_extension": ".py",
   "mimetype": "text/x-python",
   "name": "python",
   "nbconvert_exporter": "python",
   "pygments_lexer": "ipython3",
   "version": "3.5.6"
  }
 },
 "nbformat": 4,
 "nbformat_minor": 2
}
