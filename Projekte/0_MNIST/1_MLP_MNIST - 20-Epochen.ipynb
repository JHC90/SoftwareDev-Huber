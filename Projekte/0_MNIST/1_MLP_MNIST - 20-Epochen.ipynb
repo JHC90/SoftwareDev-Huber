{
 "cells": [
  {
   "cell_type": "markdown",
   "metadata": {},
   "source": [
    "# MLP MNIST\n",
    "Hier werden das erste Mal im MNIST nun Algotihmen aus dem \n",
    "Multilayer Perceptron (MLP) for multi-class softmax classification:"
   ]
  },
  {
   "cell_type": "code",
   "execution_count": 2,
   "metadata": {},
   "outputs": [],
   "source": [
    "# Import Libraries\n",
    "from __future__ import print_function\n",
    "import keras\n",
    "from keras.datasets import mnist\n",
    "from keras.models import Sequential\n",
    "from keras.layers import Dense, Dropout\n",
    "from keras.optimizers import RMSprop\n",
    "from keras.models import model_from_json\n",
    "from pathlib import Path\n",
    "import matplotlib.pyplot as plt\n",
    "import tensorflow as tf"
   ]
  },
  {
   "cell_type": "code",
   "execution_count": 3,
   "metadata": {},
   "outputs": [],
   "source": [
    "# Hyperparamter Upfront \n",
    "batch_size = 128 # Bei MNIST wähle ich die 128 immer ident\n",
    "num_classes = 10 # Vorgabe aus Datensatz\n",
    "epochs = 20 # Wird in allen Modellen geählt"
   ]
  },
  {
   "cell_type": "code",
   "execution_count": 4,
   "metadata": {},
   "outputs": [
    {
     "name": "stdout",
     "output_type": "stream",
     "text": [
      "(60000, 28, 28)\n",
      "(60000,)\n",
      "(10000, 28, 28)\n",
      "(10000,)\n"
     ]
    }
   ],
   "source": [
    "(x_train, y_train), (x_test, y_test) = mnist.load_data()\n",
    "print(x_train.shape)\n",
    "print(y_train.shape)\n",
    "print(x_test.shape)\n",
    "print(y_test.shape)\n",
    "# Für MLP brauch ich einen Eingangsvektor => Reshaping"
   ]
  },
  {
   "cell_type": "code",
   "execution_count": 5,
   "metadata": {},
   "outputs": [
    {
     "name": "stdout",
     "output_type": "stream",
     "text": [
      "60000 train samples\n",
      "10000 test samples\n"
     ]
    }
   ],
   "source": [
    "x_train = x_train.reshape(60000, 784) # MLP benötigt InputVektor und keine Matrix => reshape\n",
    "x_test = x_test.reshape(10000, 784) # MLP benötigt InputVektor und keine Matrix => reshape\n",
    "x_train = x_train.astype('float32') # Standard \n",
    "x_test = x_test.astype('float32') # Standard \n",
    "x_train /= 255 # skalieren\n",
    "x_test /= 255 # Skalieren\n",
    "\n",
    "print(x_train.shape[0], 'train samples')\n",
    "print(x_test.shape[0], 'test samples')\n",
    "\n",
    "#Datenvektorisierung\n",
    "y_train = keras.utils.to_categorical(y_train, num_classes) # Standard bei NN\n",
    "y_test = keras.utils.to_categorical(y_test, num_classes)# Standard bei NN"
   ]
  },
  {
   "cell_type": "code",
   "execution_count": 6,
   "metadata": {},
   "outputs": [
    {
     "name": "stdout",
     "output_type": "stream",
     "text": [
      "(60000, 784)\n",
      "(60000, 10)\n",
      "(10000, 784)\n",
      "(10000, 10)\n"
     ]
    }
   ],
   "source": [
    "print(x_train.shape)\n",
    "print(y_train.shape)\n",
    "print(x_test.shape)\n",
    "print(y_test.shape)"
   ]
  },
  {
   "cell_type": "code",
   "execution_count": 7,
   "metadata": {},
   "outputs": [
    {
     "name": "stdout",
     "output_type": "stream",
     "text": [
      "Model: \"sequential_1\"\n",
      "_________________________________________________________________\n",
      "Layer (type)                 Output Shape              Param #   \n",
      "=================================================================\n",
      "dense_1 (Dense)              (None, 512)               401920    \n",
      "_________________________________________________________________\n",
      "dropout_1 (Dropout)          (None, 512)               0         \n",
      "_________________________________________________________________\n",
      "dense_2 (Dense)              (None, 512)               262656    \n",
      "_________________________________________________________________\n",
      "dropout_2 (Dropout)          (None, 512)               0         \n",
      "_________________________________________________________________\n",
      "dense_3 (Dense)              (None, 10)                5130      \n",
      "=================================================================\n",
      "Total params: 669,706\n",
      "Trainable params: 669,706\n",
      "Non-trainable params: 0\n",
      "_________________________________________________________________\n"
     ]
    }
   ],
   "source": [
    "# Prüfen ob bereits ein Model bereits trainiert und gespeichert ist, im Falle, dass noch kein Modell vorliegt neu erstellen\n",
    "modelMLP = Path(\"./MODEL/modelMLP.json\")\n",
    "if modelMLP.is_file():\n",
    "   # load json and create model\n",
    "    json_file = open('./MODEL/modelMLP.json', 'r')\n",
    "    loaded_model_json = json_file.read()\n",
    "    json_file.close()\n",
    "    modelMLP = model_from_json(loaded_model_json)\n",
    "    # load weights into new model\n",
    "    modelMLP.load_weights(\"./MODEL/modelMLP.h5\")\n",
    "    print(\"Loaded model from disk\")\n",
    "else:\n",
    "    modelMLP = Sequential()\n",
    "    modelMLP.add(Dense(512, activation='relu', input_shape=(784,)))\n",
    "    modelMLP.add(Dropout(0.2))\n",
    "    modelMLP.add(Dense(512, activation='relu'))\n",
    "    modelMLP.add(Dropout(0.2))\n",
    "    modelMLP.add(Dense(num_classes, activation='softmax')) # hier der letzte Layer hat die Anzahl der möglichen klassen & die Softmax Aktivierung\n",
    "    modelMLP.summary()"
   ]
  },
  {
   "cell_type": "code",
   "execution_count": 8,
   "metadata": {},
   "outputs": [],
   "source": [
    "#\n",
    "modelMLP.compile(loss='categorical_crossentropy',\n",
    "              optimizer=RMSprop(),\n",
    "              metrics=['accuracy'])\n"
   ]
  },
  {
   "cell_type": "code",
   "execution_count": 9,
   "metadata": {
    "scrolled": true
   },
   "outputs": [
    {
     "name": "stdout",
     "output_type": "stream",
     "text": [
      "WARNING:tensorflow:From c:\\users\\1810837475\\.conda\\envs\\testtensorflow\\lib\\site-packages\\keras\\backend\\tensorflow_backend.py:422: The name tf.global_variables is deprecated. Please use tf.compat.v1.global_variables instead.\n",
      "\n",
      "Train on 60000 samples, validate on 10000 samples\n",
      "Epoch 1/20\n",
      "60000/60000 [==============================] - 26s 439us/step - loss: 0.2477 - accuracy: 0.9238 - val_loss: 0.1010 - val_accuracy: 0.9676\n",
      "Epoch 2/20\n",
      "60000/60000 [==============================] - 25s 424us/step - loss: 0.1036 - accuracy: 0.9682 - val_loss: 0.0818 - val_accuracy: 0.9750\n",
      "Epoch 3/20\n",
      "60000/60000 [==============================] - 25s 412us/step - loss: 0.0738 - accuracy: 0.9782 - val_loss: 0.0783 - val_accuracy: 0.9775\n",
      "Epoch 4/20\n",
      "60000/60000 [==============================] - 25s 412us/step - loss: 0.0605 - accuracy: 0.9820 - val_loss: 0.0929 - val_accuracy: 0.9745\n",
      "Epoch 5/20\n",
      "60000/60000 [==============================] - 25s 421us/step - loss: 0.0496 - accuracy: 0.9853 - val_loss: 0.0802 - val_accuracy: 0.9792\n",
      "Epoch 6/20\n",
      "60000/60000 [==============================] - 26s 436us/step - loss: 0.0430 - accuracy: 0.9868 - val_loss: 0.0915 - val_accuracy: 0.9791\n",
      "Epoch 7/20\n",
      "60000/60000 [==============================] - 29s 488us/step - loss: 0.0372 - accuracy: 0.9886 - val_loss: 0.0711 - val_accuracy: 0.9843\n",
      "Epoch 8/20\n",
      "60000/60000 [==============================] - 33s 548us/step - loss: 0.0355 - accuracy: 0.9898 - val_loss: 0.0762 - val_accuracy: 0.9818\n",
      "Epoch 9/20\n",
      "60000/60000 [==============================] - 33s 552us/step - loss: 0.0317 - accuracy: 0.9907 - val_loss: 0.0897 - val_accuracy: 0.9825\n",
      "Epoch 10/20\n",
      "60000/60000 [==============================] - 33s 549us/step - loss: 0.0282 - accuracy: 0.9915 - val_loss: 0.0932 - val_accuracy: 0.9831\n",
      "Epoch 11/20\n",
      "60000/60000 [==============================] - 34s 564us/step - loss: 0.0252 - accuracy: 0.9926 - val_loss: 0.0899 - val_accuracy: 0.9820\n",
      "Epoch 12/20\n",
      "60000/60000 [==============================] - 34s 565us/step - loss: 0.0246 - accuracy: 0.9931 - val_loss: 0.0858 - val_accuracy: 0.9851\n",
      "Epoch 13/20\n",
      "60000/60000 [==============================] - 36s 593us/step - loss: 0.0234 - accuracy: 0.9934 - val_loss: 0.0946 - val_accuracy: 0.9832\n",
      "Epoch 14/20\n",
      "60000/60000 [==============================] - 35s 591us/step - loss: 0.0217 - accuracy: 0.9936 - val_loss: 0.0994 - val_accuracy: 0.9831\n",
      "Epoch 15/20\n",
      "60000/60000 [==============================] - 38s 641us/step - loss: 0.0214 - accuracy: 0.9939 - val_loss: 0.1076 - val_accuracy: 0.9841\n",
      "Epoch 16/20\n",
      "60000/60000 [==============================] - 37s 609us/step - loss: 0.0194 - accuracy: 0.9943 - val_loss: 0.1221 - val_accuracy: 0.9823\n",
      "Epoch 17/20\n",
      "60000/60000 [==============================] - 35s 583us/step - loss: 0.0196 - accuracy: 0.9945 - val_loss: 0.1186 - val_accuracy: 0.9828\n",
      "Epoch 18/20\n",
      "60000/60000 [==============================] - 36s 595us/step - loss: 0.0184 - accuracy: 0.9950 - val_loss: 0.1175 - val_accuracy: 0.9831\n",
      "Epoch 19/20\n",
      "60000/60000 [==============================] - 35s 588us/step - loss: 0.0181 - accuracy: 0.9954 - val_loss: 0.1144 - val_accuracy: 0.9842\n",
      "Epoch 20/20\n",
      "60000/60000 [==============================] - 35s 579us/step - loss: 0.0186 - accuracy: 0.9951 - val_loss: 0.1361 - val_accuracy: 0.9817\n"
     ]
    }
   ],
   "source": [
    "# Ausführen des Modelles\n",
    "history = modelMLP.fit(x_train, y_train,\n",
    "                    batch_size=batch_size,\n",
    "                    epochs=epochs,\n",
    "                    verbose=1, # show training progress during training Possible = 0,1,2\n",
    "                    validation_data=(x_test, y_test))"
   ]
  },
  {
   "cell_type": "code",
   "execution_count": 10,
   "metadata": {},
   "outputs": [
    {
     "name": "stdout",
     "output_type": "stream",
     "text": [
      "Saved modelMLP to disk\n"
     ]
    }
   ],
   "source": [
    "# Save trained Model to disk via JSON\n",
    "model_json = modelMLP.to_json()\n",
    "with open(\"./MODEL/modelMLP.json\", \"w\") as json_file:\n",
    "    json_file.write(model_json)\n",
    "# serialize weights to HDF5\n",
    "modelMLP.save_weights(\"./MODEL/modelMLP.h5\")\n",
    "print(\"Saved modelMLP to disk\")"
   ]
  },
  {
   "cell_type": "code",
   "execution_count": 11,
   "metadata": {},
   "outputs": [
    {
     "name": "stdout",
     "output_type": "stream",
     "text": [
      "Test loss: 0.1361285641965104\n",
      "Test accuracy: 0.9817000031471252\n"
     ]
    }
   ],
   "source": [
    "score = modelMLP.evaluate(x_test, y_test, verbose=0)\n",
    "print('Test loss:', score[0])\n",
    "print('Test accuracy:', score[1])"
   ]
  },
  {
   "cell_type": "code",
   "execution_count": 12,
   "metadata": {},
   "outputs": [
    {
     "data": {
      "image/png": "[encoded data removed]",
      "text/plain": [
       "<Figure size 432x288 with 1 Axes>"
      ]
     },
     "metadata": {
      "needs_background": "light"
     },
     "output_type": "display_data"
    }
   ],
   "source": [
    "# Plot training & validation accuracy values\n",
    "\n",
    "plt.plot(history.history['accuracy'])\n",
    "plt.plot(history.history['val_accuracy'])\n",
    "plt.title('Model accuracy')\n",
    "plt.ylabel('Accuracy')\n",
    "plt.xlabel('Epoch')\n",
    "plt.legend(['Train', 'Test'], loc='upper left')\n",
    "plt.show()"
   ]
  },
  {
   "cell_type": "code",
   "execution_count": 13,
   "metadata": {},
   "outputs": [
    {
     "data": {
      "image/png": "[encoded data removed]",
      "text/plain": [
       "<Figure size 432x288 with 1 Axes>"
      ]
     },
     "metadata": {
      "needs_background": "light"
     },
     "output_type": "display_data"
    }
   ],
   "source": [
    "# Plot training & validation loss values\n",
    "plt.plot(history.history['loss'])\n",
    "plt.plot(history.history['val_loss'])\n",
    "plt.title('Model loss')\n",
    "plt.ylabel('Loss')\n",
    "plt.xlabel('Epoch')\n",
    "plt.legend(['Train', 'Test'], loc='upper left')\n",
    "plt.show()"
   ]
  },
  {
   "cell_type": "code",
   "execution_count": 14,
   "metadata": {},
   "outputs": [
    {
     "data": {
      "image/png": "[encoded data removed]",
      "text/plain": [
       "<IPython.core.display.Image object>"
      ]
     },
     "execution_count": 14,
     "metadata": {},
     "output_type": "execute_result"
    }
   ],
   "source": [
    "\n",
    "tf.keras.utils.plot_model(\n",
    "    modelMLP,\n",
    "    to_file='model.png',\n",
    "    show_shapes=False,\n",
    "    show_layer_names=True,\n",
    "    rankdir='TB'\n",
    ")"
   ]
  },
  {
   "cell_type": "code",
   "execution_count": null,
   "metadata": {},
   "outputs": [],
   "source": []
  }
 ],
 "metadata": {
  "kernelspec": {
   "display_name": "Python 3",
   "language": "python",
   "name": "python3"
  },
  "language_info": {
   "codemirror_mode": {
    "name": "ipython",
    "version": 3
   },
   "file_extension": ".py",
   "mimetype": "text/x-python",
   "name": "python",
   "nbconvert_exporter": "python",
   "pygments_lexer": "ipython3",
   "version": "3.5.6"
  }
 },
 "nbformat": 4,
 "nbformat_minor": 2
}
