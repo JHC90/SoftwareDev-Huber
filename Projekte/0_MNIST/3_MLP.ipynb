{
 "cells": [
  {
   "cell_type": "markdown",
   "metadata": {},
   "source": [
    "# MLP MNIST\n",
    "Hier werden das erste Mal im MNIST nun Algotihmen aus dem \n",
    "Multilayer Perceptron (MLP) for multi-class softmax classification:"
   ]
  },
  {
   "cell_type": "code",
   "execution_count": 4,
   "metadata": {},
   "outputs": [],
   "source": [
    "from __future__ import print_function\n",
    "import keras\n",
    "from keras.datasets import mnist\n",
    "from keras.models import Sequential\n",
    "from keras.layers import Dense, Dropout\n",
    "from keras.optimizers import RMSprop"
   ]
  },
  {
   "cell_type": "code",
   "execution_count": 5,
   "metadata": {},
   "outputs": [],
   "source": [
    "# Hier die Hyperparamter\n",
    "batch_size = 128\n",
    "num_classes = 10\n",
    "epochs = 20"
   ]
  },
  {
   "cell_type": "code",
   "execution_count": 11,
   "metadata": {},
   "outputs": [
    {
     "name": "stdout",
     "output_type": "stream",
     "text": [
      "60000 train samples\n",
      "10000 test samples\n"
     ]
    }
   ],
   "source": [
    "(x_train, y_train), (x_test, y_test) = mnist.load_data()\n",
    "\n",
    "x_train = x_train.reshape(60000, 784)\n",
    "x_test = x_test.reshape(10000, 784)\n",
    "x_train = x_train.astype('float32')\n",
    "x_test = x_test.astype('float32')\n",
    "x_train /= 255\n",
    "x_test /= 255\n",
    "print(x_train.shape[0], 'train samples')\n",
    "print(x_test.shape[0], 'test samples')\n",
    "\n",
    "\n",
    "y_train = keras.utils.to_categorical(y_train, num_classes)\n",
    "y_test = keras.utils.to_categorical(y_test, num_classes)"
   ]
  },
  {
   "cell_type": "code",
   "execution_count": 12,
   "metadata": {},
   "outputs": [
    {
     "name": "stdout",
     "output_type": "stream",
     "text": [
      "(60000, 784)\n",
      "(60000, 10)\n",
      "(10000, 784)\n",
      "(10000, 10)\n"
     ]
    }
   ],
   "source": [
    "print(x_train.shape)\n",
    "print(y_train.shape)\n",
    "print(x_test.shape)\n",
    "print(y_test.shape)"
   ]
  },
  {
   "cell_type": "code",
   "execution_count": 13,
   "metadata": {},
   "outputs": [
    {
     "name": "stdout",
     "output_type": "stream",
     "text": [
      "Model: \"sequential_2\"\n",
      "_________________________________________________________________\n",
      "Layer (type)                 Output Shape              Param #   \n",
      "=================================================================\n",
      "dense_4 (Dense)              (None, 512)               401920    \n",
      "_________________________________________________________________\n",
      "dropout_3 (Dropout)          (None, 512)               0         \n",
      "_________________________________________________________________\n",
      "dense_5 (Dense)              (None, 512)               262656    \n",
      "_________________________________________________________________\n",
      "dropout_4 (Dropout)          (None, 512)               0         \n",
      "_________________________________________________________________\n",
      "dense_6 (Dense)              (None, 10)                5130      \n",
      "=================================================================\n",
      "Total params: 669,706\n",
      "Trainable params: 669,706\n",
      "Non-trainable params: 0\n",
      "_________________________________________________________________\n"
     ]
    }
   ],
   "source": [
    "model = Sequential()\n",
    "model.add(Dense(512, activation='relu', input_shape=(784,)))\n",
    "model.add(Dropout(0.2))\n",
    "model.add(Dense(512, activation='relu'))\n",
    "model.add(Dropout(0.2))\n",
    "model.add(Dense(num_classes, activation='softmax')) # hier der letzte Layer hat die Anzahl der möglichen klassen & die Softmax Aktivierung\n",
    "model.summary()"
   ]
  },
  {
   "cell_type": "code",
   "execution_count": 9,
   "metadata": {},
   "outputs": [],
   "source": [
    "model.compile(loss='categorical_crossentropy',\n",
    "              optimizer=RMSprop(),\n",
    "              metrics=['accuracy'])\n"
   ]
  },
  {
   "cell_type": "code",
   "execution_count": 10,
   "metadata": {},
   "outputs": [
    {
     "name": "stdout",
     "output_type": "stream",
     "text": [
      "WARNING:tensorflow:From c:\\users\\1810837475\\.conda\\envs\\testtensorflow\\lib\\site-packages\\keras\\backend\\tensorflow_backend.py:422: The name tf.global_variables is deprecated. Please use tf.compat.v1.global_variables instead.\n",
      "\n",
      "Train on 60000 samples, validate on 10000 samples\n",
      "Epoch 1/20\n",
      "60000/60000 [==============================] - 12s 194us/step - loss: 0.2444 - accuracy: 0.9241 - val_loss: 0.0970 - val_accuracy: 0.9697\n",
      "Epoch 2/20\n",
      "60000/60000 [==============================] - 12s 193us/step - loss: 0.1020 - accuracy: 0.9695 - val_loss: 0.0905 - val_accuracy: 0.9722\n",
      "Epoch 3/20\n",
      "60000/60000 [==============================] - 11s 188us/step - loss: 0.0758 - accuracy: 0.9768 - val_loss: 0.1065 - val_accuracy: 0.9693\n",
      "Epoch 4/20\n",
      "60000/60000 [==============================] - 12s 203us/step - loss: 0.0590 - accuracy: 0.9825 - val_loss: 0.0903 - val_accuracy: 0.9764\n",
      "Epoch 5/20\n",
      "60000/60000 [==============================] - 13s 221us/step - loss: 0.0486 - accuracy: 0.9855 - val_loss: 0.0687 - val_accuracy: 0.9812\n",
      "Epoch 6/20\n",
      "60000/60000 [==============================] - 12s 207us/step - loss: 0.0437 - accuracy: 0.9875 - val_loss: 0.0806 - val_accuracy: 0.9803\n",
      "Epoch 7/20\n",
      "60000/60000 [==============================] - 12s 195us/step - loss: 0.0390 - accuracy: 0.9885 - val_loss: 0.0852 - val_accuracy: 0.9810\n",
      "Epoch 8/20\n",
      "60000/60000 [==============================] - 12s 200us/step - loss: 0.0358 - accuracy: 0.9894 - val_loss: 0.0873 - val_accuracy: 0.9801\n",
      "Epoch 9/20\n",
      "60000/60000 [==============================] - 12s 197us/step - loss: 0.0327 - accuracy: 0.9904 - val_loss: 0.0923 - val_accuracy: 0.9820\n",
      "Epoch 10/20\n",
      "60000/60000 [==============================] - 11s 187us/step - loss: 0.0288 - accuracy: 0.9917 - val_loss: 0.1032 - val_accuracy: 0.9793\n",
      "Epoch 11/20\n",
      "60000/60000 [==============================] - 11s 189us/step - loss: 0.0267 - accuracy: 0.9921 - val_loss: 0.1111 - val_accuracy: 0.9801\n",
      "Epoch 12/20\n",
      "60000/60000 [==============================] - 12s 203us/step - loss: 0.0247 - accuracy: 0.9930 - val_loss: 0.1052 - val_accuracy: 0.9811\n",
      "Epoch 13/20\n",
      "60000/60000 [==============================] - 12s 194us/step - loss: 0.0227 - accuracy: 0.9933 - val_loss: 0.1102 - val_accuracy: 0.9833\n",
      "Epoch 14/20\n",
      "60000/60000 [==============================] - 12s 208us/step - loss: 0.0243 - accuracy: 0.9938 - val_loss: 0.1022 - val_accuracy: 0.9825\n",
      "Epoch 15/20\n",
      "60000/60000 [==============================] - 13s 218us/step - loss: 0.0204 - accuracy: 0.9941 - val_loss: 0.1209 - val_accuracy: 0.9820\n",
      "Epoch 16/20\n",
      "60000/60000 [==============================] - 13s 211us/step - loss: 0.0199 - accuracy: 0.9941 - val_loss: 0.1157 - val_accuracy: 0.9823\n",
      "Epoch 17/20\n",
      "60000/60000 [==============================] - 13s 222us/step - loss: 0.0208 - accuracy: 0.9942 - val_loss: 0.1027 - val_accuracy: 0.9830\n",
      "Epoch 18/20\n",
      "60000/60000 [==============================] - 13s 217us/step - loss: 0.0185 - accuracy: 0.9952 - val_loss: 0.1331 - val_accuracy: 0.9823\n",
      "Epoch 19/20\n",
      "60000/60000 [==============================] - 12s 208us/step - loss: 0.0182 - accuracy: 0.9952 - val_loss: 0.1445 - val_accuracy: 0.9830\n",
      "Epoch 20/20\n",
      "60000/60000 [==============================] - 13s 217us/step - loss: 0.0186 - accuracy: 0.9952 - val_loss: 0.1439 - val_accuracy: 0.9815\n"
     ]
    }
   ],
   "source": [
    "history = model.fit(x_train, y_train,\n",
    "                    batch_size=batch_size,\n",
    "                    epochs=epochs,\n",
    "                    verbose=1,\n",
    "                    validation_data=(x_test, y_test))"
   ]
  },
  {
   "cell_type": "code",
   "execution_count": 11,
   "metadata": {},
   "outputs": [
    {
     "name": "stdout",
     "output_type": "stream",
     "text": [
      "Test loss: 0.14572093418701815\n",
      "Test accuracy: 0.9824000000953674\n"
     ]
    }
   ],
   "source": [
    "score = model.evaluate(x_test, y_test, verbose=0)\n",
    "print('Test loss:', score[0])\n",
    "print('Test accuracy:', score[1])"
   ]
  }
 ],
 "metadata": {
  "kernelspec": {
   "display_name": "Python 3",
   "language": "python",
   "name": "python3"
  },
  "language_info": {
   "codemirror_mode": {
    "name": "ipython",
    "version": 3
   },
   "file_extension": ".py",
   "mimetype": "text/x-python",
   "name": "python",
   "nbconvert_exporter": "python",
   "pygments_lexer": "ipython3",
   "version": "3.5.6"
  }
 },
 "nbformat": 4,
 "nbformat_minor": 2
}
