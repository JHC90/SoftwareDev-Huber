{
 "cells": [
  {
   "cell_type": "markdown",
   "metadata": {},
   "source": [
    "# CNN\n"
   ]
  },
  {
   "cell_type": "code",
   "execution_count": 23,
   "metadata": {},
   "outputs": [],
   "source": [
    "# Bibliotheken\n",
    "import keras\n",
    "from keras.datasets import mnist\n",
    "from keras.models import Sequential\n",
    "from keras.layers import Dense\n",
    "from keras.optimizers import RMSprop\n",
    "from keras.callbacks import EarlyStopping\n",
    "\n",
    "from time import time\n",
    "\n",
    "import matplotlib.pyplot as plt\n",
    "import time\n",
    "\n",
    "from mlxtend.data import loadlocal_mnist\n",
    "\n",
    "from matplotlib import *\n",
    "import matplotlib.pyplot as plot\n",
    "import matplotlib.pyplot as plt\n",
    "\n"
   ]
  },
  {
   "cell_type": "code",
   "execution_count": 10,
   "metadata": {},
   "outputs": [],
   "source": [
    "# Trainingsparameter\n",
    "batch_size = 128\n",
    "num_classes = 10\n",
    "epochs = 100\n"
   ]
  },
  {
   "cell_type": "code",
   "execution_count": 11,
   "metadata": {},
   "outputs": [],
   "source": [
    "# Bilddimensionen\n",
    "img_rows , img_cols = 28 , 28\n",
    "input_size = img_rows * img_cols"
   ]
  },
  {
   "cell_type": "code",
   "execution_count": 12,
   "metadata": {},
   "outputs": [],
   "source": [
    "# Laden der Daten\n",
    "x_train, y_train = loadlocal_mnist(\n",
    "        images_path='./Data/train-images.idx3-ubyte', \n",
    "        labels_path='./Data/train-labels.idx1-ubyte')\n",
    "x_test, y_test = loadlocal_mnist(\n",
    "        images_path='./Data/t10k-images.idx3-ubyte', \n",
    "        labels_path='./Data/t10k-labels.idx1-ubyte')"
   ]
  },
  {
   "cell_type": "code",
   "execution_count": 13,
   "metadata": {},
   "outputs": [],
   "source": [
    "# Bearbeite X_Values = Bilder\n",
    "x_train = x_train . reshape ( x_train . shape [0] , input_size )\n",
    "x_test = x_test . reshape ( x_test . shape [0] , input_size )\n",
    "x_train = x_train . astype ('float32')\n",
    "x_test = x_test . astype ('float32')\n",
    "x_train /= 255\n",
    "x_test /= 255"
   ]
  },
  {
   "cell_type": "code",
   "execution_count": 14,
   "metadata": {},
   "outputs": [],
   "source": [
    "# Datenkonvertierung 2: Y-Werte (Klassenvektoren => Binäre Klassenmatrizen)\n",
    "y_train = keras.utils.to_categorical(y_train ,num_classes)\n",
    "y_test = keras.utils.to_categorical(y_test , num_classes)"
   ]
  },
  {
   "cell_type": "raw",
   "metadata": {},
   "source": [
    "# Modellparameter\n",
    "model=Sequential()\n",
    "model.add(Dense(256,activation='relu',input_shape=(input_size,)))\n",
    "model.add(Dense(128,activation='relu'))\n",
    "model.add(Dense(num_classes,activation='softmax'))\n",
    "model.summary()\n",
    "model.compile(loss='categorical_crossentropy',optimizer=RMSprop(),\n",
    "metrics=['accuracy'])"
   ]
  },
  {
   "cell_type": "code",
   "execution_count": 46,
   "metadata": {},
   "outputs": [
    {
     "name": "stdout",
     "output_type": "stream",
     "text": [
      "Model: \"sequential_4\"\n",
      "_________________________________________________________________\n",
      "Layer (type)                 Output Shape              Param #   \n",
      "=================================================================\n",
      "dense_10 (Dense)             (None, 256)               200960    \n",
      "_________________________________________________________________\n",
      "dense_11 (Dense)             (None, 128)               32896     \n",
      "_________________________________________________________________\n",
      "dense_12 (Dense)             (None, 10)                1290      \n",
      "=================================================================\n",
      "Total params: 235,146\n",
      "Trainable params: 235,146\n",
      "Non-trainable params: 0\n",
      "_________________________________________________________________\n"
     ]
    }
   ],
   "source": [
    "# Modellparameter\n",
    "cnn_clf=Sequential()\n",
    "cnn_clf.add(Dense(256,activation='relu',input_shape=(input_size,)))\n",
    "cnn_clf.add(Dense(128,activation='relu'))\n",
    "cnn_clf.add(Dense(num_classes,activation='softmax'))\n",
    "cnn_clf.summary()\n",
    "cnn_clf.compile(loss='categorical_crossentropy',optimizer=RMSprop(),\n",
    "metrics=['accuracy'])"
   ]
  },
  {
   "cell_type": "code",
   "execution_count": 47,
   "metadata": {},
   "outputs": [
    {
     "name": "stdout",
     "output_type": "stream",
     "text": [
      "Train on 60000 samples, validate on 10000 samples\n",
      "Epoch 1/100\n",
      " - 3s - loss: 0.2637 - accuracy: 0.9203 - val_loss: 0.1223 - val_accuracy: 0.9610\n",
      "Epoch 2/100\n",
      " - 3s - loss: 0.1045 - accuracy: 0.9687 - val_loss: 0.0982 - val_accuracy: 0.9678\n",
      "Epoch 3/100\n",
      " - 3s - loss: 0.0698 - accuracy: 0.9781 - val_loss: 0.0713 - val_accuracy: 0.9773\n",
      "Epoch 4/100\n",
      " - 3s - loss: 0.0517 - accuracy: 0.9837 - val_loss: 0.0698 - val_accuracy: 0.9785\n",
      "Epoch 5/100\n",
      " - 3s - loss: 0.0387 - accuracy: 0.9876 - val_loss: 0.0648 - val_accuracy: 0.9821\n",
      "Epoch 6/100\n",
      " - 3s - loss: 0.0308 - accuracy: 0.9898 - val_loss: 0.0779 - val_accuracy: 0.9771\n",
      "Epoch 7/100\n",
      " - 3s - loss: 0.0240 - accuracy: 0.9930 - val_loss: 0.0752 - val_accuracy: 0.9794\n",
      "Epoch 8/100\n",
      " - 3s - loss: 0.0195 - accuracy: 0.9942 - val_loss: 0.0723 - val_accuracy: 0.9801\n",
      "Epoch 9/100\n",
      " - 3s - loss: 0.0154 - accuracy: 0.9948 - val_loss: 0.0811 - val_accuracy: 0.9797\n",
      "Epoch 10/100\n",
      " - 3s - loss: 0.0133 - accuracy: 0.9959 - val_loss: 0.1148 - val_accuracy: 0.9716\n",
      "Epoch 11/100\n",
      " - 3s - loss: 0.0100 - accuracy: 0.9968 - val_loss: 0.0876 - val_accuracy: 0.9819\n",
      "Epoch 12/100\n",
      " - 3s - loss: 0.0088 - accuracy: 0.9974 - val_loss: 0.0868 - val_accuracy: 0.9815\n",
      "Epoch 13/100\n",
      " - 3s - loss: 0.0068 - accuracy: 0.9976 - val_loss: 0.1071 - val_accuracy: 0.9803\n",
      "Epoch 14/100\n",
      " - 3s - loss: 0.0061 - accuracy: 0.9981 - val_loss: 0.0876 - val_accuracy: 0.9815\n",
      "Epoch 15/100\n",
      " - 3s - loss: 0.0050 - accuracy: 0.9982 - val_loss: 0.1137 - val_accuracy: 0.9817\n"
     ]
    },
    {
     "data": {
      "text/plain": [
       "<keras.callbacks.callbacks.History at 0x1366e8b6f60>"
      ]
     },
     "execution_count": 47,
     "metadata": {},
     "output_type": "execute_result"
    }
   ],
   "source": [
    "# Fit das Model, für speichern\n",
    "cnn_clf.fit(x_train,y_train,batch_size=batch_size,\n",
    "                  epochs=epochs,verbose=2,validation_data=(x_test,y_test),\n",
    "                  callbacks=[EarlyStopping(min_delta=0.00001,patience=10)])"
   ]
  },
  {
   "cell_type": "raw",
   "metadata": {},
   "source": [
    "sgd_clf = SGDClassifier(max_iter=5, tol=-np.infty, random_state=42)\n",
    "sgd_clf.fit(train_X, y_train_5)"
   ]
  },
  {
   "cell_type": "code",
   "execution_count": 17,
   "metadata": {},
   "outputs": [
    {
     "name": "stdout",
     "output_type": "stream",
     "text": [
      "Train on 60000 samples, validate on 10000 samples\n",
      "Epoch 1/100\n",
      " - 3s - loss: 0.2588 - accuracy: 0.9216 - val_loss: 0.1320 - val_accuracy: 0.9592\n",
      "Epoch 2/100\n",
      " - 3s - loss: 0.1019 - accuracy: 0.9685 - val_loss: 0.0912 - val_accuracy: 0.9719\n",
      "Epoch 3/100\n",
      " - 3s - loss: 0.0677 - accuracy: 0.9792 - val_loss: 0.1030 - val_accuracy: 0.9685\n",
      "Epoch 4/100\n",
      " - 3s - loss: 0.0499 - accuracy: 0.9846 - val_loss: 0.0657 - val_accuracy: 0.9793\n",
      "Epoch 5/100\n",
      " - 3s - loss: 0.0379 - accuracy: 0.9879 - val_loss: 0.0736 - val_accuracy: 0.9793\n",
      "Epoch 6/100\n",
      " - 3s - loss: 0.0286 - accuracy: 0.9906 - val_loss: 0.0803 - val_accuracy: 0.9796\n",
      "Epoch 7/100\n",
      " - 3s - loss: 0.0231 - accuracy: 0.9927 - val_loss: 0.0780 - val_accuracy: 0.9810\n",
      "Epoch 8/100\n",
      " - 3s - loss: 0.0181 - accuracy: 0.9944 - val_loss: 0.0839 - val_accuracy: 0.9796\n",
      "Epoch 9/100\n",
      " - 3s - loss: 0.0141 - accuracy: 0.9959 - val_loss: 0.0828 - val_accuracy: 0.9800\n",
      "Epoch 10/100\n",
      " - 3s - loss: 0.0121 - accuracy: 0.9961 - val_loss: 0.0915 - val_accuracy: 0.9806\n",
      "Epoch 11/100\n",
      " - 3s - loss: 0.0093 - accuracy: 0.9969 - val_loss: 0.1009 - val_accuracy: 0.9804\n",
      "Epoch 12/100\n",
      " - 3s - loss: 0.0085 - accuracy: 0.9973 - val_loss: 0.0931 - val_accuracy: 0.9802\n",
      "Epoch 13/100\n",
      " - 3s - loss: 0.0071 - accuracy: 0.9979 - val_loss: 0.0990 - val_accuracy: 0.9807\n",
      "Epoch 14/100\n",
      " - 3s - loss: 0.0066 - accuracy: 0.9978 - val_loss: 0.1094 - val_accuracy: 0.9802\n",
      "Zeitdauer[s]:41.937153577804565\n"
     ]
    }
   ],
   "source": [
    "#Training\n",
    "import time\n",
    "start_time=time.time()\n",
    "\n",
    "history=cnn_clf.fit(x_train,y_train,batch_size=batch_size,\n",
    "                  epochs=epochs,verbose=2,validation_data=(x_test,y_test),\n",
    "                  callbacks=[EarlyStopping(min_delta=0.00001,patience=10)])\n",
    "\n",
    "end_time=time.time()\n",
    "print(\"Zeitdauer[s]:{}\".format((end_time-start_time)))\n"
   ]
  },
  {
   "cell_type": "code",
   "execution_count": null,
   "metadata": {},
   "outputs": [],
   "source": []
  },
  {
   "cell_type": "code",
   "execution_count": 25,
   "metadata": {},
   "outputs": [
    {
     "name": "stdout",
     "output_type": "stream",
     "text": [
      "Loss : 0.10943023085752486\n",
      "Genauigkeit [%]: 98.01999926567078\n"
     ]
    }
   ],
   "source": [
    "# Test / Validierung\n",
    "loss ,acc = model.evaluate (x_test , y_test ,verbose =0)\n",
    "print (\"Loss : {}\".format(loss))\n",
    "print (\"Genauigkeit [%]: {}\".format(acc *100))\n"
   ]
  },
  {
   "cell_type": "code",
   "execution_count": 44,
   "metadata": {},
   "outputs": [
    {
     "name": "stderr",
     "output_type": "stream",
     "text": [
      "C:\\Users\\1810837475\\.conda\\envs\\Kompensationsarbeit\\lib\\site-packages\\ipykernel_launcher.py:9: MatplotlibDeprecationWarning: Unrecognized location 'lower right '. Falling back on 'best'; valid locations are\n",
      "\tbest\n",
      "\tupper right\n",
      "\tupper left\n",
      "\tlower left\n",
      "\tlower right\n",
      "\tright\n",
      "\tcenter left\n",
      "\tcenter right\n",
      "\tlower center\n",
      "\tupper center\n",
      "\tcenter\n",
      "This will raise an exception in 3.3.\n",
      "  if __name__ == '__main__':\n"
     ]
    },
    {
     "data": {
      "image/png": "[encoded data removed]",
      "text/plain": [
       "<Figure size 432x288 with 1 Axes>"
      ]
     },
     "metadata": {
      "needs_background": "light"
     },
     "output_type": "display_data"
    }
   ],
   "source": [
    "# Visualisierung: Genauigkeit\n",
    "plt . plot ( history . history ['accuracy'])\n",
    "plt . plot ( history . history ['val_accuracy'])\n",
    "plt . title ('Modell - Genauigkeit ')\n",
    "plt . plot ( history . history ['val_accuracy'])\n",
    "plt . title ('Modell - Genauigkeit ')\n",
    "plt . ylabel ('Genauigkeit ')\n",
    "plt . xlabel ('Epoche ')\n",
    "plt . legend ([ 'Training ', 'Test '] , loc='lower right ')\n",
    "plt . show ()\n"
   ]
  },
  {
   "cell_type": "code",
   "execution_count": 30,
   "metadata": {},
   "outputs": [
    {
     "data": {
      "image/png": "[encoded data removed]",
      "text/plain": [
       "<Figure size 432x288 with 1 Axes>"
      ]
     },
     "metadata": {
      "needs_background": "light"
     },
     "output_type": "display_data"
    }
   ],
   "source": [
    "# Visualisierung: Fehler (Loss-Funktion)\n",
    "plt.plot(history.history ['loss'])\n",
    "plt.plot(history.history['val_loss'])\n",
    "plt.title('Modell-Fehler(Loss - Funktion )')\n",
    "plt . ylabel ('Fehler bzw . Loss ')\n",
    "plt . xlabel ('Epoche ')\n",
    "plt . legend ([ 'Training ', 'Test '] , loc='upper right')\n",
    "plt . show ()"
   ]
  },
  {
   "cell_type": "code",
   "execution_count": null,
   "metadata": {},
   "outputs": [],
   "source": []
  }
 ],
 "metadata": {
  "kernelspec": {
   "display_name": "Python 3",
   "language": "python",
   "name": "python3"
  },
  "language_info": {
   "codemirror_mode": {
    "name": "ipython",
    "version": 3
   },
   "file_extension": ".py",
   "mimetype": "text/x-python",
   "name": "python",
   "nbconvert_exporter": "python",
   "pygments_lexer": "ipython3",
   "version": "3.5.6"
  }
 },
 "nbformat": 4,
 "nbformat_minor": 2
}
