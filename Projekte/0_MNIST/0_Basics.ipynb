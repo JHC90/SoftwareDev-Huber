{
 "cells": [
  {
   "cell_type": "markdown",
   "metadata": {},
   "source": [
    "# MNIST\n",
    "Hier die ersten Schritte, für die Bearbeitung des MNIST-Datensatzes"
   ]
  },
  {
   "cell_type": "code",
   "execution_count": 2,
   "metadata": {},
   "outputs": [],
   "source": [
    "# Imports\n",
    "import urllib.request # für den Download\n",
    "import os # Für den Download\n",
    "import patoolib # für das entpacken der Daten || pip install patool\n",
    "from mlxtend.data import loadlocal_mnist # für das Laden der Train & Testdaten\n",
    "import matplotlib.pyplot as plt\n",
    "import random # bei der darstellung der Testbilder, sodass nicht immer die gleichan angezeigt werden"
   ]
  },
  {
   "cell_type": "markdown",
   "metadata": {},
   "source": [
    "# Download Data\n",
    "Die daten werden von der Webseite \" http://yann.lecun.com/exdb/mnist/ \" in das DAta-Directory heruntergeladen. Dieser Download findet aber nur statt, wenn die Daten noch nicht lokal am Rechner existieren.  "
   ]
  },
  {
   "cell_type": "code",
   "execution_count": 3,
   "metadata": {},
   "outputs": [],
   "source": [
    "listDownloadsAndNames = [\n",
    "    [\"http://yann.lecun.com/exdb/mnist/train-images-idx3-ubyte.gz\", \"TrainImages\"],\n",
    "    [\"http://yann.lecun.com/exdb/mnist/train-labels-idx1-ubyte.gz\", \"TrainLabels\"],\n",
    "    [\"http://yann.lecun.com/exdb/mnist/t10k-images-idx3-ubyte.gz\", \"TestImages\"],\n",
    "    [\"http://yann.lecun.com/exdb/mnist/t10k-labels-idx1-ubyte.gz\", \"TestLabels\"],\n",
    "]\n",
    "\n",
    "for test in range(0, len(listDownloadsAndNames),1):\n",
    "    if(os.path.exists('./DATA/'+ str(listDownloadsAndNames[test][1]) +'.gz')):\n",
    "        continue\n",
    "    else:\n",
    "        url = listDownloadsAndNames[test][0]\n",
    "        urllib.request.urlretrieve(url, './DATA/'+ str(listDownloadsAndNames[test][1]) + '.gz')\n",
    "        # für das Unzip kann man in Linux gunzip verwenden, das gibt es nicht in Windows\n",
    "        # in windows verwenden wir patoolib\n",
    "        patoolib.extract_archive('./DATA/'+ str(listDownloadsAndNames[test][1]) + '.gz', outdir=\"./DATA\")\n",
    "\n",
    "        \n",
    "        "
   ]
  },
  {
   "cell_type": "markdown",
   "metadata": {},
   "source": [
    "## Status\n",
    "Ich habe soweit die Daten heruntergeladen und entpackt"
   ]
  },
  {
   "cell_type": "markdown",
   "metadata": {},
   "source": [
    "# Laden der Train & Testdaten\n",
    "hier werden nun die Daten in die entsprechenden Variablen geladen\n"
   ]
  },
  {
   "cell_type": "code",
   "execution_count": 5,
   "metadata": {},
   "outputs": [
    {
     "name": "stdout",
     "output_type": "stream",
     "text": [
      "(60000, 784)\n",
      "(60000,)\n",
      "(10000, 784)\n",
      "(10000,)\n"
     ]
    }
   ],
   "source": [
    "print((train_X.shape))\n",
    "print((train_y.shape))\n",
    "print((test_X.shape))\n",
    "print((test_y.shape))"
   ]
  },
  {
   "cell_type": "code",
   "execution_count": 7,
   "metadata": {},
   "outputs": [],
   "source": [
    "train_X, train_y = loadlocal_mnist(\n",
    "        images_path='./Data/train-images.idx3-ubyte', \n",
    "        labels_path='./Data/train-labels.idx1-ubyte')\n",
    "\n",
    "test_X, test_y = loadlocal_mnist(\n",
    "        images_path='./Data/t10k-images.idx3-ubyte', \n",
    "        labels_path='./Data/t10k-labels.idx1-ubyte')"
   ]
  },
  {
   "cell_type": "code",
   "execution_count": 8,
   "metadata": {},
   "outputs": [
    {
     "name": "stdout",
     "output_type": "stream",
     "text": [
      "[  0   0   0   0   0   0   0   0   0   0   0   0   0   0   0   0   0   0\n",
      "   0   0   0   0   0   0   0   0   0   0   0   0   0   0   0   0   0   0\n",
      "   0   0   0   0   0   0   0   0   0   0   0   0   0   0   0   0   0   0\n",
      "   0   0   0   0   0   0   0   0   0   0   0   0   0   0   0   0   0   0\n",
      "   0   0   0   0   0   0   0   0   0   0   0   0   0   0   0   0   0   0\n",
      "   0   0   0   0   0   0   0   0   0   0   0   0   0   0   0   0   0   0\n",
      "   0   0   0   0   0   0   0   0   0   0   0   0   0   0   0   0   0   0\n",
      "   0   0   0   0   0   0   0   0   0   0   0   0   0   0   0   0   0  12\n",
      "  99  91 142 155 246 182 155 155 155 155 131  52   0   0   0   0   0   0\n",
      "   0   0   0   0   0   0   0   0   0 138 254 254 254 254 254 254 254 254\n",
      " 254 254 254 252 210 122  33   0   0   0   0   0   0   0   0   0   0   0\n",
      "   0 220 254 254 254 235 189 189 189 189 150 189 205 254 254 254  75   0\n",
      "   0   0   0   0   0   0   0   0   0   0   0  35  74  35  35  25   0   0\n",
      "   0   0   0   0  13 224 254 254 153   0   0   0   0   0   0   0   0   0\n",
      "   0   0   0   0   0   0   0   0   0   0   0   0   0   0  90 254 254 247\n",
      "  53   0   0   0   0   0   0   0   0   0   0   0   0   0   0   0   0   0\n",
      "   0   0   0   0   6 152 246 254 254  49   0   0   0   0   0   0   0   0\n",
      "   0   0   0   0   0   0   0   0   0   0   0   0   0  66 158 254 254 249\n",
      " 103   8   0   0   0   0   0   0   0   0   0   0   0   0   0   0   0   0\n",
      "   0   0   0   0  54 251 254 254 254 248  74   5   0   0   0   0   0   0\n",
      "   0   0   0   0   0   0   0   0   0   0   0   0   0   0 140 254 254 254\n",
      " 254 254 254 202 125  45   0   0   0   0   0   0   0   0   0   0   0   0\n",
      "   0   0   0   0   0   0  58 181 234 254 254 254 254 254 254 252 140  22\n",
      "   0   0   0   0   0   0   0   0   0   0   0   0   0   0   0   0   0   0\n",
      "  30  50  73 155 253 254 254 254 254 191   2   0   0   0   0   0   0   0\n",
      "   0   0   0   0   0   0   0   0   0   0   0   0   0   0  91 200 254 254\n",
      " 254 254 118   0   0   0   0   0   0   0   0   0   0   0   0   0   0   0\n",
      "   0   0   0   0   0   0   0   4 192 254 254 254 154   0   0   0   0   0\n",
      "   0   0   0   0   0   0   0   0   0   0   0   0   0   0   0   0   0   0\n",
      " 141 254 254 254 116   0   0   0   0   0   0   0   0   0   0   0   0   0\n",
      "  25 126  86   0   0   0   0   0   0   3 188 254 254 250  61   0   0   0\n",
      "   0   0   0   0   0   0   0   0   0  24 209 254  15   0   0   0   0   0\n",
      "  23 137 254 254 254 209   0   0   0   0   0   0   0   0   0   0   0   0\n",
      "   0 168 254 254  48   9   0   0   9 127 241 254 254 255 242  63   0   0\n",
      "   0   0   0   0   0   0   0   0   0   0   0 101 254 254 254 205 190 190\n",
      " 205 254 254 254 254 242  67   0   0   0   0   0   0   0   0   0   0   0\n",
      "   0   0   0  33 166 254 254 254 254 254 254 254 254 250 138  55   0   0\n",
      "   0   0   0   0   0   0   0   0   0   0   0   0   0   0   7  88 154 116\n",
      " 194 194 154 154  88  49   0   0   0   0   0   0   0   0   0   0   0   0\n",
      "   0   0   0   0   0   0   0   0   0   0   0   0   0   0   0   0   0   0\n",
      "   0   0   0   0   0   0   0   0   0   0   0   0   0   0   0   0   0   0\n",
      "   0   0   0   0   0   0   0   0   0   0   0   0   0   0   0   0   0   0\n",
      "   0   0   0   0   0   0   0   0   0   0   0   0   0   0   0   0   0   0\n",
      "   0   0   0   0   0   0   0   0   0   0]\n",
      "3\n"
     ]
    }
   ],
   "source": [
    "num = 12\n",
    "print(train_X[num])\n",
    "print(train_y[num])"
   ]
  },
  {
   "cell_type": "markdown",
   "metadata": {},
   "source": [
    "## Status\n",
    "Soweit sind nun die Daten allesamt als Numpy Araysgeladen,"
   ]
  },
  {
   "cell_type": "markdown",
   "metadata": {},
   "source": [
    "# Prüfung ob alle Daten das gleiche Shape haben\n",
    "Für unsere weiterführende Modellierung ist es wichtig, dass alle Daten das gleiche Shape haben(Shape = Pixelhöhe * Pixelbreite).\n",
    "Das kann bereits der Fall sein, muss aber im falle noch geprüft werden. Logischerweise muss dass nur für train_X & test_X durchgeführt machen, die Y data sind letztlich \"nur die labels\"\n",
    "\n",
    "Bei ungleichheiten kann man wie folgt vorgehen:\n",
    "* 1) Reshaping => alle Dateien auf die gleiche Größe skalieren\n",
    "* 2) Rand auffüllen => hierbei werden die größten Dimnesionen gesucht, und alle Bilder die kleinere Dimensionen aufweisen mit einem Leeren Rand aufgefüllt"
   ]
  },
  {
   "cell_type": "raw",
   "metadata": {},
   "source": [
    "# hier noch ne Function draus für trainx und testx\n",
    "for testPicture in range(0, len(test_X),1):\n",
    "    if((train_X[testPicture].shape)[0] == 784):\n",
    "        continue\n",
    "    else:\n",
    "        print(testPicture)"
   ]
  },
  {
   "cell_type": "code",
   "execution_count": 9,
   "metadata": {},
   "outputs": [
    {
     "name": "stdout",
     "output_type": "stream",
     "text": [
      "784\n"
     ]
    }
   ],
   "source": [
    "print(train_X[0].shape[0])"
   ]
  },
  {
   "cell_type": "code",
   "execution_count": 10,
   "metadata": {},
   "outputs": [],
   "source": [
    "# hier noch eine Function um zu prüfen ob die Bilder alle den gleichen Shape habe\n",
    "def checkConsistency(test):\n",
    "    for testPicture in range(0, len(test_X),1):\n",
    "        if((train_X[testPicture].shape)[0] == 784):\n",
    "            continue\n",
    "        else:\n",
    "            print(testPicture)\n",
    "checkConsistency(train_X)\n",
    "checkConsistency(test_X)\n",
    "            "
   ]
  },
  {
   "cell_type": "markdown",
   "metadata": {},
   "source": [
    "## Status\n",
    "Ohne eine weitere vorverarbeitung sind meine Daten alle im gleichen \"shape\". das heist ich muss in diesem Falle keine weiteren Änderungen vornhemn"
   ]
  },
  {
   "cell_type": "markdown",
   "metadata": {},
   "source": [
    "# Prüfung der Daten\n",
    "im folgenden können wir die Bilder einmal laden um die Bilder \"menschlich zu sichten\" und die Reihenfolge gegenzuprüfen. Es wäre letzlich nicht sinnvoll wenn die datensätze sequentiell wären, sprich wenn in den Tesdatensatz nur 8 und 9 aber nicht im train vorkäme. Zeitgleich prüfe ich (human-visuell) an dieser Stelle ob ich auch die richtigen Labels hab, dazu lass ich mir auch die Labels der Bilder ausgeben "
   ]
  },
  {
   "cell_type": "code",
   "execution_count": 11,
   "metadata": {},
   "outputs": [
    {
     "data": {
      "image/png": "[encoded data removed]",
      "text/plain": [
       "<Figure size 432x288 with 1 Axes>"
      ]
     },
     "metadata": {
      "needs_background": "light"
     },
     "output_type": "display_data"
    },
    {
     "name": "stdout",
     "output_type": "stream",
     "text": [
      "7\n",
      "###############################################\n"
     ]
    },
    {
     "data": {
      "image/png": "[encoded data removed]",
      "text/plain": [
       "<Figure size 432x288 with 1 Axes>"
      ]
     },
     "metadata": {
      "needs_background": "light"
     },
     "output_type": "display_data"
    },
    {
     "name": "stdout",
     "output_type": "stream",
     "text": [
      "2\n",
      "###############################################\n"
     ]
    },
    {
     "data": {
      "image/png": "[encoded data removed]",
      "text/plain": [
       "<Figure size 432x288 with 1 Axes>"
      ]
     },
     "metadata": {
      "needs_background": "light"
     },
     "output_type": "display_data"
    },
    {
     "name": "stdout",
     "output_type": "stream",
     "text": [
      "6\n",
      "###############################################\n"
     ]
    },
    {
     "data": {
      "image/png": "[encoded data removed]",
      "text/plain": [
       "<Figure size 432x288 with 1 Axes>"
      ]
     },
     "metadata": {
      "needs_background": "light"
     },
     "output_type": "display_data"
    },
    {
     "name": "stdout",
     "output_type": "stream",
     "text": [
      "9\n",
      "###############################################\n"
     ]
    },
    {
     "data": {
      "image/png": "[encoded data removed]",
      "text/plain": [
       "<Figure size 432x288 with 1 Axes>"
      ]
     },
     "metadata": {
      "needs_background": "light"
     },
     "output_type": "display_data"
    },
    {
     "name": "stdout",
     "output_type": "stream",
     "text": [
      "2\n",
      "###############################################\n"
     ]
    },
    {
     "data": {
      "image/png": "[encoded data removed]",
      "text/plain": [
       "<Figure size 432x288 with 1 Axes>"
      ]
     },
     "metadata": {
      "needs_background": "light"
     },
     "output_type": "display_data"
    },
    {
     "name": "stdout",
     "output_type": "stream",
     "text": [
      "2\n",
      "###############################################\n"
     ]
    },
    {
     "data": {
      "image/png": "[encoded data removed]",
      "text/plain": [
       "<Figure size 432x288 with 1 Axes>"
      ]
     },
     "metadata": {
      "needs_background": "light"
     },
     "output_type": "display_data"
    },
    {
     "name": "stdout",
     "output_type": "stream",
     "text": [
      "7\n",
      "###############################################\n"
     ]
    },
    {
     "data": {
      "image/png": "[encoded data removed]",
      "text/plain": [
       "<Figure size 432x288 with 1 Axes>"
      ]
     },
     "metadata": {
      "needs_background": "light"
     },
     "output_type": "display_data"
    },
    {
     "name": "stdout",
     "output_type": "stream",
     "text": [
      "8\n",
      "###############################################\n"
     ]
    },
    {
     "data": {
      "image/png": "[encoded data removed]",
      "text/plain": [
       "<Figure size 432x288 with 1 Axes>"
      ]
     },
     "metadata": {
      "needs_background": "light"
     },
     "output_type": "display_data"
    },
    {
     "name": "stdout",
     "output_type": "stream",
     "text": [
      "8\n",
      "###############################################\n"
     ]
    },
    {
     "data": {
      "image/png": "[encoded data removed]",
      "text/plain": [
       "<Figure size 432x288 with 1 Axes>"
      ]
     },
     "metadata": {
      "needs_background": "light"
     },
     "output_type": "display_data"
    },
    {
     "name": "stdout",
     "output_type": "stream",
     "text": [
      "6\n",
      "###############################################\n"
     ]
    }
   ],
   "source": [
    "for i in range(10):\n",
    "    # Zufallszahl, sodass ich nicht immer nur die ersten 10 sichte\n",
    "    j = random.randint(0, 60000)\n",
    "    img = train_X[j].reshape((28,28))\n",
    "    plt.imshow(img, cmap=\"Greys\")\n",
    "    plt.show()\n",
    "    print(train_y[j])\n",
    "    print(\"###############################################\")"
   ]
  },
  {
   "cell_type": "markdown",
   "metadata": {},
   "source": [
    "## Beispielbilder, welche wir in den folgenden Modellierungen immer mal wieder brauchen"
   ]
  },
  {
   "cell_type": "code",
   "execution_count": 12,
   "metadata": {},
   "outputs": [
    {
     "data": {
      "image/png": "[encoded data removed]",
      "text/plain": [
       "<Figure size 432x288 with 1 Axes>"
      ]
     },
     "metadata": {
      "needs_background": "light"
     },
     "output_type": "display_data"
    },
    {
     "name": "stdout",
     "output_type": "stream",
     "text": [
      "1\n",
      "###############################################\n"
     ]
    },
    {
     "data": {
      "image/png": "[encoded data removed]",
      "text/plain": [
       "<Figure size 432x288 with 1 Axes>"
      ]
     },
     "metadata": {
      "needs_background": "light"
     },
     "output_type": "display_data"
    },
    {
     "name": "stdout",
     "output_type": "stream",
     "text": [
      "4\n",
      "###############################################\n"
     ]
    },
    {
     "data": {
      "image/png": "[encoded data removed]",
      "text/plain": [
       "<Figure size 432x288 with 1 Axes>"
      ]
     },
     "metadata": {
      "needs_background": "light"
     },
     "output_type": "display_data"
    },
    {
     "name": "stdout",
     "output_type": "stream",
     "text": [
      "3\n",
      "###############################################\n"
     ]
    },
    {
     "data": {
      "image/png": "[encoded data removed]",
      "text/plain": [
       "<Figure size 432x288 with 1 Axes>"
      ]
     },
     "metadata": {
      "needs_background": "light"
     },
     "output_type": "display_data"
    },
    {
     "name": "stdout",
     "output_type": "stream",
     "text": [
      "3\n",
      "###############################################\n"
     ]
    },
    {
     "data": {
      "image/png": "[encoded data removed]",
      "text/plain": [
       "<Figure size 432x288 with 1 Axes>"
      ]
     },
     "metadata": {
      "needs_background": "light"
     },
     "output_type": "display_data"
    },
    {
     "name": "stdout",
     "output_type": "stream",
     "text": [
      "0\n",
      "###############################################\n"
     ]
    }
   ],
   "source": [
    "bspImgs= [3,9,50,5001,3490]\n",
    "# das sind [1,4,3,3,0] \n",
    "for i in range(len(bspImgs)):\n",
    "    j = bspImgs[i]\n",
    "    img = train_X[j].reshape((28,28))\n",
    "    plt.imshow(img, cmap=\"Greys\")\n",
    "    plt.show()\n",
    "    print(train_y[j])\n",
    "    print(\"###############################################\")"
   ]
  },
  {
   "cell_type": "markdown",
   "metadata": {},
   "source": [
    "## Status\n",
    "Die Daten sind somit ausreichend Vorverarbeitet, sodass eine Modellierung beginnen kann. Dies ist normalerweise nicht der Fall. Da MNIST aber in gewissen Grade das \"Hello-World\" der CNNs ist, belästigt man den Lernenden zunächst nicht mit dem \"Data-Preprocessing-Overhead\""
   ]
  },
  {
   "cell_type": "code",
   "execution_count": null,
   "metadata": {},
   "outputs": [],
   "source": []
  }
 ],
 "metadata": {
  "kernelspec": {
   "display_name": "Python 3",
   "language": "python",
   "name": "python3"
  },
  "language_info": {
   "codemirror_mode": {
    "name": "ipython",
    "version": 3
   },
   "file_extension": ".py",
   "mimetype": "text/x-python",
   "name": "python",
   "nbconvert_exporter": "python",
   "pygments_lexer": "ipython3",
   "version": "3.5.6"
  }
 },
 "nbformat": 4,
 "nbformat_minor": 2
}
