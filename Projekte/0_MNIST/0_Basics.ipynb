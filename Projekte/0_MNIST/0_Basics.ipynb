{
 "cells": [
  {
   "cell_type": "markdown",
   "metadata": {},
   "source": [
    "# MNIST\n",
    "In diesen notebook werden die Daten heruntergeladen und gesichtet. Je nach Implementierung benötigen wir die Daten in unterschiedlichen Shapes (Vektor oder Matrix). Somit wird zunächst die Datenbeschaffung erklärt. <br>\n",
    "Anschließend sichten wir die Daten erstmalig"
   ]
  },
  {
   "cell_type": "code",
   "execution_count": 1,
   "metadata": {},
   "outputs": [],
   "source": [
    "# Imports\n",
    "import urllib.request # für den Download\n",
    "import os # Für den Download\n",
    "import patoolib # für das entpacken der Daten || pip install patool\n",
    "from mlxtend.data import loadlocal_mnist # für das Laden der Train & Testdaten\n",
    "import matplotlib.pyplot as plt\n",
    "import random # bei der darstellung der Testbilder, sodass nicht immer die gleichan angezeigt werden\n",
    "import numpy as np"
   ]
  },
  {
   "cell_type": "markdown",
   "metadata": {},
   "source": [
    "# Download Data\n",
    "Die daten werden von der Webseite \" http://yann.lecun.com/exdb/mnist/ \" in das Data-Directory heruntergeladen. Dieser Download findet aber nur statt, wenn die Daten noch nicht lokal am Rechner existieren. => im Git-Repo ist dieses Verzeichnis via .gitignore exkludiert  "
   ]
  },
  {
   "cell_type": "code",
   "execution_count": 2,
   "metadata": {},
   "outputs": [],
   "source": [
    "listDownloadsAndNames = [\n",
    "    [\"http://yann.lecun.com/exdb/mnist/train-images-idx3-ubyte.gz\", \"TrainImages\"],\n",
    "    [\"http://yann.lecun.com/exdb/mnist/train-labels-idx1-ubyte.gz\", \"TrainLabels\"],\n",
    "    [\"http://yann.lecun.com/exdb/mnist/t10k-images-idx3-ubyte.gz\", \"TestImages\"],\n",
    "    [\"http://yann.lecun.com/exdb/mnist/t10k-labels-idx1-ubyte.gz\", \"TestLabels\"],\n",
    "]\n",
    "\n",
    "for test in range(0, len(listDownloadsAndNames),1):\n",
    "    if(os.path.exists('./DATA/'+ str(listDownloadsAndNames[test][1]) +'.gz')):\n",
    "        continue\n",
    "    else:\n",
    "        url = listDownloadsAndNames[test][0]\n",
    "        urllib.request.urlretrieve(url, './DATA/'+ str(listDownloadsAndNames[test][1]) + '.gz')\n",
    "        # für das Unzip kann man in Linux gunzip verwenden, das gibt es nicht in Windows\n",
    "        # in windows verwenden wir patoolib\n",
    "        patoolib.extract_archive('./DATA/'+ str(listDownloadsAndNames[test][1]) + '.gz', outdir=\"./DATA\")\n",
    "\n",
    "        \n",
    "        "
   ]
  },
  {
   "cell_type": "markdown",
   "metadata": {},
   "source": [
    "## Status\n",
    "Ich habe soweit die Daten heruntergeladen und entpackt"
   ]
  },
  {
   "cell_type": "markdown",
   "metadata": {},
   "source": [
    "# Laden der Train & Testdaten\n",
    "hier werden nun die Daten in die entsprechenden Variablen geladen\n"
   ]
  },
  {
   "cell_type": "code",
   "execution_count": 3,
   "metadata": {},
   "outputs": [],
   "source": [
    "train_X, train_y = loadlocal_mnist(\n",
    "        images_path='./Data/train-images.idx3-ubyte', \n",
    "        labels_path='./Data/train-labels.idx1-ubyte')\n",
    "\n",
    "test_X, test_y = loadlocal_mnist(\n",
    "        images_path='./Data/t10k-images.idx3-ubyte', \n",
    "        labels_path='./Data/t10k-labels.idx1-ubyte')"
   ]
  },
  {
   "cell_type": "code",
   "execution_count": 4,
   "metadata": {},
   "outputs": [
    {
     "name": "stdout",
     "output_type": "stream",
     "text": [
      "(60000, 784)\n",
      "(60000,)\n",
      "(10000, 784)\n",
      "(10000,)\n"
     ]
    }
   ],
   "source": [
    "print((train_X.shape))\n",
    "print((train_y.shape))\n",
    "print((test_X.shape))\n",
    "print((test_y.shape))"
   ]
  },
  {
   "cell_type": "markdown",
   "metadata": {},
   "source": [
    "Der Shape der Bilder oben ist 60000/10000 Instanzen von Vektoren aus jeweils 784 Elementen. Dieser Shape ist für die Verwendung innerhalb von Neuronalen Netzen und Machine-Learning perfekt. Für die Verwendung von CNNs müssten die Daten jedoch in Matrizen Form vorliegen. Aus diesem Grund beschaffen wir im nächsten Junk die Daten auf einem weiteren wege"
   ]
  },
  {
   "cell_type": "markdown",
   "metadata": {},
   "source": [
    "## Option1: Neues Laden des Datensatzes von Keras"
   ]
  },
  {
   "cell_type": "code",
   "execution_count": 5,
   "metadata": {},
   "outputs": [
    {
     "name": "stderr",
     "output_type": "stream",
     "text": [
      "Using TensorFlow backend.\n",
      "c:\\users\\1810837475\\.conda\\envs\\testtensorflow\\lib\\site-packages\\tensorflow\\python\\framework\\dtypes.py:516: FutureWarning: Passing (type, 1) or '1type' as a synonym of type is deprecated; in a future version of numpy, it will be understood as (type, (1,)) / '(1,)type'.\n",
      "  _np_qint8 = np.dtype([(\"qint8\", np.int8, 1)])\n",
      "c:\\users\\1810837475\\.conda\\envs\\testtensorflow\\lib\\site-packages\\tensorflow\\python\\framework\\dtypes.py:517: FutureWarning: Passing (type, 1) or '1type' as a synonym of type is deprecated; in a future version of numpy, it will be understood as (type, (1,)) / '(1,)type'.\n",
      "  _np_quint8 = np.dtype([(\"quint8\", np.uint8, 1)])\n",
      "c:\\users\\1810837475\\.conda\\envs\\testtensorflow\\lib\\site-packages\\tensorflow\\python\\framework\\dtypes.py:518: FutureWarning: Passing (type, 1) or '1type' as a synonym of type is deprecated; in a future version of numpy, it will be understood as (type, (1,)) / '(1,)type'.\n",
      "  _np_qint16 = np.dtype([(\"qint16\", np.int16, 1)])\n",
      "c:\\users\\1810837475\\.conda\\envs\\testtensorflow\\lib\\site-packages\\tensorflow\\python\\framework\\dtypes.py:519: FutureWarning: Passing (type, 1) or '1type' as a synonym of type is deprecated; in a future version of numpy, it will be understood as (type, (1,)) / '(1,)type'.\n",
      "  _np_quint16 = np.dtype([(\"quint16\", np.uint16, 1)])\n",
      "c:\\users\\1810837475\\.conda\\envs\\testtensorflow\\lib\\site-packages\\tensorflow\\python\\framework\\dtypes.py:520: FutureWarning: Passing (type, 1) or '1type' as a synonym of type is deprecated; in a future version of numpy, it will be understood as (type, (1,)) / '(1,)type'.\n",
      "  _np_qint32 = np.dtype([(\"qint32\", np.int32, 1)])\n",
      "c:\\users\\1810837475\\.conda\\envs\\testtensorflow\\lib\\site-packages\\tensorflow\\python\\framework\\dtypes.py:525: FutureWarning: Passing (type, 1) or '1type' as a synonym of type is deprecated; in a future version of numpy, it will be understood as (type, (1,)) / '(1,)type'.\n",
      "  np_resource = np.dtype([(\"resource\", np.ubyte, 1)])\n",
      "c:\\users\\1810837475\\.conda\\envs\\testtensorflow\\lib\\site-packages\\tensorboard\\compat\\tensorflow_stub\\dtypes.py:541: FutureWarning: Passing (type, 1) or '1type' as a synonym of type is deprecated; in a future version of numpy, it will be understood as (type, (1,)) / '(1,)type'.\n",
      "  _np_qint8 = np.dtype([(\"qint8\", np.int8, 1)])\n",
      "c:\\users\\1810837475\\.conda\\envs\\testtensorflow\\lib\\site-packages\\tensorboard\\compat\\tensorflow_stub\\dtypes.py:542: FutureWarning: Passing (type, 1) or '1type' as a synonym of type is deprecated; in a future version of numpy, it will be understood as (type, (1,)) / '(1,)type'.\n",
      "  _np_quint8 = np.dtype([(\"quint8\", np.uint8, 1)])\n",
      "c:\\users\\1810837475\\.conda\\envs\\testtensorflow\\lib\\site-packages\\tensorboard\\compat\\tensorflow_stub\\dtypes.py:543: FutureWarning: Passing (type, 1) or '1type' as a synonym of type is deprecated; in a future version of numpy, it will be understood as (type, (1,)) / '(1,)type'.\n",
      "  _np_qint16 = np.dtype([(\"qint16\", np.int16, 1)])\n",
      "c:\\users\\1810837475\\.conda\\envs\\testtensorflow\\lib\\site-packages\\tensorboard\\compat\\tensorflow_stub\\dtypes.py:544: FutureWarning: Passing (type, 1) or '1type' as a synonym of type is deprecated; in a future version of numpy, it will be understood as (type, (1,)) / '(1,)type'.\n",
      "  _np_quint16 = np.dtype([(\"quint16\", np.uint16, 1)])\n",
      "c:\\users\\1810837475\\.conda\\envs\\testtensorflow\\lib\\site-packages\\tensorboard\\compat\\tensorflow_stub\\dtypes.py:545: FutureWarning: Passing (type, 1) or '1type' as a synonym of type is deprecated; in a future version of numpy, it will be understood as (type, (1,)) / '(1,)type'.\n",
      "  _np_qint32 = np.dtype([(\"qint32\", np.int32, 1)])\n",
      "c:\\users\\1810837475\\.conda\\envs\\testtensorflow\\lib\\site-packages\\tensorboard\\compat\\tensorflow_stub\\dtypes.py:550: FutureWarning: Passing (type, 1) or '1type' as a synonym of type is deprecated; in a future version of numpy, it will be understood as (type, (1,)) / '(1,)type'.\n",
      "  np_resource = np.dtype([(\"resource\", np.ubyte, 1)])\n"
     ]
    }
   ],
   "source": [
    "import keras\n",
    "from keras.datasets import mnist\n",
    "(X_train, y_train), (X_test, y_test) = mnist.load_data()"
   ]
  },
  {
   "cell_type": "code",
   "execution_count": 6,
   "metadata": {},
   "outputs": [
    {
     "name": "stdout",
     "output_type": "stream",
     "text": [
      "(60000, 28, 28)\n",
      "(60000,)\n",
      "(10000, 28, 28)\n",
      "(10000,)\n"
     ]
    }
   ],
   "source": [
    "print((X_train.shape))\n",
    "print((y_train.shape))\n",
    "print((X_test.shape))\n",
    "print((y_test.shape))"
   ]
  },
  {
   "cell_type": "markdown",
   "metadata": {},
   "source": [
    "## Option2a: Transformieren des Datensatzes mittels reshape in Matrize"
   ]
  },
  {
   "cell_type": "code",
   "execution_count": 7,
   "metadata": {},
   "outputs": [],
   "source": [
    "X_train2 = X_train.astype(np.float32).reshape(-1, 28,28) / 255.0\n",
    "X_test2 = X_test.astype(np.float32).reshape(-1, 28,28) / 255.0\n",
    "y_train2 = y_train.astype(np.int32)\n",
    "y_test2 = y_test.astype(np.int32)"
   ]
  },
  {
   "cell_type": "code",
   "execution_count": 8,
   "metadata": {},
   "outputs": [
    {
     "name": "stdout",
     "output_type": "stream",
     "text": [
      "(60000, 28, 28)\n",
      "(60000,)\n",
      "(10000, 28, 28)\n",
      "(10000,)\n"
     ]
    }
   ],
   "source": [
    "print((X_train2.shape))\n",
    "print((y_train2.shape))\n",
    "print((X_test2.shape))\n",
    "print((y_test2.shape))"
   ]
  },
  {
   "cell_type": "markdown",
   "metadata": {},
   "source": [
    "## Option2b: Transformieren des Datensatzes mittels reshape zurück in Vector\n",
    "Der Vollständigkeit halber werden hier noch im Weiteren die Rücktransformation zur Matritze gelistet."
   ]
  },
  {
   "cell_type": "raw",
   "metadata": {},
   "source": [
    "X_train3 = X_train2.astype(np.float32).reshape(-1, 28*28) / 255.0\n",
    "X_test3 = X_test2.astype(np.float32).reshape(-1, 28*28) / 255.0\n",
    "y_train3 = y_train2.astype(np.int32)\n",
    "y_test3 = y_test2.astype(np.int32)\n",
    "print((X_train3.shape))\n",
    "print((y_train3.shape))\n",
    "print((X_test3.shape))\n",
    "print((y_test3.shape))"
   ]
  },
  {
   "cell_type": "markdown",
   "metadata": {},
   "source": [
    "Die Bilder durch die Einbindung via Keras, oder die beschriebene Transformation sind nun in dem Shape für ein CNN"
   ]
  },
  {
   "cell_type": "markdown",
   "metadata": {},
   "source": [
    "Im folgenden Arbeite ich zunächst Ausschließlich mit den Vektordaten aus der erten Datenbeschaffung weiter. "
   ]
  },
  {
   "cell_type": "code",
   "execution_count": 10,
   "metadata": {},
   "outputs": [],
   "source": [
    "train_X, train_y = loadlocal_mnist(\n",
    "        images_path='./Data/train-images.idx3-ubyte', \n",
    "        labels_path='./Data/train-labels.idx1-ubyte')\n",
    "\n",
    "test_X, test_y = loadlocal_mnist(\n",
    "        images_path='./Data/t10k-images.idx3-ubyte', \n",
    "        labels_path='./Data/t10k-labels.idx1-ubyte')"
   ]
  },
  {
   "cell_type": "markdown",
   "metadata": {},
   "source": [
    "# Prüfung ob alle Daten das gleiche shape haben\n",
    "Für unsere weiterführende Modellierung ist es wichtig, dass alle Daten das gleiche Shape haben(Shape = Pixelhöhe * Pixelbreite).\n",
    "Das kann bereits der Fall sein, muss aber im falle noch geprüft werden. Logischerweise muss dass nur für train_X & test_X durchgeführt machen, die Y data sind letztlich \"nur die labels\"\n",
    "\n",
    "Bei ungleichheiten kann man wie folgt vorgehen:\n",
    "* Reshaping => alle Dateien auf die gleiche Größe skalieren\n",
    "* Rand auffüllen => hierbei werden die größten Dimnesionen gesucht, und alle Bilder die kleinere Dimensionen aufweisen mit einem Leeren Rand aufgefüllt"
   ]
  },
  {
   "cell_type": "code",
   "execution_count": 11,
   "metadata": {},
   "outputs": [],
   "source": [
    "# hier noch eine Function um zu prüfen ob die Bilder alle den gleichen Shape habe\n",
    "def checkConsistency(test):\n",
    "    for testPicture in range(0, len(test_X),1):\n",
    "        if((train_X[testPicture].shape)[0] == 784):\n",
    "            continue\n",
    "        else:\n",
    "            print(testPicture)\n",
    "checkConsistency(train_X)\n",
    "checkConsistency(test_X)\n",
    "            "
   ]
  },
  {
   "cell_type": "markdown",
   "metadata": {},
   "source": [
    "## Status\n",
    "Ohne eine weitere Vorverarbeitung sind die vorliegenden vektorisierten Daten im gleichen \"Shape\". das heist ich muss in diesem Falle keine weiteren Änderungen vornehmen für die Verwendung in Neuronalen Netzen. Für die Verwendung von CNNs benötigen wir jedoch die input daten als 2d oder 3d daten"
   ]
  },
  {
   "cell_type": "markdown",
   "metadata": {},
   "source": [
    "# Prüfung & Sichtung der Daten\n",
    "im folgenden können wir die Bilder einmal laden um die Bilder \"menschlich zu sichten\" und die Reihenfolge gegenzuprüfen. Es wäre letzlich nicht sinnvoll wenn die datensätze sequentiell wären, sprich wenn in den Tesdatensatz nur 8 und 9 aber nicht im train vorkäme. Zeitgleich prüfe ich (human-visuell) an dieser Stelle ob ich auch die richtigen Labels hab, dazu lass ich mir auch die Labels der Bilder ausgeben "
   ]
  },
  {
   "cell_type": "code",
   "execution_count": 12,
   "metadata": {},
   "outputs": [
    {
     "data": {
      "image/png": "[encoded data removed]",
      "text/plain": [
       "<Figure size 432x288 with 1 Axes>"
      ]
     },
     "metadata": {
      "needs_background": "light"
     },
     "output_type": "display_data"
    },
    {
     "name": "stdout",
     "output_type": "stream",
     "text": [
      "8\n",
      "###############################################\n"
     ]
    },
    {
     "data": {
      "image/png": "[encoded data removed]",
      "text/plain": [
       "<Figure size 432x288 with 1 Axes>"
      ]
     },
     "metadata": {
      "needs_background": "light"
     },
     "output_type": "display_data"
    },
    {
     "name": "stdout",
     "output_type": "stream",
     "text": [
      "9\n",
      "###############################################\n"
     ]
    },
    {
     "data": {
      "image/png": "[encoded data removed]",
      "text/plain": [
       "<Figure size 432x288 with 1 Axes>"
      ]
     },
     "metadata": {
      "needs_background": "light"
     },
     "output_type": "display_data"
    },
    {
     "name": "stdout",
     "output_type": "stream",
     "text": [
      "0\n",
      "###############################################\n"
     ]
    },
    {
     "data": {
      "image/png": "[encoded data removed]",
      "text/plain": [
       "<Figure size 432x288 with 1 Axes>"
      ]
     },
     "metadata": {
      "needs_background": "light"
     },
     "output_type": "display_data"
    },
    {
     "name": "stdout",
     "output_type": "stream",
     "text": [
      "8\n",
      "###############################################\n"
     ]
    },
    {
     "data": {
      "image/png": "[encoded data removed]",
      "text/plain": [
       "<Figure size 432x288 with 1 Axes>"
      ]
     },
     "metadata": {
      "needs_background": "light"
     },
     "output_type": "display_data"
    },
    {
     "name": "stdout",
     "output_type": "stream",
     "text": [
      "7\n",
      "###############################################\n"
     ]
    },
    {
     "data": {
      "image/png": "[encoded data removed]",
      "text/plain": [
       "<Figure size 432x288 with 1 Axes>"
      ]
     },
     "metadata": {
      "needs_background": "light"
     },
     "output_type": "display_data"
    },
    {
     "name": "stdout",
     "output_type": "stream",
     "text": [
      "7\n",
      "###############################################\n"
     ]
    },
    {
     "data": {
      "image/png": "[encoded data removed]",
      "text/plain": [
       "<Figure size 432x288 with 1 Axes>"
      ]
     },
     "metadata": {
      "needs_background": "light"
     },
     "output_type": "display_data"
    },
    {
     "name": "stdout",
     "output_type": "stream",
     "text": [
      "7\n",
      "###############################################\n"
     ]
    },
    {
     "data": {
      "image/png": "[encoded data removed]",
      "text/plain": [
       "<Figure size 432x288 with 1 Axes>"
      ]
     },
     "metadata": {
      "needs_background": "light"
     },
     "output_type": "display_data"
    },
    {
     "name": "stdout",
     "output_type": "stream",
     "text": [
      "5\n",
      "###############################################\n"
     ]
    },
    {
     "data": {
      "image/png": "[encoded data removed]",
      "text/plain": [
       "<Figure size 432x288 with 1 Axes>"
      ]
     },
     "metadata": {
      "needs_background": "light"
     },
     "output_type": "display_data"
    },
    {
     "name": "stdout",
     "output_type": "stream",
     "text": [
      "6\n",
      "###############################################\n"
     ]
    },
    {
     "data": {
      "image/png": "[encoded data removed]",
      "text/plain": [
       "<Figure size 432x288 with 1 Axes>"
      ]
     },
     "metadata": {
      "needs_background": "light"
     },
     "output_type": "display_data"
    },
    {
     "name": "stdout",
     "output_type": "stream",
     "text": [
      "5\n",
      "###############################################\n"
     ]
    }
   ],
   "source": [
    "for i in range(10):\n",
    "    # Zufallszahl, sodass ich nicht immer nur die ersten 10 sichte\n",
    "    j = random.randint(0, 60000)\n",
    "    img = train_X[j].reshape((28,28))\n",
    "    plt.imshow(img, cmap=\"Greys\")\n",
    "    plt.show()\n",
    "    print(train_y[j])\n",
    "    print(\"###############################################\")"
   ]
  },
  {
   "cell_type": "markdown",
   "metadata": {},
   "source": [
    "## Beispielbilder, welche wir in den folgenden Modellierungen immer mal wieder brauchen"
   ]
  },
  {
   "cell_type": "code",
   "execution_count": 61,
   "metadata": {},
   "outputs": [
    {
     "data": {
      "image/png": "[encoded data removed]",
      "text/plain": [
       "<Figure size 432x288 with 1 Axes>"
      ]
     },
     "metadata": {
      "needs_background": "light"
     },
     "output_type": "display_data"
    },
    {
     "name": "stdout",
     "output_type": "stream",
     "text": [
      "1\n",
      "###############################################\n"
     ]
    },
    {
     "data": {
      "image/png": "[encoded data removed]",
      "text/plain": [
       "<Figure size 432x288 with 1 Axes>"
      ]
     },
     "metadata": {
      "needs_background": "light"
     },
     "output_type": "display_data"
    },
    {
     "name": "stdout",
     "output_type": "stream",
     "text": [
      "4\n",
      "###############################################\n"
     ]
    },
    {
     "data": {
      "image/png": "[encoded data removed]",
      "text/plain": [
       "<Figure size 432x288 with 1 Axes>"
      ]
     },
     "metadata": {
      "needs_background": "light"
     },
     "output_type": "display_data"
    },
    {
     "name": "stdout",
     "output_type": "stream",
     "text": [
      "3\n",
      "###############################################\n"
     ]
    },
    {
     "data": {
      "image/png": "[encoded data removed]",
      "text/plain": [
       "<Figure size 432x288 with 1 Axes>"
      ]
     },
     "metadata": {
      "needs_background": "light"
     },
     "output_type": "display_data"
    },
    {
     "name": "stdout",
     "output_type": "stream",
     "text": [
      "3\n",
      "###############################################\n"
     ]
    },
    {
     "data": {
      "image/png": "[encoded data removed]",
      "text/plain": [
       "<Figure size 432x288 with 1 Axes>"
      ]
     },
     "metadata": {
      "needs_background": "light"
     },
     "output_type": "display_data"
    },
    {
     "name": "stdout",
     "output_type": "stream",
     "text": [
      "0\n",
      "###############################################\n"
     ]
    }
   ],
   "source": [
    "bspImgs= [3,9,50,5001,3490]\n",
    "# das sind [1,4,3,3,0] \n",
    "for i in range(len(bspImgs)):\n",
    "    j = bspImgs[i]\n",
    "    img = train_X[j].reshape((28,28))\n",
    "    plt.imshow(img, cmap=\"Greys\")\n",
    "    plt.show()\n",
    "    print(train_y[j])\n",
    "    print(\"###############################################\")"
   ]
  },
  {
   "cell_type": "markdown",
   "metadata": {},
   "source": [
    "## Status\n",
    "Die Daten sind somit ausreichend vorverarbeitet, sodass eine Modellierung beginnen kann. Dies ist normalerweise nicht der Fall. Da MNIST aber in gewissen Grade das \"Hello-World\" der CNNs ist, belästigt man den Lernenden zunächst nicht mit dem \"Data-Preprocessing-Overhead\""
   ]
  },
  {
   "cell_type": "code",
   "execution_count": null,
   "metadata": {},
   "outputs": [],
   "source": []
  }
 ],
 "metadata": {
  "kernelspec": {
   "display_name": "Python 3",
   "language": "python",
   "name": "python3"
  },
  "language_info": {
   "codemirror_mode": {
    "name": "ipython",
    "version": 3
   },
   "file_extension": ".py",
   "mimetype": "text/x-python",
   "name": "python",
   "nbconvert_exporter": "python",
   "pygments_lexer": "ipython3",
   "version": "3.5.6"
  }
 },
 "nbformat": 4,
 "nbformat_minor": 2
}
